{
 "cells": [
  {
   "cell_type": "markdown",
   "metadata": {},
   "source": [
    "# Summary\n",
    "\n",
    "The `Parquet` file format is technically supported in R through the [Apache Arrow](https://github.com/apache/arrow/tree/master/r) project. However, the project is \n",
    "early stage enough that their C++ repo needs to be compiled, etc. It's easier to\n",
    "use Python, convert parquet to CSV files, then use R.\n",
    "\n",
    "This notebook use converts Parquet files to CSV files."
   ]
  },
  {
   "cell_type": "code",
   "execution_count": 2,
   "metadata": {},
   "outputs": [],
   "source": [
    "import os\n",
    "\n",
    "import pandas as pd"
   ]
  },
  {
   "cell_type": "code",
   "execution_count": 3,
   "metadata": {},
   "outputs": [
    {
     "name": "stdout",
     "output_type": "stream",
     "text": [
      "/Users/tylerbrown/code/author_2019-04-20_0.parquet\r\n",
      "/Users/tylerbrown/code/commit_file_2019-04-20_0.parquet\r\n",
      "/Users/tylerbrown/code/commit_file_2019-04-20_1.parquet\r\n",
      "/Users/tylerbrown/code/contrib_2019-04-20_0.parquet\r\n",
      "/Users/tylerbrown/code/df_features_20190424.parquet\r\n",
      "/Users/tylerbrown/code/df_target_20190424.parquet\r\n",
      "/Users/tylerbrown/code/features_apache__LOGDF__attic-lucy.parquet\r\n",
      "/Users/tylerbrown/code/features_apache__LOGDF__attic-wink.parquet\r\n",
      "/Users/tylerbrown/code/features_apache__LOGDF__lucene-solr.parquet\r\n",
      "/Users/tylerbrown/code/features_apache__LOGDF__spark.parquet\r\n",
      "/Users/tylerbrown/code/features_docker__LOGDF__docker-ce.parquet\r\n",
      "/Users/tylerbrown/code/features_torvalds__LOGDF__linux.parquet\r\n",
      "/Users/tylerbrown/code/info_2019-04-20_0.parquet\r\n",
      "/Users/tylerbrown/code/meta_2019-04-20_0.parquet\r\n",
      "/Users/tylerbrown/code/target_apache__LOGDF__attic-lucy.parquet\r\n",
      "/Users/tylerbrown/code/target_apache__LOGDF__attic-wink.parquet\r\n",
      "/Users/tylerbrown/code/target_apache__LOGDF__lucene-solr.parquet\r\n",
      "/Users/tylerbrown/code/target_apache__LOGDF__spark.parquet\r\n",
      "/Users/tylerbrown/code/target_docker__LOGDF__docker-ce.parquet\r\n",
      "/Users/tylerbrown/code/target_torvalds__LOGDF__linux.parquet\r\n"
     ]
    }
   ],
   "source": [
    "! ls /Users/tylerbrown/code/*.parquet"
   ]
  },
  {
   "cell_type": "code",
   "execution_count": 6,
   "metadata": {},
   "outputs": [],
   "source": [
    "rcompat = '/Users/tylerbrown/code/rcompat'\n",
    "if not os.path.exists(rcompat):\n",
    "    os.mkdir(rcompat)"
   ]
  },
  {
   "cell_type": "code",
   "execution_count": 7,
   "metadata": {},
   "outputs": [],
   "source": [
    "commits = pd.read_parquet('/Users/tylerbrown/code/commit_file_2019-04-20_0.parquet', 'pyarrow')\\\n",
    ".append(pd.read_parquet('/Users/tylerbrown/code/commit_file_2019-04-20_1.parquet', 'pyarrow'))\\\n",
    ".to_csv('/Users/tylerbrown/code/rcompat/commits_prototype.csv')"
   ]
  },
  {
   "cell_type": "code",
   "execution_count": 8,
   "metadata": {},
   "outputs": [],
   "source": [
    "authors = pd.read_parquet('/Users/tylerbrown/code/author_2019-04-20_0.parquet', 'pyarrow')\\\n",
    ".to_csv('/Users/tylerbrown/code/rcompat/authors_prototype.csv')"
   ]
  },
  {
   "cell_type": "code",
   "execution_count": 13,
   "metadata": {},
   "outputs": [],
   "source": [
    "meta = pd.read_parquet('/Users/tylerbrown/code/meta_2019-04-20_0.parquet', 'pyarrow')\\\n",
    ".to_csv('/Users/tylerbrown/code/rcompat/meta_prototype.csv')"
   ]
  },
  {
   "cell_type": "code",
   "execution_count": 3,
   "metadata": {},
   "outputs": [],
   "source": [
    "# df_features\n",
    "\n",
    "pd.read_parquet('/Users/tylerbrown/Downloads/df_features_20190424.parquet', 'pyarrow')\\\n",
    ".to_csv('/Users/tylerbrown/code/rcompat/df_features_20190424.csv')"
   ]
  },
  {
   "cell_type": "code",
   "execution_count": 4,
   "metadata": {},
   "outputs": [],
   "source": [
    "# df_target\n",
    "\n",
    "pd.read_parquet('/Users/tylerbrown/Downloads/df_target_20190424.parquet', 'pyarrow')\\\n",
    ".to_csv('/Users/tylerbrown/code/rcompat/df_target_20190424.csv')"
   ]
  },
  {
   "cell_type": "code",
   "execution_count": 5,
   "metadata": {},
   "outputs": [
    {
     "name": "stdout",
     "output_type": "stream",
     "text": [
      "authors_prototype.csv     df_features_20190424.csv  meta_prototype.csv\r\n",
      "commits_prototype.csv     df_target_20190424.csv\r\n"
     ]
    }
   ],
   "source": [
    "ls /Users/tylerbrown/code/rcompat/"
   ]
  },
  {
   "cell_type": "code",
   "execution_count": null,
   "metadata": {},
   "outputs": [],
   "source": []
  }
 ],
 "metadata": {
  "kernelspec": {
   "display_name": "Python 3",
   "language": "python",
   "name": "python3"
  },
  "language_info": {
   "codemirror_mode": {
    "name": "ipython",
    "version": 3
   },
   "file_extension": ".py",
   "mimetype": "text/x-python",
   "name": "python",
   "nbconvert_exporter": "python",
   "pygments_lexer": "ipython3",
   "version": "3.6.8"
  }
 },
 "nbformat": 4,
 "nbformat_minor": 2
}
