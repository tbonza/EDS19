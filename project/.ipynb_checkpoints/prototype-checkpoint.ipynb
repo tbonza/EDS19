{
 "cells": [
  {
   "cell_type": "markdown",
   "metadata": {},
   "source": [
    "# Summary\n",
    "\n",
    "We're interested in GitHub project health. I first establish a baseline\n",
    "using known successful projects and projects which were previously successful\n",
    "but have now been retired. This notebook is intended to get the basic working\n",
    "thing together then we can scale up later."
   ]
  },
  {
   "cell_type": "markdown",
   "metadata": {},
   "source": [
    "## Dependencies"
   ]
  },
  {
   "cell_type": "code",
   "execution_count": 1,
   "metadata": {},
   "outputs": [],
   "source": [
    "import os\n",
    "\n",
    "from okra.playbooks import local_persistance"
   ]
  },
  {
   "cell_type": "markdown",
   "metadata": {},
   "source": [
    "## Prepare Data"
   ]
  },
  {
   "cell_type": "code",
   "execution_count": 2,
   "metadata": {},
   "outputs": [],
   "source": [
    "DATA = \"/Users/tylerbrown/code/\"\n",
    "repos = [\n",
    "    \"torvalds/linux\",\n",
    "    \"docker/docker-ce\",\n",
    "    'apache/attic-lucy',\n",
    "    'apache/attic-wink',\n",
    "    'apache/spark',\n",
    "    'apache/lucene-solr'\n",
    "]"
   ]
  },
  {
   "cell_type": "code",
   "execution_count": 4,
   "metadata": {},
   "outputs": [
    {
     "name": "stderr",
     "output_type": "stream",
     "text": [
      "Issue with row 0, repo '/Users/tylerbrown/code/torvalds/linux'\n",
      "Issue with row 0, repo '/Users/tylerbrown/code/docker/docker-ce'\n",
      "Issue with row 0, repo '/Users/tylerbrown/code/apache/attic-lucy'\n",
      "Issue with row 0, repo '/Users/tylerbrown/code/apache/attic-wink'\n",
      "Issue with row 0, repo '/Users/tylerbrown/code/apache/spark'\n",
      "Issue with row 0, repo '/Users/tylerbrown/code/apache/lucene-solr'\n"
     ]
    }
   ],
   "source": [
    "# Persist repo info in database\n",
    "\n",
    "for repo_name in repos:\n",
    "    local_persistance(repo_name, DATA)"
   ]
  },
  {
   "cell_type": "code",
   "execution_count": null,
   "metadata": {},
   "outputs": [],
   "source": []
  },
  {
   "cell_type": "code",
   "execution_count": null,
   "metadata": {},
   "outputs": [],
   "source": []
  },
  {
   "cell_type": "code",
   "execution_count": null,
   "metadata": {},
   "outputs": [],
   "source": []
  },
  {
   "cell_type": "code",
   "execution_count": null,
   "metadata": {},
   "outputs": [],
   "source": []
  },
  {
   "cell_type": "code",
   "execution_count": null,
   "metadata": {},
   "outputs": [],
   "source": []
  }
 ],
 "metadata": {
  "kernelspec": {
   "display_name": "Python 3",
   "language": "python",
   "name": "python3"
  },
  "language_info": {
   "codemirror_mode": {
    "name": "ipython",
    "version": 3
   },
   "file_extension": ".py",
   "mimetype": "text/x-python",
   "name": "python",
   "nbconvert_exporter": "python",
   "pygments_lexer": "ipython3",
   "version": "3.7.2"
  }
 },
 "nbformat": 4,
 "nbformat_minor": 2
}
