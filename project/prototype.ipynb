{
 "cells": [
  {
   "cell_type": "markdown",
   "metadata": {},
   "source": [
    "# Summary\n",
    "\n",
    "We're interested in GitHub project health. I first establish a baseline\n",
    "using known successful projects and projects which were previously successful\n",
    "but have now been retired. This notebook is intended to get the basic working\n",
    "thing together then we can scale up later."
   ]
  },
  {
   "cell_type": "markdown",
   "metadata": {},
   "source": [
    "# Objective function:\n",
    "\n",
    "Lines of code is a good indicator but we don't want to \n",
    "just reward increasing project complexity. I want to\n",
    "equally reward code additions and deletions so we'll\n",
    "use the [Manhattan Norm](https://en.wikipedia.org/wiki/Taxicab_geometry)\n",
    "or $l_1$ distance.\n",
    "\n",
    "$$\n",
    "||x||_1 := \\sum_{i=1}^n |x_i|.\n",
    "$$\n",
    "\n",
    "We want to maximize the $l_1$ distance so we can define\n",
    "the cost function $c(x)$ as\n",
    "\n",
    "$$\n",
    "c(x) = -\\sum_{i=1}^n |x_i|\n",
    "$$\n",
    "\n",
    "which means we want to now minimize $c(x)$.\n"
   ]
  },
  {
   "cell_type": "markdown",
   "metadata": {},
   "source": [
    "## Dependencies"
   ]
  },
  {
   "cell_type": "code",
   "execution_count": 504,
   "metadata": {},
   "outputs": [],
   "source": [
    "from collections import defaultdict\n",
    "import os\n",
    "from urllib.parse import urljoin\n",
    "\n",
    "import matplotlib.pyplot as plt\n",
    "import numpy as np\n",
    "import pandas as pd\n",
    "from okra.models import (Meta, Author, Contrib, CommitFile, Info)\n",
    "from okra.models import DataAccessLayer\n",
    "from okra.playbooks import local_persistance\n",
    "import seaborn as sns\n",
    "from sklearn.model_selection import train_test_split\n",
    "from sklearn import linear_model\n",
    "from sklearn.tree import DecisionTreeRegressor\n",
    "from sqlalchemy import func\n",
    "\n",
    "%matplotlib inline"
   ]
  },
  {
   "cell_type": "markdown",
   "metadata": {},
   "source": [
    "## Prepare Data"
   ]
  },
  {
   "cell_type": "code",
   "execution_count": 2,
   "metadata": {},
   "outputs": [],
   "source": [
    "DATA = \"/Users/tylerbrown/code/\"\n",
    "repos = [\n",
    "    \"torvalds/linux\",\n",
    "    \"docker/docker-ce\",\n",
    "    'apache/attic-lucy',\n",
    "    'apache/attic-wink',\n",
    "    'apache/spark',\n",
    "    'apache/lucene-solr'\n",
    "]"
   ]
  },
  {
   "cell_type": "code",
   "execution_count": 3,
   "metadata": {},
   "outputs": [
    {
     "name": "stderr",
     "output_type": "stream",
     "text": [
      "Issue with row 0, repo '/Users/tylerbrown/code/torvalds/linux'\n",
      "Issue with row 0, repo '/Users/tylerbrown/code/docker/docker-ce'\n",
      "Issue with row 0, repo '/Users/tylerbrown/code/apache/attic-lucy'\n",
      "Issue with row 0, repo '/Users/tylerbrown/code/apache/attic-wink'\n",
      "Issue with row 0, repo '/Users/tylerbrown/code/apache/spark'\n",
      "Issue with row 0, repo '/Users/tylerbrown/code/apache/lucene-solr'\n"
     ]
    }
   ],
   "source": [
    "# Persist repo info in database\n",
    "\n",
    "for repo_name in repos:\n",
    "    local_persistance(repo_name, DATA)"
   ]
  },
  {
   "cell_type": "code",
   "execution_count": 4,
   "metadata": {},
   "outputs": [
    {
     "data": {
      "text/plain": [
       "{'torvalds/linux': 'torvalds__REPODB__linux.db',\n",
       " 'docker/docker-ce': 'docker__REPODB__docker-ce.db',\n",
       " 'apache/attic-lucy': 'apache__REPODB__attic-lucy.db',\n",
       " 'apache/attic-wink': 'apache__REPODB__attic-wink.db',\n",
       " 'apache/spark': 'apache__REPODB__spark.db',\n",
       " 'apache/lucene-solr': 'apache__REPODB__lucene-solr.db'}"
      ]
     },
     "execution_count": 4,
     "metadata": {},
     "output_type": "execute_result"
    }
   ],
   "source": [
    "repodbs = {i : i.replace(\"/\", \"__REPODB__\") + \".db\" for i in repos}\n",
    "repodbs"
   ]
  },
  {
   "cell_type": "markdown",
   "metadata": {},
   "source": [
    "# Exploratory Analysis: Linux Kernel\n",
    "\n",
    "Trying to get an idea of which features would be informative\n",
    "by exploring the Linux kernel. Some initial thoughts about\n",
    "repo health indicators\n",
    "\n",
    "1. Number of commits per time period\n",
    "1. Number of developers per time period\n"
   ]
  },
  {
   "cell_type": "code",
   "execution_count": 5,
   "metadata": {},
   "outputs": [],
   "source": [
    "conn_string = \"sqlite:///\" + urljoin(DATA, repodbs['torvalds/linux'])"
   ]
  },
  {
   "cell_type": "code",
   "execution_count": 6,
   "metadata": {},
   "outputs": [],
   "source": [
    "dal = DataAccessLayer(conn_string)\n",
    "dal.connect()\n",
    "dal.session = dal.Session()"
   ]
  },
  {
   "cell_type": "markdown",
   "metadata": {},
   "source": [
    "### Compute objective function per month\n",
    "\n",
    "Let's start by computing our objective function\n",
    "once per month. "
   ]
  },
  {
   "cell_type": "code",
   "execution_count": 7,
   "metadata": {},
   "outputs": [],
   "source": [
    "q1 = dal.session.query(\n",
    "    Meta.commit_hash, Author.authored, CommitFile.lines_added, CommitFile.lines_deleted\n",
    ").join(Author).join(CommitFile)"
   ]
  },
  {
   "cell_type": "code",
   "execution_count": 8,
   "metadata": {},
   "outputs": [
    {
     "data": {
      "text/plain": [
       "(1824726, 4)"
      ]
     },
     "execution_count": 8,
     "metadata": {},
     "output_type": "execute_result"
    }
   ],
   "source": [
    "items = []\n",
    "for item in q1.all():\n",
    "    r = {\n",
    "        \"commit_hash\": item.commit_hash,\n",
    "        \"date_authored\": item.authored,\n",
    "        \"lines_added\": item.lines_added,\n",
    "        \"lines_deleted\": item.lines_deleted\n",
    "    }\n",
    "    items.append(r)\n",
    "objdf = pd.DataFrame(items)\n",
    "objdf.shape"
   ]
  },
  {
   "cell_type": "code",
   "execution_count": 9,
   "metadata": {},
   "outputs": [],
   "source": [
    "per = objdf.date_authored.dt.to_period(\"M\")"
   ]
  },
  {
   "cell_type": "code",
   "execution_count": 10,
   "metadata": {},
   "outputs": [],
   "source": [
    "ok = objdf.groupby(per).sum()"
   ]
  },
  {
   "cell_type": "code",
   "execution_count": 11,
   "metadata": {},
   "outputs": [],
   "source": [
    "ok['costfunc'] = -np.sqrt(np.square(ok.lines_added.values) + np.square(ok.lines_deleted.values))"
   ]
  },
  {
   "cell_type": "code",
   "execution_count": 12,
   "metadata": {},
   "outputs": [
    {
     "data": {
      "text/html": [
       "<div>\n",
       "<style scoped>\n",
       "    .dataframe tbody tr th:only-of-type {\n",
       "        vertical-align: middle;\n",
       "    }\n",
       "\n",
       "    .dataframe tbody tr th {\n",
       "        vertical-align: top;\n",
       "    }\n",
       "\n",
       "    .dataframe thead th {\n",
       "        text-align: right;\n",
       "    }\n",
       "</style>\n",
       "<table border=\"1\" class=\"dataframe\">\n",
       "  <thead>\n",
       "    <tr style=\"text-align: right;\">\n",
       "      <th></th>\n",
       "      <th>lines_added</th>\n",
       "      <th>lines_deleted</th>\n",
       "      <th>costfunc</th>\n",
       "    </tr>\n",
       "    <tr>\n",
       "      <th>date_authored</th>\n",
       "      <th></th>\n",
       "      <th></th>\n",
       "      <th></th>\n",
       "    </tr>\n",
       "  </thead>\n",
       "  <tbody>\n",
       "    <tr>\n",
       "      <th>1970-01</th>\n",
       "      <td>2</td>\n",
       "      <td>1</td>\n",
       "      <td>-2.236068</td>\n",
       "    </tr>\n",
       "    <tr>\n",
       "      <th>2001-09</th>\n",
       "      <td>145</td>\n",
       "      <td>48</td>\n",
       "      <td>-152.738338</td>\n",
       "    </tr>\n",
       "    <tr>\n",
       "      <th>2002-04</th>\n",
       "      <td>2272</td>\n",
       "      <td>632</td>\n",
       "      <td>-2358.263768</td>\n",
       "    </tr>\n",
       "    <tr>\n",
       "      <th>2003-02</th>\n",
       "      <td>56</td>\n",
       "      <td>55</td>\n",
       "      <td>-78.492038</td>\n",
       "    </tr>\n",
       "    <tr>\n",
       "      <th>2004-07</th>\n",
       "      <td>9</td>\n",
       "      <td>0</td>\n",
       "      <td>-9.000000</td>\n",
       "    </tr>\n",
       "  </tbody>\n",
       "</table>\n",
       "</div>"
      ],
      "text/plain": [
       "               lines_added  lines_deleted     costfunc\n",
       "date_authored                                         \n",
       "1970-01                  2              1    -2.236068\n",
       "2001-09                145             48  -152.738338\n",
       "2002-04               2272            632 -2358.263768\n",
       "2003-02                 56             55   -78.492038\n",
       "2004-07                  9              0    -9.000000"
      ]
     },
     "execution_count": 12,
     "metadata": {},
     "output_type": "execute_result"
    }
   ],
   "source": [
    "ok.head()"
   ]
  },
  {
   "cell_type": "markdown",
   "metadata": {},
   "source": [
    "### Check features against cost function"
   ]
  },
  {
   "cell_type": "code",
   "execution_count": 13,
   "metadata": {},
   "outputs": [],
   "source": [
    "# Number of commits per time period\n",
    "q2 = dal.session.query(\n",
    "    Meta.commit_hash, Info.created\n",
    ").join(Info)\n",
    "\n",
    "items = []\n",
    "for item in q2.all():\n",
    "    r = {\n",
    "        \"commit_hash\" : item.commit_hash,\n",
    "        \"date_created\" : item.created,\n",
    "    }\n",
    "    items.append(r)\n",
    "comdf = pd.DataFrame(items)"
   ]
  },
  {
   "cell_type": "code",
   "execution_count": 14,
   "metadata": {},
   "outputs": [
    {
     "data": {
      "text/plain": [
       "(824976, 2)"
      ]
     },
     "execution_count": 14,
     "metadata": {},
     "output_type": "execute_result"
    }
   ],
   "source": [
    "per = comdf.date_created.dt.to_period('M')\n",
    "comdf.shape"
   ]
  },
  {
   "cell_type": "code",
   "execution_count": 15,
   "metadata": {},
   "outputs": [],
   "source": [
    "comct = comdf.groupby(per).count()"
   ]
  },
  {
   "cell_type": "code",
   "execution_count": 16,
   "metadata": {},
   "outputs": [
    {
     "data": {
      "text/html": [
       "<div>\n",
       "<style scoped>\n",
       "    .dataframe tbody tr th:only-of-type {\n",
       "        vertical-align: middle;\n",
       "    }\n",
       "\n",
       "    .dataframe tbody tr th {\n",
       "        vertical-align: top;\n",
       "    }\n",
       "\n",
       "    .dataframe thead th {\n",
       "        text-align: right;\n",
       "    }\n",
       "</style>\n",
       "<table border=\"1\" class=\"dataframe\">\n",
       "  <thead>\n",
       "    <tr style=\"text-align: right;\">\n",
       "      <th></th>\n",
       "      <th>commit_hash</th>\n",
       "      <th>date_created</th>\n",
       "    </tr>\n",
       "    <tr>\n",
       "      <th>date_created</th>\n",
       "      <th></th>\n",
       "      <th></th>\n",
       "    </tr>\n",
       "  </thead>\n",
       "  <tbody>\n",
       "    <tr>\n",
       "      <th>1970-01</th>\n",
       "      <td>1</td>\n",
       "      <td>1</td>\n",
       "    </tr>\n",
       "    <tr>\n",
       "      <th>2001-09</th>\n",
       "      <td>2</td>\n",
       "      <td>2</td>\n",
       "    </tr>\n",
       "    <tr>\n",
       "      <th>2002-04</th>\n",
       "      <td>12</td>\n",
       "      <td>12</td>\n",
       "    </tr>\n",
       "    <tr>\n",
       "      <th>2003-02</th>\n",
       "      <td>1</td>\n",
       "      <td>1</td>\n",
       "    </tr>\n",
       "    <tr>\n",
       "      <th>2004-07</th>\n",
       "      <td>1</td>\n",
       "      <td>1</td>\n",
       "    </tr>\n",
       "  </tbody>\n",
       "</table>\n",
       "</div>"
      ],
      "text/plain": [
       "              commit_hash  date_created\n",
       "date_created                           \n",
       "1970-01                 1             1\n",
       "2001-09                 2             2\n",
       "2002-04                12            12\n",
       "2003-02                 1             1\n",
       "2004-07                 1             1"
      ]
     },
     "execution_count": 16,
     "metadata": {},
     "output_type": "execute_result"
    }
   ],
   "source": [
    "comct.head()"
   ]
  },
  {
   "cell_type": "code",
   "execution_count": 17,
   "metadata": {},
   "outputs": [],
   "source": [
    "# Number of developers per time period\n",
    "\n",
    "q3 = dal.session.query(\n",
    "    Meta.commit_hash, Author.name, Author.email, \n",
    "    Author.authored\n",
    ").join(Author)\n",
    "\n",
    "items = []\n",
    "for item in q3.all():\n",
    "    r = {\n",
    "        \"commit_hash\": item.commit_hash,\n",
    "        \"author_name\": item.name,\n",
    "        \"author_email\": item.email,\n",
    "        \"author_date\": item.authored,\n",
    "    }\n",
    "    items.append(r)\n",
    "authordf = pd.DataFrame(items)"
   ]
  },
  {
   "cell_type": "code",
   "execution_count": 18,
   "metadata": {},
   "outputs": [
    {
     "data": {
      "text/plain": [
       "(824976, 4)"
      ]
     },
     "execution_count": 18,
     "metadata": {},
     "output_type": "execute_result"
    }
   ],
   "source": [
    "authordf.shape"
   ]
  },
  {
   "cell_type": "code",
   "execution_count": 19,
   "metadata": {},
   "outputs": [],
   "source": [
    "per = authordf.author_date.dt.to_period('M')"
   ]
  },
  {
   "cell_type": "code",
   "execution_count": 20,
   "metadata": {},
   "outputs": [],
   "source": [
    "authct = authordf[['author_name','author_email']].groupby(per).count()"
   ]
  },
  {
   "cell_type": "code",
   "execution_count": 21,
   "metadata": {},
   "outputs": [
    {
     "data": {
      "text/html": [
       "<div>\n",
       "<style scoped>\n",
       "    .dataframe tbody tr th:only-of-type {\n",
       "        vertical-align: middle;\n",
       "    }\n",
       "\n",
       "    .dataframe tbody tr th {\n",
       "        vertical-align: top;\n",
       "    }\n",
       "\n",
       "    .dataframe thead th {\n",
       "        text-align: right;\n",
       "    }\n",
       "</style>\n",
       "<table border=\"1\" class=\"dataframe\">\n",
       "  <thead>\n",
       "    <tr style=\"text-align: right;\">\n",
       "      <th></th>\n",
       "      <th>author_name</th>\n",
       "      <th>author_email</th>\n",
       "    </tr>\n",
       "    <tr>\n",
       "      <th>author_date</th>\n",
       "      <th></th>\n",
       "      <th></th>\n",
       "    </tr>\n",
       "  </thead>\n",
       "  <tbody>\n",
       "    <tr>\n",
       "      <th>1970-01</th>\n",
       "      <td>1</td>\n",
       "      <td>1</td>\n",
       "    </tr>\n",
       "    <tr>\n",
       "      <th>2001-09</th>\n",
       "      <td>2</td>\n",
       "      <td>2</td>\n",
       "    </tr>\n",
       "    <tr>\n",
       "      <th>2002-04</th>\n",
       "      <td>12</td>\n",
       "      <td>12</td>\n",
       "    </tr>\n",
       "    <tr>\n",
       "      <th>2003-02</th>\n",
       "      <td>1</td>\n",
       "      <td>1</td>\n",
       "    </tr>\n",
       "    <tr>\n",
       "      <th>2004-07</th>\n",
       "      <td>1</td>\n",
       "      <td>1</td>\n",
       "    </tr>\n",
       "  </tbody>\n",
       "</table>\n",
       "</div>"
      ],
      "text/plain": [
       "             author_name  author_email\n",
       "author_date                           \n",
       "1970-01                1             1\n",
       "2001-09                2             2\n",
       "2002-04               12            12\n",
       "2003-02                1             1\n",
       "2004-07                1             1"
      ]
     },
     "execution_count": 21,
     "metadata": {},
     "output_type": "execute_result"
    }
   ],
   "source": [
    "authct.head()"
   ]
  },
  {
   "cell_type": "markdown",
   "metadata": {},
   "source": [
    "## Initial predictive model"
   ]
  },
  {
   "cell_type": "code",
   "execution_count": 22,
   "metadata": {},
   "outputs": [
    {
     "name": "stdout",
     "output_type": "stream",
     "text": [
      "y: (183, 3), commits: (183, 2), author: (183, 2)\n"
     ]
    }
   ],
   "source": [
    "print(\"y: {}, commits: {}, author: {}\".format(ok.shape, comct.shape, authct.shape))"
   ]
  },
  {
   "cell_type": "code",
   "execution_count": 23,
   "metadata": {},
   "outputs": [],
   "source": [
    "df = ok.join(comct).join(authct)"
   ]
  },
  {
   "cell_type": "code",
   "execution_count": 24,
   "metadata": {},
   "outputs": [
    {
     "data": {
      "text/html": [
       "<div>\n",
       "<style scoped>\n",
       "    .dataframe tbody tr th:only-of-type {\n",
       "        vertical-align: middle;\n",
       "    }\n",
       "\n",
       "    .dataframe tbody tr th {\n",
       "        vertical-align: top;\n",
       "    }\n",
       "\n",
       "    .dataframe thead th {\n",
       "        text-align: right;\n",
       "    }\n",
       "</style>\n",
       "<table border=\"1\" class=\"dataframe\">\n",
       "  <thead>\n",
       "    <tr style=\"text-align: right;\">\n",
       "      <th></th>\n",
       "      <th>lines_added</th>\n",
       "      <th>lines_deleted</th>\n",
       "      <th>costfunc</th>\n",
       "      <th>commit_hash</th>\n",
       "      <th>date_created</th>\n",
       "      <th>author_name</th>\n",
       "      <th>author_email</th>\n",
       "    </tr>\n",
       "    <tr>\n",
       "      <th>date_authored</th>\n",
       "      <th></th>\n",
       "      <th></th>\n",
       "      <th></th>\n",
       "      <th></th>\n",
       "      <th></th>\n",
       "      <th></th>\n",
       "      <th></th>\n",
       "    </tr>\n",
       "  </thead>\n",
       "  <tbody>\n",
       "    <tr>\n",
       "      <th>1970-01</th>\n",
       "      <td>2</td>\n",
       "      <td>1</td>\n",
       "      <td>-2.236068</td>\n",
       "      <td>1</td>\n",
       "      <td>1</td>\n",
       "      <td>1</td>\n",
       "      <td>1</td>\n",
       "    </tr>\n",
       "    <tr>\n",
       "      <th>2001-09</th>\n",
       "      <td>145</td>\n",
       "      <td>48</td>\n",
       "      <td>-152.738338</td>\n",
       "      <td>2</td>\n",
       "      <td>2</td>\n",
       "      <td>2</td>\n",
       "      <td>2</td>\n",
       "    </tr>\n",
       "    <tr>\n",
       "      <th>2002-04</th>\n",
       "      <td>2272</td>\n",
       "      <td>632</td>\n",
       "      <td>-2358.263768</td>\n",
       "      <td>12</td>\n",
       "      <td>12</td>\n",
       "      <td>12</td>\n",
       "      <td>12</td>\n",
       "    </tr>\n",
       "    <tr>\n",
       "      <th>2003-02</th>\n",
       "      <td>56</td>\n",
       "      <td>55</td>\n",
       "      <td>-78.492038</td>\n",
       "      <td>1</td>\n",
       "      <td>1</td>\n",
       "      <td>1</td>\n",
       "      <td>1</td>\n",
       "    </tr>\n",
       "    <tr>\n",
       "      <th>2004-07</th>\n",
       "      <td>9</td>\n",
       "      <td>0</td>\n",
       "      <td>-9.000000</td>\n",
       "      <td>1</td>\n",
       "      <td>1</td>\n",
       "      <td>1</td>\n",
       "      <td>1</td>\n",
       "    </tr>\n",
       "  </tbody>\n",
       "</table>\n",
       "</div>"
      ],
      "text/plain": [
       "               lines_added  lines_deleted     costfunc  commit_hash  \\\n",
       "date_authored                                                         \n",
       "1970-01                  2              1    -2.236068            1   \n",
       "2001-09                145             48  -152.738338            2   \n",
       "2002-04               2272            632 -2358.263768           12   \n",
       "2003-02                 56             55   -78.492038            1   \n",
       "2004-07                  9              0    -9.000000            1   \n",
       "\n",
       "               date_created  author_name  author_email  \n",
       "date_authored                                           \n",
       "1970-01                   1            1             1  \n",
       "2001-09                   2            2             2  \n",
       "2002-04                  12           12            12  \n",
       "2003-02                   1            1             1  \n",
       "2004-07                   1            1             1  "
      ]
     },
     "execution_count": 24,
     "metadata": {},
     "output_type": "execute_result"
    }
   ],
   "source": [
    "df.head()"
   ]
  },
  {
   "cell_type": "code",
   "execution_count": 25,
   "metadata": {},
   "outputs": [
    {
     "data": {
      "image/png": "[encoded data removed]",
      "text/plain": [
       "<Figure size 540x540 with 12 Axes>"
      ]
     },
     "metadata": {
      "needs_background": "light"
     },
     "output_type": "display_data"
    }
   ],
   "source": [
    "data = df[['costfunc', 'commit_hash', 'author_name']]\n",
    "data.columns = ['costfunc', 'commits', 'authors']\n",
    "sns.pairplot(data)\n",
    "plt.show()"
   ]
  },
  {
   "cell_type": "code",
   "execution_count": 26,
   "metadata": {},
   "outputs": [
    {
     "data": {
      "text/html": [
       "<div>\n",
       "<style scoped>\n",
       "    .dataframe tbody tr th:only-of-type {\n",
       "        vertical-align: middle;\n",
       "    }\n",
       "\n",
       "    .dataframe tbody tr th {\n",
       "        vertical-align: top;\n",
       "    }\n",
       "\n",
       "    .dataframe thead th {\n",
       "        text-align: right;\n",
       "    }\n",
       "</style>\n",
       "<table border=\"1\" class=\"dataframe\">\n",
       "  <thead>\n",
       "    <tr style=\"text-align: right;\">\n",
       "      <th></th>\n",
       "      <th>costfunc</th>\n",
       "      <th>commits</th>\n",
       "      <th>authors</th>\n",
       "    </tr>\n",
       "  </thead>\n",
       "  <tbody>\n",
       "    <tr>\n",
       "      <th>count</th>\n",
       "      <td>1.830000e+02</td>\n",
       "      <td>183.000000</td>\n",
       "      <td>183.000000</td>\n",
       "    </tr>\n",
       "    <tr>\n",
       "      <th>mean</th>\n",
       "      <td>-3.225717e+05</td>\n",
       "      <td>4508.065574</td>\n",
       "      <td>4508.065574</td>\n",
       "    </tr>\n",
       "    <tr>\n",
       "      <th>std</th>\n",
       "      <td>5.021419e+05</td>\n",
       "      <td>2119.350172</td>\n",
       "      <td>2119.350172</td>\n",
       "    </tr>\n",
       "    <tr>\n",
       "      <th>min</th>\n",
       "      <td>-6.794630e+06</td>\n",
       "      <td>1.000000</td>\n",
       "      <td>1.000000</td>\n",
       "    </tr>\n",
       "    <tr>\n",
       "      <th>25%</th>\n",
       "      <td>-3.615016e+05</td>\n",
       "      <td>3166.000000</td>\n",
       "      <td>3166.000000</td>\n",
       "    </tr>\n",
       "    <tr>\n",
       "      <th>50%</th>\n",
       "      <td>-2.895008e+05</td>\n",
       "      <td>4962.000000</td>\n",
       "      <td>4962.000000</td>\n",
       "    </tr>\n",
       "    <tr>\n",
       "      <th>75%</th>\n",
       "      <td>-2.200318e+05</td>\n",
       "      <td>6169.500000</td>\n",
       "      <td>6169.500000</td>\n",
       "    </tr>\n",
       "    <tr>\n",
       "      <th>max</th>\n",
       "      <td>-1.414214e+00</td>\n",
       "      <td>8202.000000</td>\n",
       "      <td>8202.000000</td>\n",
       "    </tr>\n",
       "  </tbody>\n",
       "</table>\n",
       "</div>"
      ],
      "text/plain": [
       "           costfunc      commits      authors\n",
       "count  1.830000e+02   183.000000   183.000000\n",
       "mean  -3.225717e+05  4508.065574  4508.065574\n",
       "std    5.021419e+05  2119.350172  2119.350172\n",
       "min   -6.794630e+06     1.000000     1.000000\n",
       "25%   -3.615016e+05  3166.000000  3166.000000\n",
       "50%   -2.895008e+05  4962.000000  4962.000000\n",
       "75%   -2.200318e+05  6169.500000  6169.500000\n",
       "max   -1.414214e+00  8202.000000  8202.000000"
      ]
     },
     "execution_count": 26,
     "metadata": {},
     "output_type": "execute_result"
    }
   ],
   "source": [
    "data.describe()"
   ]
  },
  {
   "cell_type": "markdown",
   "metadata": {},
   "source": [
    "It looks like `commits` and `authors` are almost perfectly correlated\n",
    "so there's no reason to use both features. There also appears to be\n",
    "an instance of a strong outlier in the `costfunc`. Let's try to predict\n",
    "using a Ridge Regression and one feature. "
   ]
  },
  {
   "cell_type": "code",
   "execution_count": 27,
   "metadata": {},
   "outputs": [],
   "source": [
    "data_dropoutliers = data[data.costfunc > -500000]"
   ]
  },
  {
   "cell_type": "code",
   "execution_count": 28,
   "metadata": {},
   "outputs": [
    {
     "data": {
      "text/plain": [
       "(183, 3)"
      ]
     },
     "execution_count": 28,
     "metadata": {},
     "output_type": "execute_result"
    }
   ],
   "source": [
    "data.shape"
   ]
  },
  {
   "cell_type": "code",
   "execution_count": 29,
   "metadata": {},
   "outputs": [
    {
     "data": {
      "text/plain": [
       "(167, 3)"
      ]
     },
     "execution_count": 29,
     "metadata": {},
     "output_type": "execute_result"
    }
   ],
   "source": [
    "data_dropoutliers.shape"
   ]
  },
  {
   "cell_type": "code",
   "execution_count": 30,
   "metadata": {},
   "outputs": [
    {
     "data": {
      "text/html": [
       "<div>\n",
       "<style scoped>\n",
       "    .dataframe tbody tr th:only-of-type {\n",
       "        vertical-align: middle;\n",
       "    }\n",
       "\n",
       "    .dataframe tbody tr th {\n",
       "        vertical-align: top;\n",
       "    }\n",
       "\n",
       "    .dataframe thead th {\n",
       "        text-align: right;\n",
       "    }\n",
       "</style>\n",
       "<table border=\"1\" class=\"dataframe\">\n",
       "  <thead>\n",
       "    <tr style=\"text-align: right;\">\n",
       "      <th></th>\n",
       "      <th>costfunc</th>\n",
       "      <th>commits</th>\n",
       "      <th>authors</th>\n",
       "    </tr>\n",
       "  </thead>\n",
       "  <tbody>\n",
       "    <tr>\n",
       "      <th>count</th>\n",
       "      <td>167.000000</td>\n",
       "      <td>167.000000</td>\n",
       "      <td>167.000000</td>\n",
       "    </tr>\n",
       "    <tr>\n",
       "      <th>mean</th>\n",
       "      <td>-260558.345094</td>\n",
       "      <td>4443.161677</td>\n",
       "      <td>4443.161677</td>\n",
       "    </tr>\n",
       "    <tr>\n",
       "      <th>std</th>\n",
       "      <td>116334.779914</td>\n",
       "      <td>2158.053243</td>\n",
       "      <td>2158.053243</td>\n",
       "    </tr>\n",
       "    <tr>\n",
       "      <th>min</th>\n",
       "      <td>-491590.509291</td>\n",
       "      <td>1.000000</td>\n",
       "      <td>1.000000</td>\n",
       "    </tr>\n",
       "    <tr>\n",
       "      <th>25%</th>\n",
       "      <td>-337389.687224</td>\n",
       "      <td>3077.500000</td>\n",
       "      <td>3077.500000</td>\n",
       "    </tr>\n",
       "    <tr>\n",
       "      <th>50%</th>\n",
       "      <td>-284437.946317</td>\n",
       "      <td>4962.000000</td>\n",
       "      <td>4962.000000</td>\n",
       "    </tr>\n",
       "    <tr>\n",
       "      <th>75%</th>\n",
       "      <td>-210811.308781</td>\n",
       "      <td>6169.500000</td>\n",
       "      <td>6169.500000</td>\n",
       "    </tr>\n",
       "    <tr>\n",
       "      <th>max</th>\n",
       "      <td>-1.414214</td>\n",
       "      <td>8202.000000</td>\n",
       "      <td>8202.000000</td>\n",
       "    </tr>\n",
       "  </tbody>\n",
       "</table>\n",
       "</div>"
      ],
      "text/plain": [
       "            costfunc      commits      authors\n",
       "count     167.000000   167.000000   167.000000\n",
       "mean  -260558.345094  4443.161677  4443.161677\n",
       "std    116334.779914  2158.053243  2158.053243\n",
       "min   -491590.509291     1.000000     1.000000\n",
       "25%   -337389.687224  3077.500000  3077.500000\n",
       "50%   -284437.946317  4962.000000  4962.000000\n",
       "75%   -210811.308781  6169.500000  6169.500000\n",
       "max        -1.414214  8202.000000  8202.000000"
      ]
     },
     "execution_count": 30,
     "metadata": {},
     "output_type": "execute_result"
    }
   ],
   "source": [
    "data_dropoutliers.describe()"
   ]
  },
  {
   "cell_type": "code",
   "execution_count": 31,
   "metadata": {},
   "outputs": [
    {
     "data": {
      "text/plain": [
       "<matplotlib.axes._subplots.AxesSubplot at 0x1a3ede6908>"
      ]
     },
     "execution_count": 31,
     "metadata": {},
     "output_type": "execute_result"
    },
    {
     "data": {
      "image/png": "[encoded data removed]",
      "text/plain": [
       "<Figure size 432x288 with 1 Axes>"
      ]
     },
     "metadata": {
      "needs_background": "light"
     },
     "output_type": "display_data"
    }
   ],
   "source": [
    "data_dropoutliers.costfunc.hist()"
   ]
  },
  {
   "cell_type": "code",
   "execution_count": 32,
   "metadata": {},
   "outputs": [],
   "source": [
    "X = data_dropoutliers.authors\n",
    "y = data_dropoutliers.costfunc"
   ]
  },
  {
   "cell_type": "code",
   "execution_count": 33,
   "metadata": {},
   "outputs": [],
   "source": [
    "X_train, X_test, y_train, y_test = train_test_split(X, y, test_size=0.2)"
   ]
  },
  {
   "cell_type": "code",
   "execution_count": 34,
   "metadata": {},
   "outputs": [
    {
     "data": {
      "text/plain": [
       "(133,)"
      ]
     },
     "execution_count": 34,
     "metadata": {},
     "output_type": "execute_result"
    }
   ],
   "source": [
    "X_train.shape"
   ]
  },
  {
   "cell_type": "code",
   "execution_count": 35,
   "metadata": {},
   "outputs": [],
   "source": [
    "X_train = np.reshape(X_train.values, (-1, 1))\n",
    "y_train = np.reshape(y_train.values, (-1, 1))"
   ]
  },
  {
   "cell_type": "code",
   "execution_count": 36,
   "metadata": {},
   "outputs": [],
   "source": [
    "X_test = np.reshape(X_test.values, (-1, 1))\n",
    "y_test = np.reshape(y_test.values, (-1, 1))"
   ]
  },
  {
   "cell_type": "code",
   "execution_count": 37,
   "metadata": {},
   "outputs": [],
   "source": [
    "# Ridge regression\n",
    "\n",
    "reg01 = linear_model.RidgeCV(alphas=[10.0, 100.0, 1000.0], cv=3)"
   ]
  },
  {
   "cell_type": "code",
   "execution_count": 38,
   "metadata": {},
   "outputs": [
    {
     "name": "stderr",
     "output_type": "stream",
     "text": [
      "/Users/tylerbrown/miniconda3/envs/ds6050/lib/python3.7/site-packages/sklearn/model_selection/_search.py:841: DeprecationWarning: The default of the `iid` parameter will change from True to False in version 0.22 and will be removed in 0.24. This will change numeric results when test-set sizes are unequal.\n",
      "  DeprecationWarning)\n"
     ]
    },
    {
     "data": {
      "text/plain": [
       "RidgeCV(alphas=array([  10.,  100., 1000.]), cv=3, fit_intercept=True,\n",
       "    gcv_mode=None, normalize=False, scoring=None, store_cv_values=False)"
      ]
     },
     "execution_count": 38,
     "metadata": {},
     "output_type": "execute_result"
    }
   ],
   "source": [
    "reg01.fit(X_train, y_train)"
   ]
  },
  {
   "cell_type": "code",
   "execution_count": 39,
   "metadata": {},
   "outputs": [
    {
     "data": {
      "text/plain": [
       "0.6917690156769369"
      ]
     },
     "execution_count": 39,
     "metadata": {},
     "output_type": "execute_result"
    }
   ],
   "source": [
    "reg01.score(X_test, y_test)"
   ]
  },
  {
   "cell_type": "code",
   "execution_count": 40,
   "metadata": {},
   "outputs": [],
   "source": [
    "y_pred = reg01.predict(y_test)"
   ]
  },
  {
   "cell_type": "code",
   "execution_count": 41,
   "metadata": {},
   "outputs": [
    {
     "data": {
      "image/png": "[encoded data removed]",
      "text/plain": [
       "<Figure size 432x288 with 1 Axes>"
      ]
     },
     "metadata": {},
     "output_type": "display_data"
    }
   ],
   "source": [
    "plt.scatter(X_test, y_test, color='black')\n",
    "plt.scatter(X_test, y_pred, color='blue', linewidth=3)\n",
    "plt.xticks(())\n",
    "plt.yticks(())\n",
    "\n",
    "plt.show()"
   ]
  },
  {
   "cell_type": "code",
   "execution_count": 42,
   "metadata": {},
   "outputs": [],
   "source": [
    "reg02 = linear_model.LinearRegression()"
   ]
  },
  {
   "cell_type": "code",
   "execution_count": 43,
   "metadata": {},
   "outputs": [
    {
     "data": {
      "text/plain": [
       "LinearRegression(copy_X=True, fit_intercept=True, n_jobs=None,\n",
       "         normalize=False)"
      ]
     },
     "execution_count": 43,
     "metadata": {},
     "output_type": "execute_result"
    }
   ],
   "source": [
    "reg02.fit(X_train, y_train)"
   ]
  },
  {
   "cell_type": "code",
   "execution_count": 44,
   "metadata": {},
   "outputs": [
    {
     "data": {
      "text/plain": [
       "0.6917693547603874"
      ]
     },
     "execution_count": 44,
     "metadata": {},
     "output_type": "execute_result"
    }
   ],
   "source": [
    "reg02.score(X_test, y_test)"
   ]
  },
  {
   "cell_type": "code",
   "execution_count": 45,
   "metadata": {},
   "outputs": [],
   "source": [
    "y_pred = reg02.predict(y_test)"
   ]
  },
  {
   "cell_type": "code",
   "execution_count": 46,
   "metadata": {},
   "outputs": [
    {
     "data": {
      "image/png": "[encoded data removed]",
      "text/plain": [
       "<Figure size 432x288 with 1 Axes>"
      ]
     },
     "metadata": {},
     "output_type": "display_data"
    }
   ],
   "source": [
    "plt.scatter(X_test, y_test, color='black')\n",
    "plt.scatter(X_test, y_pred, color='blue', linewidth=3)\n",
    "plt.xticks(())\n",
    "plt.yticks(())\n",
    "\n",
    "plt.show()"
   ]
  },
  {
   "cell_type": "code",
   "execution_count": 47,
   "metadata": {},
   "outputs": [],
   "source": [
    "reg1 = DecisionTreeRegressor(max_depth=2)\n",
    "reg2 = DecisionTreeRegressor(max_depth=5)\n",
    "reg3 = DecisionTreeRegressor(max_depth=10)"
   ]
  },
  {
   "cell_type": "code",
   "execution_count": 48,
   "metadata": {},
   "outputs": [
    {
     "data": {
      "text/plain": [
       "DecisionTreeRegressor(criterion='mse', max_depth=10, max_features=None,\n",
       "           max_leaf_nodes=None, min_impurity_decrease=0.0,\n",
       "           min_impurity_split=None, min_samples_leaf=1,\n",
       "           min_samples_split=2, min_weight_fraction_leaf=0.0,\n",
       "           presort=False, random_state=None, splitter='best')"
      ]
     },
     "execution_count": 48,
     "metadata": {},
     "output_type": "execute_result"
    }
   ],
   "source": [
    "reg1.fit(X_train, y_train)\n",
    "reg2.fit(X_train, y_train)\n",
    "reg3.fit(X_train, y_train)"
   ]
  },
  {
   "cell_type": "code",
   "execution_count": 49,
   "metadata": {
    "scrolled": true
   },
   "outputs": [],
   "source": [
    "y_01 = reg01.predict(X_test)\n",
    "y_02 = reg02.predict(X_test)\n",
    "y_1 = reg1.predict(X_test)\n",
    "y_2 = reg2.predict(X_test)\n",
    "y_3 = reg3.predict(X_test)"
   ]
  },
  {
   "cell_type": "code",
   "execution_count": 50,
   "metadata": {},
   "outputs": [
    {
     "data": {
      "text/plain": [
       "0.6917690156769369"
      ]
     },
     "execution_count": 50,
     "metadata": {},
     "output_type": "execute_result"
    }
   ],
   "source": [
    "reg01.score(X_test, y_test)"
   ]
  },
  {
   "cell_type": "code",
   "execution_count": 51,
   "metadata": {},
   "outputs": [
    {
     "data": {
      "text/plain": [
       "0.6917693547603874"
      ]
     },
     "execution_count": 51,
     "metadata": {},
     "output_type": "execute_result"
    }
   ],
   "source": [
    "reg02.score(X_test, y_test)"
   ]
  },
  {
   "cell_type": "code",
   "execution_count": 52,
   "metadata": {},
   "outputs": [
    {
     "data": {
      "text/plain": [
       "0.7654731622213409"
      ]
     },
     "execution_count": 52,
     "metadata": {},
     "output_type": "execute_result"
    }
   ],
   "source": [
    "reg1.score(X_test, y_test)"
   ]
  },
  {
   "cell_type": "code",
   "execution_count": 53,
   "metadata": {},
   "outputs": [
    {
     "data": {
      "text/plain": [
       "0.7027919990278851"
      ]
     },
     "execution_count": 53,
     "metadata": {},
     "output_type": "execute_result"
    }
   ],
   "source": [
    "reg2.score(X_test, y_test)"
   ]
  },
  {
   "cell_type": "code",
   "execution_count": 54,
   "metadata": {},
   "outputs": [
    {
     "data": {
      "text/plain": [
       "0.6121575273331039"
      ]
     },
     "execution_count": 54,
     "metadata": {},
     "output_type": "execute_result"
    }
   ],
   "source": [
    "reg3.score(X_test, y_test)"
   ]
  },
  {
   "cell_type": "code",
   "execution_count": 55,
   "metadata": {},
   "outputs": [
    {
     "data": {
      "image/png": "[encoded data removed]",
      "text/plain": [
       "<Figure size 432x288 with 1 Axes>"
      ]
     },
     "metadata": {
      "needs_background": "light"
     },
     "output_type": "display_data"
    }
   ],
   "source": [
    "# Plot the results\n",
    "plt.figure()\n",
    "plt.scatter(X_test, y_test, s=20, edgecolor=\"black\",\n",
    "            c=\"darkorange\", label=\"data\")\n",
    "plt.scatter(X_test, y_1, color=\"cornflowerblue\",\n",
    "         label=\"max_depth=2\")\n",
    "plt.scatter(X_test, y_2, color=\"yellowgreen\", label=\"max_depth=5\")\n",
    "plt.scatter(X_test, y_3, color='m', label='max_depth=10')\n",
    "plt.scatter(X_test, y_01, color='c', label='Ridge')\n",
    "plt.scatter(X_test, y_02, color='b', label='Linear')\n",
    "plt.xlabel(\"data\")\n",
    "plt.ylabel(\"target\")\n",
    "plt.title(\"Decision Tree Regression\")\n",
    "plt.legend()\n",
    "plt.show()"
   ]
  },
  {
   "cell_type": "code",
   "execution_count": 56,
   "metadata": {},
   "outputs": [
    {
     "data": {
      "text/plain": [
       "<matplotlib.collections.PathCollection at 0x1a3f0da4a8>"
      ]
     },
     "execution_count": 56,
     "metadata": {},
     "output_type": "execute_result"
    },
    {
     "data": {
      "image/png": "[encoded data removed]",
      "text/plain": [
       "<Figure size 432x288 with 1 Axes>"
      ]
     },
     "metadata": {
      "needs_background": "light"
     },
     "output_type": "display_data"
    }
   ],
   "source": [
    "plt.scatter(np.reshape(y_1, (-1,1)), y_test)"
   ]
  },
  {
   "cell_type": "markdown",
   "metadata": {},
   "source": [
    "## Better time series approach\n",
    "\n",
    "Those models performed kind of terribly. Let's see\n",
    "if we can dig more into the time series and do something\n",
    "better."
   ]
  },
  {
   "cell_type": "code",
   "execution_count": 57,
   "metadata": {},
   "outputs": [
    {
     "data": {
      "text/plain": [
       "(183, 3)"
      ]
     },
     "execution_count": 57,
     "metadata": {},
     "output_type": "execute_result"
    }
   ],
   "source": [
    "data.shape"
   ]
  },
  {
   "cell_type": "code",
   "execution_count": 58,
   "metadata": {},
   "outputs": [
    {
     "data": {
      "image/png": "[encoded data removed]",
      "text/plain": [
       "<Figure size 432x288 with 1 Axes>"
      ]
     },
     "metadata": {
      "needs_background": "light"
     },
     "output_type": "display_data"
    }
   ],
   "source": [
    "data[(data.index >= '2005-01') & (data.index < '2020-01')].plot()\n",
    "plt.show()"
   ]
  },
  {
   "cell_type": "markdown",
   "metadata": {},
   "source": [
    "We can see that there really isn't a clear relationship between commits,\n",
    "authors, and lines of code added or subtracted. This explains why the \n",
    "previous models weren't performing well."
   ]
  },
  {
   "cell_type": "code",
   "execution_count": 59,
   "metadata": {},
   "outputs": [
    {
     "data": {
      "image/png": "[encoded data removed]",
      "text/plain": [
       "<Figure size 432x288 with 1 Axes>"
      ]
     },
     "metadata": {
      "needs_background": "light"
     },
     "output_type": "display_data"
    }
   ],
   "source": [
    "data[(data.index >= '2006-01') & (data.index < '2020-01')].plot()\n",
    "plt.show()"
   ]
  },
  {
   "cell_type": "code",
   "execution_count": 60,
   "metadata": {},
   "outputs": [
    {
     "data": {
      "image/png": "[encoded data removed]",
      "text/plain": [
       "<Figure size 432x288 with 1 Axes>"
      ]
     },
     "metadata": {
      "needs_background": "light"
     },
     "output_type": "display_data"
    }
   ],
   "source": [
    "data[(data.index >= '2006-01') & (data.index < '2020-01')][['authors']].plot()\n",
    "plt.show()"
   ]
  },
  {
   "cell_type": "code",
   "execution_count": 61,
   "metadata": {},
   "outputs": [
    {
     "data": {
      "image/png": "[encoded data removed]",
      "text/plain": [
       "<Figure size 432x288 with 1 Axes>"
      ]
     },
     "metadata": {
      "needs_background": "light"
     },
     "output_type": "display_data"
    }
   ],
   "source": [
    "data[(data.index >= '2006-01') & (data.index < '2020-01')][['commits']].plot()\n",
    "plt.show()"
   ]
  },
  {
   "cell_type": "code",
   "execution_count": 62,
   "metadata": {},
   "outputs": [
    {
     "data": {
      "text/plain": [
       "<matplotlib.axes._subplots.AxesSubplot at 0x1a43b1b438>"
      ]
     },
     "execution_count": 62,
     "metadata": {},
     "output_type": "execute_result"
    },
    {
     "data": {
      "image/png": "[encoded data removed]",
      "text/plain": [
       "<Figure size 432x288 with 1 Axes>"
      ]
     },
     "metadata": {
      "needs_background": "light"
     },
     "output_type": "display_data"
    }
   ],
   "source": [
    "(data[(data.index >= '2006-01') & (data.index < '2020-01')].costfunc / 100).plot()"
   ]
  },
  {
   "cell_type": "code",
   "execution_count": 63,
   "metadata": {},
   "outputs": [
    {
     "name": "stderr",
     "output_type": "stream",
     "text": [
      "/Users/tylerbrown/miniconda3/envs/ds6050/lib/python3.7/site-packages/ipykernel_launcher.py:1: SettingWithCopyWarning: \n",
      "A value is trying to be set on a copy of a slice from a DataFrame.\n",
      "Try using .loc[row_indexer,col_indexer] = value instead\n",
      "\n",
      "See the caveats in the documentation: http://pandas.pydata.org/pandas-docs/stable/indexing.html#indexing-view-versus-copy\n",
      "  \"\"\"Entry point for launching an IPython kernel.\n",
      "/Users/tylerbrown/miniconda3/envs/ds6050/lib/python3.7/site-packages/ipykernel_launcher.py:2: SettingWithCopyWarning: \n",
      "A value is trying to be set on a copy of a slice from a DataFrame.\n",
      "Try using .loc[row_indexer,col_indexer] = value instead\n",
      "\n",
      "See the caveats in the documentation: http://pandas.pydata.org/pandas-docs/stable/indexing.html#indexing-view-versus-copy\n",
      "  \n",
      "/Users/tylerbrown/miniconda3/envs/ds6050/lib/python3.7/site-packages/ipykernel_launcher.py:3: SettingWithCopyWarning: \n",
      "A value is trying to be set on a copy of a slice from a DataFrame.\n",
      "Try using .loc[row_indexer,col_indexer] = value instead\n",
      "\n",
      "See the caveats in the documentation: http://pandas.pydata.org/pandas-docs/stable/indexing.html#indexing-view-versus-copy\n",
      "  This is separate from the ipykernel package so we can avoid doing imports until\n"
     ]
    }
   ],
   "source": [
    "data['norm_cost'] = data.costfunc / 100\n",
    "data['norm_authors'] = -data.authors\n",
    "data['norm_commits'] = -data.commits"
   ]
  },
  {
   "cell_type": "code",
   "execution_count": 64,
   "metadata": {},
   "outputs": [
    {
     "data": {
      "image/png": "[encoded data removed]",
      "text/plain": [
       "<Figure size 432x288 with 1 Axes>"
      ]
     },
     "metadata": {
      "needs_background": "light"
     },
     "output_type": "display_data"
    }
   ],
   "source": [
    "\n",
    "data[(data.index >= '2006-01') & (data.index < '2020-01')][['norm_cost','norm_commits','norm_authors']].plot()\n",
    "plt.show()"
   ]
  },
  {
   "cell_type": "markdown",
   "metadata": {},
   "source": [
    "# Rethinking approach\n",
    "\n",
    "This experience is making me rethink how we are approaching problems in Data Science. \n",
    "Trying to predict an aggregate effect seems like it's problematic and very difficult \n",
    "to extract causal mechanisms. \n",
    "\n",
    "Some of the work in AI which use known differential equations to include known laws\n",
    "from physics, then estimate certain parts of those equations seems interesting. My\n",
    "approach has been reasoning about a system without taking any of the known constraints\n",
    "into consideration. Some constraints to consider:\n",
    "\n",
    "1. Difficulty of multiple authors working on the same file at one time\n",
    "1. Difficulty of working with files containing large numbers of commits\n",
    "1. Difficulty of any developer contributing large amounts of code at\n",
    "   one time.\n",
    "1. Difficulty of new developers making large contributions to an established\n",
    "   project.\n",
    "\n",
    "I'm going to try a different approach that tries to establish some of these constraints,\n",
    "then predict at a lower level of aggregation. If this is successful, then we can establish\n",
    "the following relationship:\n",
    "\n",
    "* $k_p = \\text{$\\max$ number of additions or deletions to a project at time $t$}$\n",
    "* $k_l = \\text{$\\max$ number of additions or deletions to a file at time $t$}$\n",
    "* $k_d = \\text{$\\max$ number of developers to a file at time $t$}$\n",
    "* $k_f = \\text{$\\max$ number of files per project at time $t$}$\n",
    "\n",
    "Given these maximum values $k$ at time $t$, I expect the following relationships\n",
    "\n",
    "$$\n",
    "k_p \\approx \\frac{k_lk_d}{k_f}\n",
    "$$\n",
    "\n",
    "We should then see the lead developer $d^\\star$try to approximate $k$ which reflects them, $d^\\star$,\n",
    "trying to maximize the value of the project $p$. Let's see if this theory is supported by the \n",
    "Linux kernel data."
   ]
  },
  {
   "cell_type": "code",
   "execution_count": 65,
   "metadata": {},
   "outputs": [
    {
     "name": "stdout",
     "output_type": "stream",
     "text": [
      "(1824726, 5)\n"
     ]
    }
   ],
   "source": [
    "# t should be for each day\n",
    "\n",
    "q4 = dal.session.query(\n",
    "    Meta.commit_hash, Author.authored, CommitFile.modified_file,\n",
    "    CommitFile.lines_added, CommitFile.lines_deleted\n",
    ").join(Author).join(CommitFile)\n",
    "\n",
    "items = []\n",
    "for item in q4.all():\n",
    "    r = {\n",
    "        \"commit_hash\": item.commit_hash,\n",
    "        \"date_authored\": item.authored,\n",
    "        \"modified_file\": item.modified_file,\n",
    "        \"lines_added\": item.lines_added,\n",
    "        \"lines_deleted\": item.lines_deleted,\n",
    "    }\n",
    "    items.append(r)\n",
    "fildf = pd.DataFrame(items)\n",
    "print(fildf.shape)\n"
   ]
  },
  {
   "cell_type": "code",
   "execution_count": 66,
   "metadata": {},
   "outputs": [
    {
     "data": {
      "text/plain": [
       "(1309841, 4)"
      ]
     },
     "execution_count": 66,
     "metadata": {},
     "output_type": "execute_result"
    }
   ],
   "source": [
    "per = fildf.date_authored.dt.to_period(\"D\")\n",
    "day = fildf.groupby([per, 'modified_file']).sum()\n",
    "day['costfunc'] = -np.sqrt(np.square(day.lines_added.values) + np.square(day.lines_deleted.values))\n",
    "day['total_lines'] = day.lines_added + day.lines_deleted\n",
    "day.shape"
   ]
  },
  {
   "cell_type": "code",
   "execution_count": 67,
   "metadata": {},
   "outputs": [
    {
     "data": {
      "text/html": [
       "<div>\n",
       "<style scoped>\n",
       "    .dataframe tbody tr th:only-of-type {\n",
       "        vertical-align: middle;\n",
       "    }\n",
       "\n",
       "    .dataframe tbody tr th {\n",
       "        vertical-align: top;\n",
       "    }\n",
       "\n",
       "    .dataframe thead th {\n",
       "        text-align: right;\n",
       "    }\n",
       "</style>\n",
       "<table border=\"1\" class=\"dataframe\">\n",
       "  <thead>\n",
       "    <tr style=\"text-align: right;\">\n",
       "      <th></th>\n",
       "      <th></th>\n",
       "      <th>lines_added</th>\n",
       "      <th>lines_deleted</th>\n",
       "      <th>costfunc</th>\n",
       "      <th>total_lines</th>\n",
       "    </tr>\n",
       "    <tr>\n",
       "      <th>date_authored</th>\n",
       "      <th>modified_file</th>\n",
       "      <th></th>\n",
       "      <th></th>\n",
       "      <th></th>\n",
       "      <th></th>\n",
       "    </tr>\n",
       "  </thead>\n",
       "  <tbody>\n",
       "    <tr>\n",
       "      <th>1970-01-01</th>\n",
       "      <th>drivers/s390/net/qeth_main.c</th>\n",
       "      <td>2</td>\n",
       "      <td>1</td>\n",
       "      <td>-2.236068</td>\n",
       "      <td>3</td>\n",
       "    </tr>\n",
       "    <tr>\n",
       "      <th rowspan=\"4\" valign=\"top\">2001-09-17</th>\n",
       "      <th>drivers/staging/usbip/vhci_hcd.c</th>\n",
       "      <td>2</td>\n",
       "      <td>2</td>\n",
       "      <td>-2.828427</td>\n",
       "      <td>4</td>\n",
       "    </tr>\n",
       "    <tr>\n",
       "      <th>drivers/usb/core/hub.c</th>\n",
       "      <td>65</td>\n",
       "      <td>8</td>\n",
       "      <td>-65.490457</td>\n",
       "      <td>73</td>\n",
       "    </tr>\n",
       "    <tr>\n",
       "      <th>drivers/usb/dwc3/ep0.c</th>\n",
       "      <td>4</td>\n",
       "      <td>0</td>\n",
       "      <td>-4.000000</td>\n",
       "      <td>4</td>\n",
       "    </tr>\n",
       "    <tr>\n",
       "      <th>drivers/usb/gadget/dummy_hcd.c</th>\n",
       "      <td>2</td>\n",
       "      <td>2</td>\n",
       "      <td>-2.828427</td>\n",
       "      <td>4</td>\n",
       "    </tr>\n",
       "  </tbody>\n",
       "</table>\n",
       "</div>"
      ],
      "text/plain": [
       "                                                lines_added  lines_deleted  \\\n",
       "date_authored modified_file                                                  \n",
       "1970-01-01    drivers/s390/net/qeth_main.c                2              1   \n",
       "2001-09-17    drivers/staging/usbip/vhci_hcd.c            2              2   \n",
       "              drivers/usb/core/hub.c                     65              8   \n",
       "              drivers/usb/dwc3/ep0.c                      4              0   \n",
       "              drivers/usb/gadget/dummy_hcd.c              2              2   \n",
       "\n",
       "                                                 costfunc  total_lines  \n",
       "date_authored modified_file                                             \n",
       "1970-01-01    drivers/s390/net/qeth_main.c      -2.236068            3  \n",
       "2001-09-17    drivers/staging/usbip/vhci_hcd.c  -2.828427            4  \n",
       "              drivers/usb/core/hub.c           -65.490457           73  \n",
       "              drivers/usb/dwc3/ep0.c            -4.000000            4  \n",
       "              drivers/usb/gadget/dummy_hcd.c    -2.828427            4  "
      ]
     },
     "execution_count": 67,
     "metadata": {},
     "output_type": "execute_result"
    }
   ],
   "source": [
    "day.head()"
   ]
  },
  {
   "cell_type": "code",
   "execution_count": 68,
   "metadata": {},
   "outputs": [
    {
     "data": {
      "text/html": [
       "<div>\n",
       "<style scoped>\n",
       "    .dataframe tbody tr th:only-of-type {\n",
       "        vertical-align: middle;\n",
       "    }\n",
       "\n",
       "    .dataframe tbody tr th {\n",
       "        vertical-align: top;\n",
       "    }\n",
       "\n",
       "    .dataframe thead th {\n",
       "        text-align: right;\n",
       "    }\n",
       "</style>\n",
       "<table border=\"1\" class=\"dataframe\">\n",
       "  <thead>\n",
       "    <tr style=\"text-align: right;\">\n",
       "      <th></th>\n",
       "      <th>lines_added</th>\n",
       "      <th>lines_deleted</th>\n",
       "      <th>costfunc</th>\n",
       "      <th>total_lines</th>\n",
       "    </tr>\n",
       "  </thead>\n",
       "  <tbody>\n",
       "    <tr>\n",
       "      <th>count</th>\n",
       "      <td>1.309841e+06</td>\n",
       "      <td>1.309841e+06</td>\n",
       "      <td>1.309841e+06</td>\n",
       "      <td>1.309841e+06</td>\n",
       "    </tr>\n",
       "    <tr>\n",
       "      <th>mean</th>\n",
       "      <td>3.939487e+01</td>\n",
       "      <td>1.921675e+01</td>\n",
       "      <td>-5.283569e+01</td>\n",
       "      <td>5.861162e+01</td>\n",
       "    </tr>\n",
       "    <tr>\n",
       "      <th>std</th>\n",
       "      <td>2.975361e+02</td>\n",
       "      <td>1.638906e+02</td>\n",
       "      <td>3.384043e+02</td>\n",
       "      <td>3.565748e+02</td>\n",
       "    </tr>\n",
       "    <tr>\n",
       "      <th>min</th>\n",
       "      <td>0.000000e+00</td>\n",
       "      <td>0.000000e+00</td>\n",
       "      <td>-1.338840e+05</td>\n",
       "      <td>0.000000e+00</td>\n",
       "    </tr>\n",
       "    <tr>\n",
       "      <th>25%</th>\n",
       "      <td>1.000000e+00</td>\n",
       "      <td>0.000000e+00</td>\n",
       "      <td>-2.280351e+01</td>\n",
       "      <td>2.000000e+00</td>\n",
       "    </tr>\n",
       "    <tr>\n",
       "      <th>50%</th>\n",
       "      <td>3.000000e+00</td>\n",
       "      <td>2.000000e+00</td>\n",
       "      <td>-5.830952e+00</td>\n",
       "      <td>7.000000e+00</td>\n",
       "    </tr>\n",
       "    <tr>\n",
       "      <th>75%</th>\n",
       "      <td>1.400000e+01</td>\n",
       "      <td>7.000000e+00</td>\n",
       "      <td>-2.000000e+00</td>\n",
       "      <td>2.700000e+01</td>\n",
       "    </tr>\n",
       "    <tr>\n",
       "      <th>max</th>\n",
       "      <td>1.338840e+05</td>\n",
       "      <td>4.229900e+04</td>\n",
       "      <td>-0.000000e+00</td>\n",
       "      <td>1.338840e+05</td>\n",
       "    </tr>\n",
       "  </tbody>\n",
       "</table>\n",
       "</div>"
      ],
      "text/plain": [
       "        lines_added  lines_deleted      costfunc   total_lines\n",
       "count  1.309841e+06   1.309841e+06  1.309841e+06  1.309841e+06\n",
       "mean   3.939487e+01   1.921675e+01 -5.283569e+01  5.861162e+01\n",
       "std    2.975361e+02   1.638906e+02  3.384043e+02  3.565748e+02\n",
       "min    0.000000e+00   0.000000e+00 -1.338840e+05  0.000000e+00\n",
       "25%    1.000000e+00   0.000000e+00 -2.280351e+01  2.000000e+00\n",
       "50%    3.000000e+00   2.000000e+00 -5.830952e+00  7.000000e+00\n",
       "75%    1.400000e+01   7.000000e+00 -2.000000e+00  2.700000e+01\n",
       "max    1.338840e+05   4.229900e+04 -0.000000e+00  1.338840e+05"
      ]
     },
     "execution_count": 68,
     "metadata": {},
     "output_type": "execute_result"
    }
   ],
   "source": [
    "day.describe()"
   ]
  },
  {
   "cell_type": "code",
   "execution_count": 77,
   "metadata": {},
   "outputs": [
    {
     "data": {
      "image/png": "[encoded data removed]",
      "text/plain": [
       "<Figure size 432x288 with 1 Axes>"
      ]
     },
     "metadata": {
      "needs_background": "light"
     },
     "output_type": "display_data"
    }
   ],
   "source": [
    "day[day.total_lines > 20000].total_lines.hist()\n",
    "plt.show()"
   ]
  },
  {
   "cell_type": "code",
   "execution_count": 82,
   "metadata": {},
   "outputs": [
    {
     "data": {
      "image/png": "[encoded data removed]",
      "text/plain": [
       "<Figure size 432x288 with 1 Axes>"
      ]
     },
     "metadata": {
      "needs_background": "light"
     },
     "output_type": "display_data"
    }
   ],
   "source": [
    "day[day.total_lines <= 100].total_lines.hist()\n",
    "plt.show()"
   ]
  },
  {
   "cell_type": "code",
   "execution_count": 91,
   "metadata": {},
   "outputs": [
    {
     "data": {
      "text/plain": [
       "0.5845778228044473"
      ]
     },
     "execution_count": 91,
     "metadata": {},
     "output_type": "execute_result"
    }
   ],
   "source": [
    "(day.total_lines <= 10).sum() / day.shape[0]"
   ]
  },
  {
   "cell_type": "code",
   "execution_count": 92,
   "metadata": {},
   "outputs": [
    {
     "data": {
      "text/plain": [
       "0.3136502827442415"
      ]
     },
     "execution_count": 92,
     "metadata": {},
     "output_type": "execute_result"
    }
   ],
   "source": [
    "((day.total_lines > 10) & (day.total_lines <= 100)).sum() / day.shape[0]"
   ]
  },
  {
   "cell_type": "code",
   "execution_count": 93,
   "metadata": {},
   "outputs": [
    {
     "data": {
      "text/plain": [
       "0.10177189445131127"
      ]
     },
     "execution_count": 93,
     "metadata": {},
     "output_type": "execute_result"
    }
   ],
   "source": [
    "(day.total_lines > 100).sum() / day.shape[0]"
   ]
  },
  {
   "cell_type": "code",
   "execution_count": 94,
   "metadata": {},
   "outputs": [
    {
     "name": "stdout",
     "output_type": "stream",
     "text": [
      "(1824726, 6)\n"
     ]
    }
   ],
   "source": [
    "# let's do this by author per file now\n",
    "\n",
    "q5 = dal.session.query(\n",
    "    Meta.commit_hash, Author.authored, Author.name, Author.email,\n",
    "    CommitFile.lines_added, CommitFile.lines_deleted\n",
    ").join(Author).join(CommitFile)\n",
    "\n",
    "items = []\n",
    "for item in q5.all():\n",
    "    r = {\n",
    "        \"commit_hash\": item.commit_hash,\n",
    "        \"date_authored\": item.authored,\n",
    "        \"author_name\": item.name,\n",
    "        \"author_email\": item.email,\n",
    "        \"lines_added\": item.lines_added,\n",
    "        \"lines_deleted\": item.lines_deleted,\n",
    "    }\n",
    "    items.append(r)\n",
    "autdf = pd.DataFrame(items)\n",
    "print(autdf.shape)"
   ]
  },
  {
   "cell_type": "code",
   "execution_count": 95,
   "metadata": {},
   "outputs": [],
   "source": [
    "per = autdf.date_authored.dt.to_period(\"D\")"
   ]
  },
  {
   "cell_type": "code",
   "execution_count": 96,
   "metadata": {},
   "outputs": [],
   "source": [
    "dayauth = autdf.groupby([per, 'author_name','author_email']).sum()"
   ]
  },
  {
   "cell_type": "code",
   "execution_count": 98,
   "metadata": {},
   "outputs": [
    {
     "name": "stdout",
     "output_type": "stream",
     "text": [
      "(317713, 3)\n"
     ]
    },
    {
     "data": {
      "text/html": [
       "<div>\n",
       "<style scoped>\n",
       "    .dataframe tbody tr th:only-of-type {\n",
       "        vertical-align: middle;\n",
       "    }\n",
       "\n",
       "    .dataframe tbody tr th {\n",
       "        vertical-align: top;\n",
       "    }\n",
       "\n",
       "    .dataframe thead th {\n",
       "        text-align: right;\n",
       "    }\n",
       "</style>\n",
       "<table border=\"1\" class=\"dataframe\">\n",
       "  <thead>\n",
       "    <tr style=\"text-align: right;\">\n",
       "      <th></th>\n",
       "      <th></th>\n",
       "      <th></th>\n",
       "      <th>lines_added</th>\n",
       "      <th>lines_deleted</th>\n",
       "      <th>total_lines</th>\n",
       "    </tr>\n",
       "    <tr>\n",
       "      <th>date_authored</th>\n",
       "      <th>author_name</th>\n",
       "      <th>author_email</th>\n",
       "      <th></th>\n",
       "      <th></th>\n",
       "      <th></th>\n",
       "    </tr>\n",
       "  </thead>\n",
       "  <tbody>\n",
       "    <tr>\n",
       "      <th>1970-01-01</th>\n",
       "      <th>Ursula Braun</th>\n",
       "      <th>braunu@de.ibm.com</th>\n",
       "      <td>2</td>\n",
       "      <td>1</td>\n",
       "      <td>3</td>\n",
       "    </tr>\n",
       "    <tr>\n",
       "      <th>2001-09-17</th>\n",
       "      <th>John Youn</th>\n",
       "      <th>John.Youn@synopsys.com</th>\n",
       "      <td>145</td>\n",
       "      <td>48</td>\n",
       "      <td>193</td>\n",
       "    </tr>\n",
       "    <tr>\n",
       "      <th>2002-04-09</th>\n",
       "      <th>Greg Kroah-Hartman</th>\n",
       "      <th>gregkh@suse.de</th>\n",
       "      <td>2272</td>\n",
       "      <td>632</td>\n",
       "      <td>2904</td>\n",
       "    </tr>\n",
       "    <tr>\n",
       "      <th>2003-02-20</th>\n",
       "      <th>Ayaz Abdulla</th>\n",
       "      <th>aabdulla@nvidia.com</th>\n",
       "      <td>56</td>\n",
       "      <td>55</td>\n",
       "      <td>111</td>\n",
       "    </tr>\n",
       "    <tr>\n",
       "      <th>2004-07-29</th>\n",
       "      <th>Greg Edwards</th>\n",
       "      <th>edwardsg@sgi.com</th>\n",
       "      <td>9</td>\n",
       "      <td>0</td>\n",
       "      <td>9</td>\n",
       "    </tr>\n",
       "  </tbody>\n",
       "</table>\n",
       "</div>"
      ],
      "text/plain": [
       "                                                         lines_added  \\\n",
       "date_authored author_name        author_email                          \n",
       "1970-01-01    Ursula Braun       braunu@de.ibm.com                 2   \n",
       "2001-09-17    John Youn          John.Youn@synopsys.com          145   \n",
       "2002-04-09    Greg Kroah-Hartman gregkh@suse.de                 2272   \n",
       "2003-02-20    Ayaz Abdulla       aabdulla@nvidia.com              56   \n",
       "2004-07-29    Greg Edwards       edwardsg@sgi.com                  9   \n",
       "\n",
       "                                                         lines_deleted  \\\n",
       "date_authored author_name        author_email                            \n",
       "1970-01-01    Ursula Braun       braunu@de.ibm.com                   1   \n",
       "2001-09-17    John Youn          John.Youn@synopsys.com             48   \n",
       "2002-04-09    Greg Kroah-Hartman gregkh@suse.de                    632   \n",
       "2003-02-20    Ayaz Abdulla       aabdulla@nvidia.com                55   \n",
       "2004-07-29    Greg Edwards       edwardsg@sgi.com                    0   \n",
       "\n",
       "                                                         total_lines  \n",
       "date_authored author_name        author_email                         \n",
       "1970-01-01    Ursula Braun       braunu@de.ibm.com                 3  \n",
       "2001-09-17    John Youn          John.Youn@synopsys.com          193  \n",
       "2002-04-09    Greg Kroah-Hartman gregkh@suse.de                 2904  \n",
       "2003-02-20    Ayaz Abdulla       aabdulla@nvidia.com             111  \n",
       "2004-07-29    Greg Edwards       edwardsg@sgi.com                  9  "
      ]
     },
     "execution_count": 98,
     "metadata": {},
     "output_type": "execute_result"
    }
   ],
   "source": [
    "dayauth['total_lines'] = dayauth.lines_added + dayauth.lines_deleted\n",
    "print(dayauth.shape)\n",
    "dayauth.head()"
   ]
  },
  {
   "cell_type": "code",
   "execution_count": 99,
   "metadata": {},
   "outputs": [
    {
     "data": {
      "text/html": [
       "<div>\n",
       "<style scoped>\n",
       "    .dataframe tbody tr th:only-of-type {\n",
       "        vertical-align: middle;\n",
       "    }\n",
       "\n",
       "    .dataframe tbody tr th {\n",
       "        vertical-align: top;\n",
       "    }\n",
       "\n",
       "    .dataframe thead th {\n",
       "        text-align: right;\n",
       "    }\n",
       "</style>\n",
       "<table border=\"1\" class=\"dataframe\">\n",
       "  <thead>\n",
       "    <tr style=\"text-align: right;\">\n",
       "      <th></th>\n",
       "      <th>lines_added</th>\n",
       "      <th>lines_deleted</th>\n",
       "      <th>total_lines</th>\n",
       "    </tr>\n",
       "  </thead>\n",
       "  <tbody>\n",
       "    <tr>\n",
       "      <th>count</th>\n",
       "      <td>3.177130e+05</td>\n",
       "      <td>317713.000000</td>\n",
       "      <td>3.177130e+05</td>\n",
       "    </tr>\n",
       "    <tr>\n",
       "      <th>mean</th>\n",
       "      <td>1.624139e+02</td>\n",
       "      <td>79.225238</td>\n",
       "      <td>2.416392e+02</td>\n",
       "    </tr>\n",
       "    <tr>\n",
       "      <th>std</th>\n",
       "      <td>1.203170e+04</td>\n",
       "      <td>1298.719543</td>\n",
       "      <td>1.211895e+04</td>\n",
       "    </tr>\n",
       "    <tr>\n",
       "      <th>min</th>\n",
       "      <td>0.000000e+00</td>\n",
       "      <td>0.000000</td>\n",
       "      <td>0.000000e+00</td>\n",
       "    </tr>\n",
       "    <tr>\n",
       "      <th>25%</th>\n",
       "      <td>3.000000e+00</td>\n",
       "      <td>1.000000</td>\n",
       "      <td>6.000000e+00</td>\n",
       "    </tr>\n",
       "    <tr>\n",
       "      <th>50%</th>\n",
       "      <td>1.300000e+01</td>\n",
       "      <td>5.000000</td>\n",
       "      <td>2.200000e+01</td>\n",
       "    </tr>\n",
       "    <tr>\n",
       "      <th>75%</th>\n",
       "      <td>5.800000e+01</td>\n",
       "      <td>25.000000</td>\n",
       "      <td>9.600000e+01</td>\n",
       "    </tr>\n",
       "    <tr>\n",
       "      <th>max</th>\n",
       "      <td>6.718755e+06</td>\n",
       "      <td>219905.000000</td>\n",
       "      <td>6.718755e+06</td>\n",
       "    </tr>\n",
       "  </tbody>\n",
       "</table>\n",
       "</div>"
      ],
      "text/plain": [
       "        lines_added  lines_deleted   total_lines\n",
       "count  3.177130e+05  317713.000000  3.177130e+05\n",
       "mean   1.624139e+02      79.225238  2.416392e+02\n",
       "std    1.203170e+04    1298.719543  1.211895e+04\n",
       "min    0.000000e+00       0.000000  0.000000e+00\n",
       "25%    3.000000e+00       1.000000  6.000000e+00\n",
       "50%    1.300000e+01       5.000000  2.200000e+01\n",
       "75%    5.800000e+01      25.000000  9.600000e+01\n",
       "max    6.718755e+06  219905.000000  6.718755e+06"
      ]
     },
     "execution_count": 99,
     "metadata": {},
     "output_type": "execute_result"
    }
   ],
   "source": [
    "dayauth.describe()"
   ]
  },
  {
   "cell_type": "code",
   "execution_count": 100,
   "metadata": {},
   "outputs": [
    {
     "data": {
      "image/png": "[encoded data removed]",
      "text/plain": [
       "<Figure size 432x288 with 1 Axes>"
      ]
     },
     "metadata": {
      "needs_background": "light"
     },
     "output_type": "display_data"
    }
   ],
   "source": [
    "dayauth.total_lines.hist()\n",
    "plt.show()"
   ]
  },
  {
   "cell_type": "code",
   "execution_count": 108,
   "metadata": {},
   "outputs": [
    {
     "data": {
      "image/png": "[encoded data removed]",
      "text/plain": [
       "<Figure size 432x288 with 1 Axes>"
      ]
     },
     "metadata": {
      "needs_background": "light"
     },
     "output_type": "display_data"
    }
   ],
   "source": [
    "dayauth[(dayauth.total_lines >= 1000) & (dayauth.total_lines < 10000)].total_lines.hist()\n",
    "plt.show()"
   ]
  },
  {
   "cell_type": "code",
   "execution_count": 110,
   "metadata": {},
   "outputs": [
    {
     "data": {
      "image/png": "[encoded data removed]",
      "text/plain": [
       "<Figure size 432x288 with 1 Axes>"
      ]
     },
     "metadata": {
      "needs_background": "light"
     },
     "output_type": "display_data"
    }
   ],
   "source": [
    "dayauth[(dayauth.total_lines < 1000)].total_lines.hist()\n",
    "plt.show()"
   ]
  },
  {
   "cell_type": "markdown",
   "metadata": {},
   "source": [
    "# More thoughts\n",
    "\n",
    "It looks like trying to find a maximum value $k$ for lines of code changed, and number of developers,\n",
    "is way too high. Working at the file at time $t = day$ seems better than using the aggregate. We have\n",
    "indivdual contributors moving the needle too much. Let's try look at this as more of a physics problem.\n",
    "\n",
    "Let's just try to do some things with Velocity\n",
    "\n",
    "$$\n",
    "v = \\frac{d}{t}\n",
    "$$\n",
    "\n",
    "where $d$ is lines added or deleted from a file per day as time $t$. Let's compute\n",
    "\n",
    "$$\n",
    "v_{file}\n",
    "$$"
   ]
  },
  {
   "cell_type": "code",
   "execution_count": 159,
   "metadata": {},
   "outputs": [],
   "source": [
    "# file velocity\n",
    "\n",
    "per = autdf.date_authored.dt.to_period('D')\n",
    "autdf['total_lines'] = autdf.lines_added + autdf.lines_deleted"
   ]
  },
  {
   "cell_type": "code",
   "execution_count": 160,
   "metadata": {},
   "outputs": [],
   "source": [
    "velday = autdf[['date_authored','total_lines']].groupby(per).sum()"
   ]
  },
  {
   "cell_type": "code",
   "execution_count": 161,
   "metadata": {},
   "outputs": [
    {
     "data": {
      "text/plain": [
       "(5192, 1)"
      ]
     },
     "execution_count": 161,
     "metadata": {},
     "output_type": "execute_result"
    }
   ],
   "source": [
    "velday.shape"
   ]
  },
  {
   "cell_type": "code",
   "execution_count": 162,
   "metadata": {},
   "outputs": [
    {
     "data": {
      "image/png": "[encoded data removed]",
      "text/plain": [
       "<Figure size 432x288 with 1 Axes>"
      ]
     },
     "metadata": {
      "needs_background": "light"
     },
     "output_type": "display_data"
    }
   ],
   "source": [
    "velday[(velday.index > '2006-01') & (velday.index <= '2019-03')].plot()\n",
    "plt.show()"
   ]
  },
  {
   "cell_type": "code",
   "execution_count": 185,
   "metadata": {},
   "outputs": [
    {
     "data": {
      "text/plain": [
       "(5192, 2)"
      ]
     },
     "execution_count": 185,
     "metadata": {},
     "output_type": "execute_result"
    }
   ],
   "source": [
    "velautday = autdf[['date_authored','author_name']].groupby([per]).count()\n",
    "velautday.shape"
   ]
  },
  {
   "cell_type": "code",
   "execution_count": 186,
   "metadata": {},
   "outputs": [
    {
     "data": {
      "image/png": "[encoded data removed]",
      "text/plain": [
       "<Figure size 432x288 with 1 Axes>"
      ]
     },
     "metadata": {
      "needs_background": "light"
     },
     "output_type": "display_data"
    }
   ],
   "source": [
    "velautday[(velautday.index > '2006-01') & (velautday.index <= '2019-03')].plot()\n",
    "plt.show()"
   ]
  },
  {
   "cell_type": "code",
   "execution_count": 187,
   "metadata": {},
   "outputs": [
    {
     "data": {
      "text/html": [
       "<div>\n",
       "<style scoped>\n",
       "    .dataframe tbody tr th:only-of-type {\n",
       "        vertical-align: middle;\n",
       "    }\n",
       "\n",
       "    .dataframe tbody tr th {\n",
       "        vertical-align: top;\n",
       "    }\n",
       "\n",
       "    .dataframe thead th {\n",
       "        text-align: right;\n",
       "    }\n",
       "</style>\n",
       "<table border=\"1\" class=\"dataframe\">\n",
       "  <thead>\n",
       "    <tr style=\"text-align: right;\">\n",
       "      <th></th>\n",
       "      <th>author_email</th>\n",
       "      <th>author_name</th>\n",
       "      <th>commit_hash</th>\n",
       "      <th>date_authored</th>\n",
       "      <th>lines_added</th>\n",
       "      <th>lines_deleted</th>\n",
       "      <th>total_lines</th>\n",
       "    </tr>\n",
       "  </thead>\n",
       "  <tbody>\n",
       "    <tr>\n",
       "      <th>0</th>\n",
       "      <td>torvalds@linux-foundation.org</td>\n",
       "      <td>Linus Torvalds</td>\n",
       "      <td>8c2ffd9174779014c3fe1f96d9dc3641d9175f00</td>\n",
       "      <td>2019-03-24 14:02:26</td>\n",
       "      <td>1</td>\n",
       "      <td>1</td>\n",
       "      <td>2</td>\n",
       "    </tr>\n",
       "    <tr>\n",
       "      <th>1</th>\n",
       "      <td>shc_work@mail.ru</td>\n",
       "      <td>Alexander Shiyan</td>\n",
       "      <td>2a6a8e2d9004b5303fcb494588ba3a3b87a256c3</td>\n",
       "      <td>2018-12-20 14:16:26</td>\n",
       "      <td>13</td>\n",
       "      <td>32</td>\n",
       "      <td>45</td>\n",
       "    </tr>\n",
       "    <tr>\n",
       "      <th>2</th>\n",
       "      <td>darrick.wong@oracle.com</td>\n",
       "      <td>Darrick J. Wong</td>\n",
       "      <td>18915b5873f07e5030e6fb108a050fa7c71c59fb</td>\n",
       "      <td>2019-03-23 12:10:29</td>\n",
       "      <td>7</td>\n",
       "      <td>0</td>\n",
       "      <td>7</td>\n",
       "    </tr>\n",
       "    <tr>\n",
       "      <th>3</th>\n",
       "      <td>yi.zhang@huawei.com</td>\n",
       "      <td>zhangyi (F)</td>\n",
       "      <td>5e86bdda41534e17621d5a071b294943cae4376e</td>\n",
       "      <td>2019-03-23 11:56:01</td>\n",
       "      <td>22</td>\n",
       "      <td>25</td>\n",
       "      <td>47</td>\n",
       "    </tr>\n",
       "    <tr>\n",
       "      <th>4</th>\n",
       "      <td>yi.zhang@huawei.com</td>\n",
       "      <td>zhangyi (F)</td>\n",
       "      <td>674a2b27234d1b7afcb0a9162e81b2e53aeef217</td>\n",
       "      <td>2019-03-23 11:43:05</td>\n",
       "      <td>8</td>\n",
       "      <td>4</td>\n",
       "      <td>12</td>\n",
       "    </tr>\n",
       "  </tbody>\n",
       "</table>\n",
       "</div>"
      ],
      "text/plain": [
       "                    author_email       author_name  \\\n",
       "0  torvalds@linux-foundation.org    Linus Torvalds   \n",
       "1               shc_work@mail.ru  Alexander Shiyan   \n",
       "2        darrick.wong@oracle.com   Darrick J. Wong   \n",
       "3            yi.zhang@huawei.com       zhangyi (F)   \n",
       "4            yi.zhang@huawei.com       zhangyi (F)   \n",
       "\n",
       "                                commit_hash       date_authored  lines_added  \\\n",
       "0  8c2ffd9174779014c3fe1f96d9dc3641d9175f00 2019-03-24 14:02:26            1   \n",
       "1  2a6a8e2d9004b5303fcb494588ba3a3b87a256c3 2018-12-20 14:16:26           13   \n",
       "2  18915b5873f07e5030e6fb108a050fa7c71c59fb 2019-03-23 12:10:29            7   \n",
       "3  5e86bdda41534e17621d5a071b294943cae4376e 2019-03-23 11:56:01           22   \n",
       "4  674a2b27234d1b7afcb0a9162e81b2e53aeef217 2019-03-23 11:43:05            8   \n",
       "\n",
       "   lines_deleted  total_lines  \n",
       "0              1            2  \n",
       "1             32           45  \n",
       "2              0            7  \n",
       "3             25           47  \n",
       "4              4           12  "
      ]
     },
     "execution_count": 187,
     "metadata": {},
     "output_type": "execute_result"
    }
   ],
   "source": [
    "autdf.head()"
   ]
  },
  {
   "cell_type": "code",
   "execution_count": 171,
   "metadata": {},
   "outputs": [],
   "source": [
    "# author velocity (forget the number of files for now)\n",
    "\n",
    "per = autdf.date_authored.dt.to_period('D')\n",
    "authvel = autdf[['author_name','date_authored','total_lines']].groupby([per, 'author_name']).sum()"
   ]
  },
  {
   "cell_type": "code",
   "execution_count": 172,
   "metadata": {},
   "outputs": [
    {
     "data": {
      "text/html": [
       "<div>\n",
       "<style scoped>\n",
       "    .dataframe tbody tr th:only-of-type {\n",
       "        vertical-align: middle;\n",
       "    }\n",
       "\n",
       "    .dataframe tbody tr th {\n",
       "        vertical-align: top;\n",
       "    }\n",
       "\n",
       "    .dataframe thead th {\n",
       "        text-align: right;\n",
       "    }\n",
       "</style>\n",
       "<table border=\"1\" class=\"dataframe\">\n",
       "  <thead>\n",
       "    <tr style=\"text-align: right;\">\n",
       "      <th></th>\n",
       "      <th></th>\n",
       "      <th>total_lines</th>\n",
       "    </tr>\n",
       "    <tr>\n",
       "      <th>date_authored</th>\n",
       "      <th>author_name</th>\n",
       "      <th></th>\n",
       "    </tr>\n",
       "  </thead>\n",
       "  <tbody>\n",
       "    <tr>\n",
       "      <th>1970-01-01</th>\n",
       "      <th>Ursula Braun</th>\n",
       "      <td>3</td>\n",
       "    </tr>\n",
       "    <tr>\n",
       "      <th>2001-09-17</th>\n",
       "      <th>John Youn</th>\n",
       "      <td>193</td>\n",
       "    </tr>\n",
       "    <tr>\n",
       "      <th>2002-04-09</th>\n",
       "      <th>Greg Kroah-Hartman</th>\n",
       "      <td>2904</td>\n",
       "    </tr>\n",
       "    <tr>\n",
       "      <th>2003-02-20</th>\n",
       "      <th>Ayaz Abdulla</th>\n",
       "      <td>111</td>\n",
       "    </tr>\n",
       "    <tr>\n",
       "      <th>2004-07-29</th>\n",
       "      <th>Greg Edwards</th>\n",
       "      <td>9</td>\n",
       "    </tr>\n",
       "  </tbody>\n",
       "</table>\n",
       "</div>"
      ],
      "text/plain": [
       "                                  total_lines\n",
       "date_authored author_name                    \n",
       "1970-01-01    Ursula Braun                  3\n",
       "2001-09-17    John Youn                   193\n",
       "2002-04-09    Greg Kroah-Hartman         2904\n",
       "2003-02-20    Ayaz Abdulla                111\n",
       "2004-07-29    Greg Edwards                  9"
      ]
     },
     "execution_count": 172,
     "metadata": {},
     "output_type": "execute_result"
    }
   ],
   "source": [
    "authvel.head()"
   ]
  },
  {
   "cell_type": "code",
   "execution_count": 173,
   "metadata": {},
   "outputs": [
    {
     "data": {
      "text/html": [
       "<div>\n",
       "<style scoped>\n",
       "    .dataframe tbody tr th:only-of-type {\n",
       "        vertical-align: middle;\n",
       "    }\n",
       "\n",
       "    .dataframe tbody tr th {\n",
       "        vertical-align: top;\n",
       "    }\n",
       "\n",
       "    .dataframe thead th {\n",
       "        text-align: right;\n",
       "    }\n",
       "</style>\n",
       "<table border=\"1\" class=\"dataframe\">\n",
       "  <thead>\n",
       "    <tr style=\"text-align: right;\">\n",
       "      <th></th>\n",
       "      <th></th>\n",
       "      <th>total_lines</th>\n",
       "    </tr>\n",
       "    <tr>\n",
       "      <th>date_authored</th>\n",
       "      <th>author_name</th>\n",
       "      <th></th>\n",
       "    </tr>\n",
       "  </thead>\n",
       "  <tbody>\n",
       "    <tr>\n",
       "      <th>2005-04-16</th>\n",
       "      <th>Linus Torvalds</th>\n",
       "      <td>6718755</td>\n",
       "    </tr>\n",
       "    <tr>\n",
       "      <th>2017-03-02</th>\n",
       "      <th>Alex Deucher</th>\n",
       "      <td>367999</td>\n",
       "    </tr>\n",
       "    <tr>\n",
       "      <th>2015-04-16</th>\n",
       "      <th>Alex Deucher</th>\n",
       "      <td>314489</td>\n",
       "    </tr>\n",
       "    <tr>\n",
       "      <th>2017-05-04</th>\n",
       "      <th>Alex Deucher</th>\n",
       "      <td>277280</td>\n",
       "    </tr>\n",
       "    <tr>\n",
       "      <th>2013-05-02</th>\n",
       "      <th>Peng Tao</th>\n",
       "      <td>258994</td>\n",
       "    </tr>\n",
       "  </tbody>\n",
       "</table>\n",
       "</div>"
      ],
      "text/plain": [
       "                              total_lines\n",
       "date_authored author_name                \n",
       "2005-04-16    Linus Torvalds      6718755\n",
       "2017-03-02    Alex Deucher         367999\n",
       "2015-04-16    Alex Deucher         314489\n",
       "2017-05-04    Alex Deucher         277280\n",
       "2013-05-02    Peng Tao             258994"
      ]
     },
     "execution_count": 173,
     "metadata": {},
     "output_type": "execute_result"
    }
   ],
   "source": [
    "authvel.sort_values(by='total_lines', ascending=False).head()"
   ]
  },
  {
   "cell_type": "code",
   "execution_count": 204,
   "metadata": {},
   "outputs": [],
   "source": [
    "linus_contribs = autdf[autdf.author_name == 'Linus Torvalds'][['date_authored', 'total_lines']].groupby(per).sum()"
   ]
  },
  {
   "cell_type": "code",
   "execution_count": 213,
   "metadata": {},
   "outputs": [
    {
     "data": {
      "image/png": "[encoded data removed]",
      "text/plain": [
       "<Figure size 432x288 with 1 Axes>"
      ]
     },
     "metadata": {
      "needs_background": "light"
     },
     "output_type": "display_data"
    }
   ],
   "source": [
    "linus_contribs[linus_contribs.index > '2006-01'].plot()\n",
    "plt.show()"
   ]
  },
  {
   "cell_type": "code",
   "execution_count": 215,
   "metadata": {},
   "outputs": [
    {
     "data": {
      "image/png": "[encoded data removed]",
      "text/plain": [
       "<Figure size 432x288 with 1 Axes>"
      ]
     },
     "metadata": {
      "needs_background": "light"
     },
     "output_type": "display_data"
    }
   ],
   "source": [
    "linus_contribs[linus_contribs.index <= '2006-01'].plot()\n",
    "plt.show()"
   ]
  },
  {
   "cell_type": "code",
   "execution_count": 216,
   "metadata": {},
   "outputs": [],
   "source": [
    "alex_contribs = autdf[autdf.author_name =='Alex Deucher'][['date_authored', 'total_lines']].groupby(per).sum()"
   ]
  },
  {
   "cell_type": "code",
   "execution_count": 218,
   "metadata": {},
   "outputs": [
    {
     "data": {
      "image/png": "[encoded data removed]",
      "text/plain": [
       "<Figure size 432x288 with 1 Axes>"
      ]
     },
     "metadata": {
      "needs_background": "light"
     },
     "output_type": "display_data"
    }
   ],
   "source": [
    "alex_contribs.plot()\n",
    "plt.show()"
   ]
  },
  {
   "cell_type": "code",
   "execution_count": 219,
   "metadata": {},
   "outputs": [
    {
     "data": {
      "text/html": [
       "<div>\n",
       "<style scoped>\n",
       "    .dataframe tbody tr th:only-of-type {\n",
       "        vertical-align: middle;\n",
       "    }\n",
       "\n",
       "    .dataframe tbody tr th {\n",
       "        vertical-align: top;\n",
       "    }\n",
       "\n",
       "    .dataframe thead th {\n",
       "        text-align: right;\n",
       "    }\n",
       "</style>\n",
       "<table border=\"1\" class=\"dataframe\">\n",
       "  <thead>\n",
       "    <tr style=\"text-align: right;\">\n",
       "      <th></th>\n",
       "      <th>total_lines</th>\n",
       "    </tr>\n",
       "  </thead>\n",
       "  <tbody>\n",
       "    <tr>\n",
       "      <th>count</th>\n",
       "      <td>1175.000000</td>\n",
       "    </tr>\n",
       "    <tr>\n",
       "      <th>mean</th>\n",
       "      <td>1218.683404</td>\n",
       "    </tr>\n",
       "    <tr>\n",
       "      <th>std</th>\n",
       "      <td>16657.886138</td>\n",
       "    </tr>\n",
       "    <tr>\n",
       "      <th>min</th>\n",
       "      <td>1.000000</td>\n",
       "    </tr>\n",
       "    <tr>\n",
       "      <th>25%</th>\n",
       "      <td>8.000000</td>\n",
       "    </tr>\n",
       "    <tr>\n",
       "      <th>50%</th>\n",
       "      <td>36.000000</td>\n",
       "    </tr>\n",
       "    <tr>\n",
       "      <th>75%</th>\n",
       "      <td>132.000000</td>\n",
       "    </tr>\n",
       "    <tr>\n",
       "      <th>max</th>\n",
       "      <td>367999.000000</td>\n",
       "    </tr>\n",
       "  </tbody>\n",
       "</table>\n",
       "</div>"
      ],
      "text/plain": [
       "         total_lines\n",
       "count    1175.000000\n",
       "mean     1218.683404\n",
       "std     16657.886138\n",
       "min         1.000000\n",
       "25%         8.000000\n",
       "50%        36.000000\n",
       "75%       132.000000\n",
       "max    367999.000000"
      ]
     },
     "execution_count": 219,
     "metadata": {},
     "output_type": "execute_result"
    }
   ],
   "source": [
    "alex_contribs.describe()"
   ]
  },
  {
   "cell_type": "code",
   "execution_count": 220,
   "metadata": {},
   "outputs": [
    {
     "data": {
      "text/plain": [
       "(1175, 1)"
      ]
     },
     "execution_count": 220,
     "metadata": {},
     "output_type": "execute_result"
    }
   ],
   "source": [
    "alex_contribs.shape"
   ]
  },
  {
   "cell_type": "code",
   "execution_count": 222,
   "metadata": {},
   "outputs": [
    {
     "data": {
      "text/plain": [
       "0.22630970724191063"
      ]
     },
     "execution_count": 222,
     "metadata": {},
     "output_type": "execute_result"
    }
   ],
   "source": [
    "alex_contribs.shape[0] / velday.shape[0]"
   ]
  },
  {
   "cell_type": "code",
   "execution_count": 223,
   "metadata": {},
   "outputs": [
    {
     "data": {
      "text/plain": [
       "0.2723420647149461"
      ]
     },
     "execution_count": 223,
     "metadata": {},
     "output_type": "execute_result"
    }
   ],
   "source": [
    "linus_contribs.shape[0] / velday.shape[0]"
   ]
  },
  {
   "cell_type": "code",
   "execution_count": 312,
   "metadata": {},
   "outputs": [
    {
     "data": {
      "text/plain": [
       "count                1824726\n",
       "unique                 20010\n",
       "top       Greg Kroah-Hartman\n",
       "freq                   33051\n",
       "Name: author_name, dtype: object"
      ]
     },
     "execution_count": 312,
     "metadata": {},
     "output_type": "execute_result"
    }
   ],
   "source": [
    "autdf.author_name.describe()"
   ]
  },
  {
   "cell_type": "code",
   "execution_count": 232,
   "metadata": {},
   "outputs": [],
   "source": [
    "days_contributed = autdf['date_authored'].groupby(per).unique().shape"
   ]
  },
  {
   "cell_type": "code",
   "execution_count": 236,
   "metadata": {},
   "outputs": [],
   "source": [
    "dailies = autdf[['author_name','date_authored']].groupby([per, 'author_name'])"
   ]
  },
  {
   "cell_type": "code",
   "execution_count": 254,
   "metadata": {},
   "outputs": [],
   "source": [
    "daily_part = dailies.size().reset_index().groupby('author_name')['date_authored'].count()"
   ]
  },
  {
   "cell_type": "code",
   "execution_count": 257,
   "metadata": {},
   "outputs": [],
   "source": [
    "daily = pd.DataFrame(daily_part)"
   ]
  },
  {
   "cell_type": "code",
   "execution_count": 261,
   "metadata": {},
   "outputs": [
    {
     "data": {
      "text/html": [
       "<div>\n",
       "<style scoped>\n",
       "    .dataframe tbody tr th:only-of-type {\n",
       "        vertical-align: middle;\n",
       "    }\n",
       "\n",
       "    .dataframe tbody tr th {\n",
       "        vertical-align: top;\n",
       "    }\n",
       "\n",
       "    .dataframe thead th {\n",
       "        text-align: right;\n",
       "    }\n",
       "</style>\n",
       "<table border=\"1\" class=\"dataframe\">\n",
       "  <thead>\n",
       "    <tr style=\"text-align: right;\">\n",
       "      <th></th>\n",
       "      <th>days_contributed</th>\n",
       "    </tr>\n",
       "    <tr>\n",
       "      <th>author_name</th>\n",
       "      <th></th>\n",
       "    </tr>\n",
       "  </thead>\n",
       "  <tbody>\n",
       "    <tr>\n",
       "      <th></th>\n",
       "      <td>10</td>\n",
       "    </tr>\n",
       "    <tr>\n",
       "      <th>=?UTF-8?q?Christian=20K=C3=B6nig?=</th>\n",
       "      <td>2</td>\n",
       "    </tr>\n",
       "    <tr>\n",
       "      <th>=?UTF-8?q?Simon=20Sandstr=C3=B6m?=</th>\n",
       "      <td>1</td>\n",
       "    </tr>\n",
       "    <tr>\n",
       "      <th>=?utf-8?q?Felix_K=C3=BChling?=</th>\n",
       "      <td>1</td>\n",
       "    </tr>\n",
       "    <tr>\n",
       "      <th>=?utf-8?q?Michel_D=C3=A4nzer?=</th>\n",
       "      <td>5</td>\n",
       "    </tr>\n",
       "  </tbody>\n",
       "</table>\n",
       "</div>"
      ],
      "text/plain": [
       "                                    days_contributed\n",
       "author_name                                         \n",
       "                                                  10\n",
       "=?UTF-8?q?Christian=20K=C3=B6nig?=                 2\n",
       "=?UTF-8?q?Simon=20Sandstr=C3=B6m?=                 1\n",
       "=?utf-8?q?Felix_K=C3=BChling?=                     1\n",
       "=?utf-8?q?Michel_D=C3=A4nzer?=                     5"
      ]
     },
     "execution_count": 261,
     "metadata": {},
     "output_type": "execute_result"
    }
   ],
   "source": [
    "daily.columns = ['days_contributed']\n",
    "daily.head()"
   ]
  },
  {
   "cell_type": "code",
   "execution_count": 262,
   "metadata": {},
   "outputs": [],
   "source": [
    "daily['percent_total'] = daily.days_contributed / days_contributed"
   ]
  },
  {
   "cell_type": "code",
   "execution_count": 265,
   "metadata": {},
   "outputs": [
    {
     "data": {
      "text/html": [
       "<div>\n",
       "<style scoped>\n",
       "    .dataframe tbody tr th:only-of-type {\n",
       "        vertical-align: middle;\n",
       "    }\n",
       "\n",
       "    .dataframe tbody tr th {\n",
       "        vertical-align: top;\n",
       "    }\n",
       "\n",
       "    .dataframe thead th {\n",
       "        text-align: right;\n",
       "    }\n",
       "</style>\n",
       "<table border=\"1\" class=\"dataframe\">\n",
       "  <thead>\n",
       "    <tr style=\"text-align: right;\">\n",
       "      <th></th>\n",
       "      <th>days_contributed</th>\n",
       "      <th>percent_total</th>\n",
       "    </tr>\n",
       "    <tr>\n",
       "      <th>author_name</th>\n",
       "      <th></th>\n",
       "      <th></th>\n",
       "    </tr>\n",
       "  </thead>\n",
       "  <tbody>\n",
       "    <tr>\n",
       "      <th>Takashi Iwai</th>\n",
       "      <td>1832</td>\n",
       "      <td>0.352851</td>\n",
       "    </tr>\n",
       "    <tr>\n",
       "      <th>Eric Dumazet</th>\n",
       "      <td>1633</td>\n",
       "      <td>0.314522</td>\n",
       "    </tr>\n",
       "    <tr>\n",
       "      <th>David S. Miller</th>\n",
       "      <td>1492</td>\n",
       "      <td>0.287365</td>\n",
       "    </tr>\n",
       "    <tr>\n",
       "      <th>Johannes Berg</th>\n",
       "      <td>1442</td>\n",
       "      <td>0.277735</td>\n",
       "    </tr>\n",
       "    <tr>\n",
       "      <th>Linus Torvalds</th>\n",
       "      <td>1414</td>\n",
       "      <td>0.272342</td>\n",
       "    </tr>\n",
       "  </tbody>\n",
       "</table>\n",
       "</div>"
      ],
      "text/plain": [
       "                 days_contributed  percent_total\n",
       "author_name                                     \n",
       "Takashi Iwai                 1832       0.352851\n",
       "Eric Dumazet                 1633       0.314522\n",
       "David S. Miller              1492       0.287365\n",
       "Johannes Berg                1442       0.277735\n",
       "Linus Torvalds               1414       0.272342"
      ]
     },
     "execution_count": 265,
     "metadata": {},
     "output_type": "execute_result"
    }
   ],
   "source": [
    "daily.sort_values(by='percent_total', ascending=False).head()"
   ]
  },
  {
   "cell_type": "markdown",
   "metadata": {},
   "source": [
    "## Thoughts so far\n",
    "\n",
    "Alright, it looks like contributions are really spikey because even the\n",
    "top authors are only contributing code about 30% of the days where code\n",
    "could be contributed. Let's get a better understanding of how often top\n",
    "authors are actually contributing by setting them up against a proper \n",
    "range of dates."
   ]
  },
  {
   "cell_type": "code",
   "execution_count": 274,
   "metadata": {},
   "outputs": [
    {
     "data": {
      "text/plain": [
       "<matplotlib.axes._subplots.AxesSubplot at 0x1a96fa2828>"
      ]
     },
     "execution_count": 274,
     "metadata": {},
     "output_type": "execute_result"
    },
    {
     "data": {
      "image/png": "[encoded data removed]",
      "text/plain": [
       "<Figure size 432x288 with 1 Axes>"
      ]
     },
     "metadata": {
      "needs_background": "light"
     },
     "output_type": "display_data"
    }
   ],
   "source": [
    "autdf[(autdf.date_authored >= '2005-01') & (autdf.date_authored < '2019-01')].date_authored.hist()"
   ]
  },
  {
   "cell_type": "code",
   "execution_count": 283,
   "metadata": {},
   "outputs": [
    {
     "data": {
      "text/plain": [
       "<matplotlib.axes._subplots.AxesSubplot at 0x1ab690f048>"
      ]
     },
     "execution_count": 283,
     "metadata": {},
     "output_type": "execute_result"
    },
    {
     "data": {
      "image/png": "[encoded data removed]",
      "text/plain": [
       "<Figure size 432x288 with 1 Axes>"
      ]
     },
     "metadata": {
      "needs_background": "light"
     },
     "output_type": "display_data"
    }
   ],
   "source": [
    "autdf[(autdf.date_authored >= '2005-01') & (autdf.date_authored < '2019-01')].total_lines.plot()"
   ]
  },
  {
   "cell_type": "code",
   "execution_count": 349,
   "metadata": {},
   "outputs": [
    {
     "data": {
      "text/html": [
       "<div>\n",
       "<style scoped>\n",
       "    .dataframe tbody tr th:only-of-type {\n",
       "        vertical-align: middle;\n",
       "    }\n",
       "\n",
       "    .dataframe tbody tr th {\n",
       "        vertical-align: top;\n",
       "    }\n",
       "\n",
       "    .dataframe thead th {\n",
       "        text-align: right;\n",
       "    }\n",
       "</style>\n",
       "<table border=\"1\" class=\"dataframe\">\n",
       "  <thead>\n",
       "    <tr style=\"text-align: right;\">\n",
       "      <th></th>\n",
       "      <th>date_range</th>\n",
       "    </tr>\n",
       "  </thead>\n",
       "  <tbody>\n",
       "    <tr>\n",
       "      <th>0</th>\n",
       "      <td>2005-01-01</td>\n",
       "    </tr>\n",
       "    <tr>\n",
       "      <th>1</th>\n",
       "      <td>2005-01-02</td>\n",
       "    </tr>\n",
       "    <tr>\n",
       "      <th>2</th>\n",
       "      <td>2005-01-03</td>\n",
       "    </tr>\n",
       "    <tr>\n",
       "      <th>3</th>\n",
       "      <td>2005-01-04</td>\n",
       "    </tr>\n",
       "    <tr>\n",
       "      <th>4</th>\n",
       "      <td>2005-01-05</td>\n",
       "    </tr>\n",
       "  </tbody>\n",
       "</table>\n",
       "</div>"
      ],
      "text/plain": [
       "  date_range\n",
       "0 2005-01-01\n",
       "1 2005-01-02\n",
       "2 2005-01-03\n",
       "3 2005-01-04\n",
       "4 2005-01-05"
      ]
     },
     "execution_count": 349,
     "metadata": {},
     "output_type": "execute_result"
    }
   ],
   "source": [
    "linux_dates = pd.DataFrame(pd.date_range('2005-01', '2019-01'))\n",
    "linux_dates.columns = ['date_range']\n",
    "linux_dates.head()"
   ]
  },
  {
   "cell_type": "code",
   "execution_count": 350,
   "metadata": {},
   "outputs": [
    {
     "data": {
      "text/plain": [
       "(117, 1)"
      ]
     },
     "execution_count": 350,
     "metadata": {},
     "output_type": "execute_result"
    }
   ],
   "source": [
    "linux_dates = linux_dates.groupby(per).count()\n",
    "linux_dates.shape"
   ]
  },
  {
   "cell_type": "code",
   "execution_count": 351,
   "metadata": {},
   "outputs": [],
   "source": [
    "autbyday = autdf[['author_email','author_name','date_authored', 'lines_added', \n",
    "                  'lines_deleted', 'total_lines']].groupby([per,'author_name']).sum()"
   ]
  },
  {
   "cell_type": "code",
   "execution_count": 352,
   "metadata": {},
   "outputs": [
    {
     "data": {
      "text/html": [
       "<div>\n",
       "<style scoped>\n",
       "    .dataframe tbody tr th:only-of-type {\n",
       "        vertical-align: middle;\n",
       "    }\n",
       "\n",
       "    .dataframe tbody tr th {\n",
       "        vertical-align: top;\n",
       "    }\n",
       "\n",
       "    .dataframe thead th {\n",
       "        text-align: right;\n",
       "    }\n",
       "</style>\n",
       "<table border=\"1\" class=\"dataframe\">\n",
       "  <thead>\n",
       "    <tr style=\"text-align: right;\">\n",
       "      <th></th>\n",
       "      <th></th>\n",
       "      <th>lines_added</th>\n",
       "      <th>lines_deleted</th>\n",
       "      <th>total_lines</th>\n",
       "    </tr>\n",
       "    <tr>\n",
       "      <th>date_authored</th>\n",
       "      <th>author_name</th>\n",
       "      <th></th>\n",
       "      <th></th>\n",
       "      <th></th>\n",
       "    </tr>\n",
       "  </thead>\n",
       "  <tbody>\n",
       "    <tr>\n",
       "      <th>1970-01-01</th>\n",
       "      <th>Ursula Braun</th>\n",
       "      <td>2</td>\n",
       "      <td>1</td>\n",
       "      <td>3</td>\n",
       "    </tr>\n",
       "    <tr>\n",
       "      <th>2001-09-17</th>\n",
       "      <th>John Youn</th>\n",
       "      <td>145</td>\n",
       "      <td>48</td>\n",
       "      <td>193</td>\n",
       "    </tr>\n",
       "    <tr>\n",
       "      <th>2002-04-09</th>\n",
       "      <th>Greg Kroah-Hartman</th>\n",
       "      <td>2272</td>\n",
       "      <td>632</td>\n",
       "      <td>2904</td>\n",
       "    </tr>\n",
       "    <tr>\n",
       "      <th>2003-02-20</th>\n",
       "      <th>Ayaz Abdulla</th>\n",
       "      <td>56</td>\n",
       "      <td>55</td>\n",
       "      <td>111</td>\n",
       "    </tr>\n",
       "    <tr>\n",
       "      <th>2004-07-29</th>\n",
       "      <th>Greg Edwards</th>\n",
       "      <td>9</td>\n",
       "      <td>0</td>\n",
       "      <td>9</td>\n",
       "    </tr>\n",
       "  </tbody>\n",
       "</table>\n",
       "</div>"
      ],
      "text/plain": [
       "                                  lines_added  lines_deleted  total_lines\n",
       "date_authored author_name                                                \n",
       "1970-01-01    Ursula Braun                  2              1            3\n",
       "2001-09-17    John Youn                   145             48          193\n",
       "2002-04-09    Greg Kroah-Hartman         2272            632         2904\n",
       "2003-02-20    Ayaz Abdulla                 56             55          111\n",
       "2004-07-29    Greg Edwards                  9              0            9"
      ]
     },
     "execution_count": 352,
     "metadata": {},
     "output_type": "execute_result"
    }
   ],
   "source": [
    "autbyday.head()"
   ]
  },
  {
   "cell_type": "code",
   "execution_count": 353,
   "metadata": {},
   "outputs": [
    {
     "data": {
      "text/plain": [
       "(314906, 3)"
      ]
     },
     "execution_count": 353,
     "metadata": {},
     "output_type": "execute_result"
    }
   ],
   "source": [
    "autbyday.shape"
   ]
  },
  {
   "cell_type": "code",
   "execution_count": 361,
   "metadata": {},
   "outputs": [],
   "source": [
    "items = pd.merge(linux_dates, autbyday, left_index=True, right_on='date_authored')"
   ]
  },
  {
   "cell_type": "code",
   "execution_count": 373,
   "metadata": {},
   "outputs": [
    {
     "data": {
      "text/plain": [
       "count                 1824726\n",
       "unique                 730276\n",
       "top       2005-04-16 15:20:36\n",
       "freq                    17291\n",
       "first     1970-01-01 01:00:01\n",
       "last      2037-04-25 10:08:26\n",
       "Name: date_authored, dtype: object"
      ]
     },
     "execution_count": 373,
     "metadata": {},
     "output_type": "execute_result"
    }
   ],
   "source": [
    "autdf.date_authored.describe()"
   ]
  },
  {
   "cell_type": "code",
   "execution_count": 386,
   "metadata": {},
   "outputs": [],
   "source": [
    "items = autdf[['author_name', 'lines_added','lines_deleted', 'total_lines']].groupby(per).sum()"
   ]
  },
  {
   "cell_type": "code",
   "execution_count": 387,
   "metadata": {},
   "outputs": [
    {
     "data": {
      "text/plain": [
       "(5192, 3)"
      ]
     },
     "execution_count": 387,
     "metadata": {},
     "output_type": "execute_result"
    }
   ],
   "source": [
    "items.shape"
   ]
  },
  {
   "cell_type": "code",
   "execution_count": 388,
   "metadata": {},
   "outputs": [
    {
     "data": {
      "text/html": [
       "<div>\n",
       "<style scoped>\n",
       "    .dataframe tbody tr th:only-of-type {\n",
       "        vertical-align: middle;\n",
       "    }\n",
       "\n",
       "    .dataframe tbody tr th {\n",
       "        vertical-align: top;\n",
       "    }\n",
       "\n",
       "    .dataframe thead th {\n",
       "        text-align: right;\n",
       "    }\n",
       "</style>\n",
       "<table border=\"1\" class=\"dataframe\">\n",
       "  <thead>\n",
       "    <tr style=\"text-align: right;\">\n",
       "      <th></th>\n",
       "      <th>lines_added</th>\n",
       "      <th>lines_deleted</th>\n",
       "      <th>total_lines</th>\n",
       "    </tr>\n",
       "    <tr>\n",
       "      <th>date_authored</th>\n",
       "      <th></th>\n",
       "      <th></th>\n",
       "      <th></th>\n",
       "    </tr>\n",
       "  </thead>\n",
       "  <tbody>\n",
       "    <tr>\n",
       "      <th>1970-01-01</th>\n",
       "      <td>2</td>\n",
       "      <td>1</td>\n",
       "      <td>3</td>\n",
       "    </tr>\n",
       "    <tr>\n",
       "      <th>2001-09-17</th>\n",
       "      <td>145</td>\n",
       "      <td>48</td>\n",
       "      <td>193</td>\n",
       "    </tr>\n",
       "    <tr>\n",
       "      <th>2002-04-09</th>\n",
       "      <td>2272</td>\n",
       "      <td>632</td>\n",
       "      <td>2904</td>\n",
       "    </tr>\n",
       "    <tr>\n",
       "      <th>2003-02-20</th>\n",
       "      <td>56</td>\n",
       "      <td>55</td>\n",
       "      <td>111</td>\n",
       "    </tr>\n",
       "    <tr>\n",
       "      <th>2004-07-29</th>\n",
       "      <td>9</td>\n",
       "      <td>0</td>\n",
       "      <td>9</td>\n",
       "    </tr>\n",
       "  </tbody>\n",
       "</table>\n",
       "</div>"
      ],
      "text/plain": [
       "               lines_added  lines_deleted  total_lines\n",
       "date_authored                                         \n",
       "1970-01-01               2              1            3\n",
       "2001-09-17             145             48          193\n",
       "2002-04-09            2272            632         2904\n",
       "2003-02-20              56             55          111\n",
       "2004-07-29               9              0            9"
      ]
     },
     "execution_count": 388,
     "metadata": {},
     "output_type": "execute_result"
    }
   ],
   "source": [
    "items.head()"
   ]
  },
  {
   "cell_type": "code",
   "execution_count": 389,
   "metadata": {},
   "outputs": [
    {
     "data": {
      "text/plain": [
       "(117, 1)"
      ]
     },
     "execution_count": 389,
     "metadata": {},
     "output_type": "execute_result"
    }
   ],
   "source": [
    "linux_dates.shape"
   ]
  },
  {
   "cell_type": "code",
   "execution_count": 390,
   "metadata": {},
   "outputs": [
    {
     "data": {
      "text/html": [
       "<div>\n",
       "<style scoped>\n",
       "    .dataframe tbody tr th:only-of-type {\n",
       "        vertical-align: middle;\n",
       "    }\n",
       "\n",
       "    .dataframe tbody tr th {\n",
       "        vertical-align: top;\n",
       "    }\n",
       "\n",
       "    .dataframe thead th {\n",
       "        text-align: right;\n",
       "    }\n",
       "</style>\n",
       "<table border=\"1\" class=\"dataframe\">\n",
       "  <thead>\n",
       "    <tr style=\"text-align: right;\">\n",
       "      <th></th>\n",
       "      <th>date_range</th>\n",
       "    </tr>\n",
       "    <tr>\n",
       "      <th>date_authored</th>\n",
       "      <th></th>\n",
       "    </tr>\n",
       "  </thead>\n",
       "  <tbody>\n",
       "    <tr>\n",
       "      <th>2017-12-14</th>\n",
       "      <td>5</td>\n",
       "    </tr>\n",
       "    <tr>\n",
       "      <th>2018-04-04</th>\n",
       "      <td>19</td>\n",
       "    </tr>\n",
       "    <tr>\n",
       "      <th>2018-07-02</th>\n",
       "      <td>1</td>\n",
       "    </tr>\n",
       "    <tr>\n",
       "      <th>2018-08-23</th>\n",
       "      <td>1</td>\n",
       "    </tr>\n",
       "    <tr>\n",
       "      <th>2018-10-10</th>\n",
       "      <td>2</td>\n",
       "    </tr>\n",
       "  </tbody>\n",
       "</table>\n",
       "</div>"
      ],
      "text/plain": [
       "               date_range\n",
       "date_authored            \n",
       "2017-12-14              5\n",
       "2018-04-04             19\n",
       "2018-07-02              1\n",
       "2018-08-23              1\n",
       "2018-10-10              2"
      ]
     },
     "execution_count": 390,
     "metadata": {},
     "output_type": "execute_result"
    }
   ],
   "source": [
    "linux_dates.head()"
   ]
  },
  {
   "cell_type": "code",
   "execution_count": 399,
   "metadata": {},
   "outputs": [],
   "source": [
    "linux_windows = pd.merge(linux_dates, items, left_index=True, right_index=True, how='outer')"
   ]
  },
  {
   "cell_type": "markdown",
   "metadata": {},
   "source": [
    "## Joining on dates\n",
    "\n",
    "It looks like joining on dates to get a full date range doesn't really work in pandas.\n",
    "Let's write our own functions to sort this out."
   ]
  },
  {
   "cell_type": "code",
   "execution_count": 419,
   "metadata": {},
   "outputs": [],
   "source": [
    "dates = pd.DataFrame(pd.date_range('2005-01', '2019-01', freq='D'))\n",
    "dates.columns = ['dates']"
   ]
  },
  {
   "cell_type": "code",
   "execution_count": 420,
   "metadata": {},
   "outputs": [
    {
     "data": {
      "text/html": [
       "<div>\n",
       "<style scoped>\n",
       "    .dataframe tbody tr th:only-of-type {\n",
       "        vertical-align: middle;\n",
       "    }\n",
       "\n",
       "    .dataframe tbody tr th {\n",
       "        vertical-align: top;\n",
       "    }\n",
       "\n",
       "    .dataframe thead th {\n",
       "        text-align: right;\n",
       "    }\n",
       "</style>\n",
       "<table border=\"1\" class=\"dataframe\">\n",
       "  <thead>\n",
       "    <tr style=\"text-align: right;\">\n",
       "      <th></th>\n",
       "      <th>dates</th>\n",
       "    </tr>\n",
       "  </thead>\n",
       "  <tbody>\n",
       "    <tr>\n",
       "      <th>0</th>\n",
       "      <td>2005-01-01</td>\n",
       "    </tr>\n",
       "    <tr>\n",
       "      <th>1</th>\n",
       "      <td>2005-01-02</td>\n",
       "    </tr>\n",
       "    <tr>\n",
       "      <th>2</th>\n",
       "      <td>2005-01-03</td>\n",
       "    </tr>\n",
       "    <tr>\n",
       "      <th>3</th>\n",
       "      <td>2005-01-04</td>\n",
       "    </tr>\n",
       "    <tr>\n",
       "      <th>4</th>\n",
       "      <td>2005-01-05</td>\n",
       "    </tr>\n",
       "  </tbody>\n",
       "</table>\n",
       "</div>"
      ],
      "text/plain": [
       "       dates\n",
       "0 2005-01-01\n",
       "1 2005-01-02\n",
       "2 2005-01-03\n",
       "3 2005-01-04\n",
       "4 2005-01-05"
      ]
     },
     "execution_count": 420,
     "metadata": {},
     "output_type": "execute_result"
    }
   ],
   "source": [
    "dates.head()"
   ]
  },
  {
   "cell_type": "code",
   "execution_count": 421,
   "metadata": {},
   "outputs": [
    {
     "data": {
      "text/plain": [
       "(5114, 1)"
      ]
     },
     "execution_count": 421,
     "metadata": {},
     "output_type": "execute_result"
    }
   ],
   "source": [
    "dates.shape"
   ]
  },
  {
   "cell_type": "code",
   "execution_count": 422,
   "metadata": {},
   "outputs": [
    {
     "data": {
      "text/plain": [
       "(1824726, 7)"
      ]
     },
     "execution_count": 422,
     "metadata": {},
     "output_type": "execute_result"
    }
   ],
   "source": [
    "autdf.shape"
   ]
  },
  {
   "cell_type": "code",
   "execution_count": 426,
   "metadata": {},
   "outputs": [],
   "source": [
    "autdict = autdf.to_dict()"
   ]
  },
  {
   "cell_type": "code",
   "execution_count": 433,
   "metadata": {},
   "outputs": [
    {
     "data": {
      "text/html": [
       "<div>\n",
       "<style scoped>\n",
       "    .dataframe tbody tr th:only-of-type {\n",
       "        vertical-align: middle;\n",
       "    }\n",
       "\n",
       "    .dataframe tbody tr th {\n",
       "        vertical-align: top;\n",
       "    }\n",
       "\n",
       "    .dataframe thead th {\n",
       "        text-align: right;\n",
       "    }\n",
       "</style>\n",
       "<table border=\"1\" class=\"dataframe\">\n",
       "  <thead>\n",
       "    <tr style=\"text-align: right;\">\n",
       "      <th></th>\n",
       "      <th>author_email</th>\n",
       "      <th>author_name</th>\n",
       "      <th>commit_hash</th>\n",
       "      <th>date_authored</th>\n",
       "      <th>lines_added</th>\n",
       "      <th>lines_deleted</th>\n",
       "      <th>total_lines</th>\n",
       "    </tr>\n",
       "  </thead>\n",
       "  <tbody>\n",
       "    <tr>\n",
       "      <th>0</th>\n",
       "      <td>torvalds@linux-foundation.org</td>\n",
       "      <td>Linus Torvalds</td>\n",
       "      <td>8c2ffd9174779014c3fe1f96d9dc3641d9175f00</td>\n",
       "      <td>2019-03-24 14:02:26</td>\n",
       "      <td>1</td>\n",
       "      <td>1</td>\n",
       "      <td>2</td>\n",
       "    </tr>\n",
       "    <tr>\n",
       "      <th>1</th>\n",
       "      <td>shc_work@mail.ru</td>\n",
       "      <td>Alexander Shiyan</td>\n",
       "      <td>2a6a8e2d9004b5303fcb494588ba3a3b87a256c3</td>\n",
       "      <td>2018-12-20 14:16:26</td>\n",
       "      <td>13</td>\n",
       "      <td>32</td>\n",
       "      <td>45</td>\n",
       "    </tr>\n",
       "    <tr>\n",
       "      <th>2</th>\n",
       "      <td>darrick.wong@oracle.com</td>\n",
       "      <td>Darrick J. Wong</td>\n",
       "      <td>18915b5873f07e5030e6fb108a050fa7c71c59fb</td>\n",
       "      <td>2019-03-23 12:10:29</td>\n",
       "      <td>7</td>\n",
       "      <td>0</td>\n",
       "      <td>7</td>\n",
       "    </tr>\n",
       "    <tr>\n",
       "      <th>3</th>\n",
       "      <td>yi.zhang@huawei.com</td>\n",
       "      <td>zhangyi (F)</td>\n",
       "      <td>5e86bdda41534e17621d5a071b294943cae4376e</td>\n",
       "      <td>2019-03-23 11:56:01</td>\n",
       "      <td>22</td>\n",
       "      <td>25</td>\n",
       "      <td>47</td>\n",
       "    </tr>\n",
       "    <tr>\n",
       "      <th>4</th>\n",
       "      <td>yi.zhang@huawei.com</td>\n",
       "      <td>zhangyi (F)</td>\n",
       "      <td>674a2b27234d1b7afcb0a9162e81b2e53aeef217</td>\n",
       "      <td>2019-03-23 11:43:05</td>\n",
       "      <td>8</td>\n",
       "      <td>4</td>\n",
       "      <td>12</td>\n",
       "    </tr>\n",
       "  </tbody>\n",
       "</table>\n",
       "</div>"
      ],
      "text/plain": [
       "                    author_email       author_name  \\\n",
       "0  torvalds@linux-foundation.org    Linus Torvalds   \n",
       "1               shc_work@mail.ru  Alexander Shiyan   \n",
       "2        darrick.wong@oracle.com   Darrick J. Wong   \n",
       "3            yi.zhang@huawei.com       zhangyi (F)   \n",
       "4            yi.zhang@huawei.com       zhangyi (F)   \n",
       "\n",
       "                                commit_hash       date_authored  lines_added  \\\n",
       "0  8c2ffd9174779014c3fe1f96d9dc3641d9175f00 2019-03-24 14:02:26            1   \n",
       "1  2a6a8e2d9004b5303fcb494588ba3a3b87a256c3 2018-12-20 14:16:26           13   \n",
       "2  18915b5873f07e5030e6fb108a050fa7c71c59fb 2019-03-23 12:10:29            7   \n",
       "3  5e86bdda41534e17621d5a071b294943cae4376e 2019-03-23 11:56:01           22   \n",
       "4  674a2b27234d1b7afcb0a9162e81b2e53aeef217 2019-03-23 11:43:05            8   \n",
       "\n",
       "   lines_deleted  total_lines  \n",
       "0              1            2  \n",
       "1             32           45  \n",
       "2              0            7  \n",
       "3             25           47  \n",
       "4              4           12  "
      ]
     },
     "execution_count": 433,
     "metadata": {},
     "output_type": "execute_result"
    }
   ],
   "source": [
    "autdf.head()"
   ]
  },
  {
   "cell_type": "code",
   "execution_count": 444,
   "metadata": {},
   "outputs": [
    {
     "data": {
      "text/plain": [
       "Timestamp('2019-03-24 14:02:26')"
      ]
     },
     "execution_count": 444,
     "metadata": {},
     "output_type": "execute_result"
    }
   ],
   "source": [
    "autdict['date_authored'][0]"
   ]
  },
  {
   "cell_type": "code",
   "execution_count": 446,
   "metadata": {},
   "outputs": [],
   "source": [
    "datedict = dates.to_dict()['dates']"
   ]
  },
  {
   "cell_type": "code",
   "execution_count": 494,
   "metadata": {},
   "outputs": [
    {
     "data": {
      "text/plain": [
       "Timestamp('2005-01-01 00:00:00')"
      ]
     },
     "execution_count": 494,
     "metadata": {},
     "output_type": "execute_result"
    }
   ],
   "source": [
    "def date_transform(datedict):\n",
    "    these = {}\n",
    "    for key in datedict.keys():\n",
    "        item = datedict[key]\n",
    "        new_key = str(item.year) + '-' + str(item.dayofyear)\n",
    "        these[new_key] = item\n",
    "    return these\n",
    "\n",
    "def author_transform(autdict):\n",
    "    items = defaultdict(list)\n",
    "    for idx in range(len(autdict['commit_hash'])):\n",
    "        \n",
    "        new_key = str(autdict['date_authored'].year) + '-' + str(autdict['date_authored'].dayofyear)\n",
    "        new_item = (autdict['author_email'], autdict['author_name'], autdict['commit_hash'],\\\n",
    "                    autdict['date_authored'], autdict['lines_added'], autdict['lines_deleted'],\\\n",
    "                    autdict['total_lines'])\n",
    "        items[new_key].append(new_item)\n",
    "        \n",
    "    return items\n",
    "\n",
    "def date_join(autht, datet):\n",
    "    \n",
    "    rows = []\n",
    "    r = {\n",
    "        'date_key': np.NaN,\n",
    "        'author_email': np.NaN,\n",
    "        'author_name': np.NaN,\n",
    "        'commit_hash': np.NaN,\n",
    "        'date_authored': np.NaN,\n",
    "        'lines_added': np.NaN,\n",
    "        'lines_deleted': np.NaN,\n",
    "        'total_lines': np.NaN,\n",
    "    } \n",
    "\n",
    "    for date_key in datet.keys():\n",
    "        \n",
    "        if date_key in autht:\n",
    "            \n",
    "            for i in autht[date_key]:\n",
    "                \n",
    "                rd = r.copy()\n",
    "                \n",
    "                \n",
    "    "
   ]
  },
  {
   "cell_type": "code",
   "execution_count": 456,
   "metadata": {},
   "outputs": [
    {
     "data": {
      "text/plain": [
       "2005"
      ]
     },
     "execution_count": 456,
     "metadata": {},
     "output_type": "execute_result"
    }
   ],
   "source": [
    "datedict[0].year"
   ]
  },
  {
   "cell_type": "code",
   "execution_count": 503,
   "metadata": {},
   "outputs": [
    {
     "data": {
      "text/plain": [
       "dict_keys(['author_email', 'author_name', 'commit_hash', 'date_authored', 'lines_added', 'lines_deleted', 'total_lines'])"
      ]
     },
     "execution_count": 503,
     "metadata": {},
     "output_type": "execute_result"
    }
   ],
   "source": [
    "autdict.keys()"
   ]
  },
  {
   "cell_type": "code",
   "execution_count": null,
   "metadata": {},
   "outputs": [],
   "source": []
  },
  {
   "cell_type": "code",
   "execution_count": 486,
   "metadata": {},
   "outputs": [],
   "source": [
    "POSSIBLE_TOTAL = len(datedict.keys())**2"
   ]
  },
  {
   "cell_type": "code",
   "execution_count": 491,
   "metadata": {},
   "outputs": [],
   "source": [
    "def rework_datastructure():\n",
    "    pass\n",
    "\n",
    "def full_dates(date_range, autdf):\n",
    "    row = {\n",
    "        'author_email': np.NaN,\n",
    "        'author_name': np.NaN,\n",
    "        'commit_hash': np.NaN,\n",
    "        'date_authored': np.NaN,\n",
    "        'lines_added': np.NaN,\n",
    "        'lines_deleted': np.NaN,\n",
    "        'total_lines': np.NaN,\n",
    "    }\n",
    "    \n",
    "    found = []\n",
    "    count = 0\n",
    "    for date_key in date_range.keys():\n",
    "        \n",
    "        prow = row.copy()\n",
    "        matched = False\n",
    "        for idx, aut_date in enumerate(autdf['date_authored']):\n",
    "            \n",
    "            if date_range[date_key].year == autdf['date_authored'][aut_date].year and \\\n",
    "            date_range[date_key].dayofyear == autdf['date_authored'][aut_date].dayofyear:\n",
    "                prow = row.copy()  \n",
    "                prow['author_email'] = autdf['author_email'][idx]\n",
    "                prow['author_name'] = autdf['author_name'][idx]\n",
    "                prow['commit_hash'] = autdf['commit_hash'][idx]\n",
    "                prow['date_authored'] = autdf['date_authored'][idx]\n",
    "                prow['lines_added'] = autdf['lines_added'][idx] \n",
    "                prow['lines_deleted'] = autdf['lines_deleted'][idx]\n",
    "                prow['total_lines'] = autdf['total_lines'][idx]\n",
    "                \n",
    "                found.append(prow)\n",
    "                matched = True\n",
    "                \n",
    "        if not matched:\n",
    "            prow = row.copy()\n",
    "            prow['date_authored'] = date_range[date_key]\n",
    "            prow['lines_added'] = 0\n",
    "            prow['lines_deleted'] = 0\n",
    "            prow['total_lines'] = 0\n",
    "            found.append(prow)\n",
    "        \n",
    "        matched = False\n",
    "        \n",
    "        if count % 10000 == 0:\n",
    "            print(\"processed {} records\".format(count))\n",
    "        count += 1\n",
    "        \n",
    "    return prow\n",
    "        \n",
    "        \n",
    "        "
   ]
  },
  {
   "cell_type": "code",
   "execution_count": 492,
   "metadata": {},
   "outputs": [
    {
     "data": {
      "text/plain": [
       "5114"
      ]
     },
     "execution_count": 492,
     "metadata": {},
     "output_type": "execute_result"
    }
   ],
   "source": [
    "len(datedict)"
   ]
  },
  {
   "cell_type": "code",
   "execution_count": 489,
   "metadata": {},
   "outputs": [
    {
     "name": "stdout",
     "output_type": "stream",
     "text": [
      "processed 0 records\n"
     ]
    },
    {
     "ename": "KeyboardInterrupt",
     "evalue": "",
     "output_type": "error",
     "traceback": [
      "\u001b[0;31m---------------------------------------------------------------------------\u001b[0m",
      "\u001b[0;31mKeyboardInterrupt\u001b[0m                         Traceback (most recent call last)",
      "\u001b[0;32m<ipython-input-489-61209e31b950>\u001b[0m in \u001b[0;36m<module>\u001b[0;34m\u001b[0m\n\u001b[0;32m----> 1\u001b[0;31m \u001b[0mdf\u001b[0m \u001b[0;34m=\u001b[0m \u001b[0mfull_dates\u001b[0m\u001b[0;34m(\u001b[0m\u001b[0mdatedict\u001b[0m\u001b[0;34m,\u001b[0m \u001b[0mautdict\u001b[0m\u001b[0;34m)\u001b[0m\u001b[0;34m\u001b[0m\u001b[0;34m\u001b[0m\u001b[0m\n\u001b[0m",
      "\u001b[0;32m<ipython-input-487-a32b5f34a2c7>\u001b[0m in \u001b[0;36mfull_dates\u001b[0;34m(date_range, autdf)\u001b[0m\n\u001b[1;32m     16\u001b[0m         \u001b[0mprow\u001b[0m \u001b[0;34m=\u001b[0m \u001b[0mrow\u001b[0m\u001b[0;34m.\u001b[0m\u001b[0mcopy\u001b[0m\u001b[0;34m(\u001b[0m\u001b[0;34m)\u001b[0m\u001b[0;34m\u001b[0m\u001b[0;34m\u001b[0m\u001b[0m\n\u001b[1;32m     17\u001b[0m         \u001b[0mmatched\u001b[0m \u001b[0;34m=\u001b[0m \u001b[0;32mFalse\u001b[0m\u001b[0;34m\u001b[0m\u001b[0;34m\u001b[0m\u001b[0m\n\u001b[0;32m---> 18\u001b[0;31m         \u001b[0;32mfor\u001b[0m \u001b[0midx\u001b[0m\u001b[0;34m,\u001b[0m \u001b[0maut_date\u001b[0m \u001b[0;32min\u001b[0m \u001b[0menumerate\u001b[0m\u001b[0;34m(\u001b[0m\u001b[0mautdf\u001b[0m\u001b[0;34m[\u001b[0m\u001b[0;34m'date_authored'\u001b[0m\u001b[0;34m]\u001b[0m\u001b[0;34m)\u001b[0m\u001b[0;34m:\u001b[0m\u001b[0;34m\u001b[0m\u001b[0;34m\u001b[0m\u001b[0m\n\u001b[0m\u001b[1;32m     19\u001b[0m \u001b[0;34m\u001b[0m\u001b[0m\n\u001b[1;32m     20\u001b[0m             \u001b[0;32mif\u001b[0m \u001b[0mdate_range\u001b[0m\u001b[0;34m[\u001b[0m\u001b[0mdate_key\u001b[0m\u001b[0;34m]\u001b[0m\u001b[0;34m.\u001b[0m\u001b[0myear\u001b[0m \u001b[0;34m==\u001b[0m \u001b[0mautdf\u001b[0m\u001b[0;34m[\u001b[0m\u001b[0;34m'date_authored'\u001b[0m\u001b[0;34m]\u001b[0m\u001b[0;34m[\u001b[0m\u001b[0maut_date\u001b[0m\u001b[0;34m]\u001b[0m\u001b[0;34m.\u001b[0m\u001b[0myear\u001b[0m \u001b[0;32mand\u001b[0m\u001b[0;31m \u001b[0m\u001b[0;31m\\\u001b[0m\u001b[0;34m\u001b[0m\u001b[0;34m\u001b[0m\u001b[0m\n",
      "\u001b[0;31mKeyboardInterrupt\u001b[0m: "
     ]
    }
   ],
   "source": [
    "df = full_dates(datedict, autdict)"
   ]
  },
  {
   "cell_type": "code",
   "execution_count": null,
   "metadata": {},
   "outputs": [],
   "source": [
    "df.to_pickle(\"full_dates.pkl\")"
   ]
  },
  {
   "cell_type": "code",
   "execution_count": null,
   "metadata": {},
   "outputs": [],
   "source": []
  }
 ],
 "metadata": {
  "kernelspec": {
   "display_name": "Python 3",
   "language": "python",
   "name": "python3"
  },
  "language_info": {
   "codemirror_mode": {
    "name": "ipython",
    "version": 3
   },
   "file_extension": ".py",
   "mimetype": "text/x-python",
   "name": "python",
   "nbconvert_exporter": "python",
   "pygments_lexer": "ipython3",
   "version": "3.7.2"
  }
 },
 "nbformat": 4,
 "nbformat_minor": 2
}
