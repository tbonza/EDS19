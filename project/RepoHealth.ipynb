{
 "cells": [
  {
   "cell_type": "markdown",
   "metadata": {},
   "source": [
    "# Summary\n",
    "\n",
    "Need to work through a small example before scaling up. The goal\n",
    "here is to predict which repos at time $t_{i}$ will be healthy or unhealthy\n",
    "at time $t_{i+1}$. The algorithm that I implement has to work on Spark. Going\n",
    "to do spark later once I figure out the game plan."
   ]
  },
  {
   "cell_type": "code",
   "execution_count": 1,
   "metadata": {},
   "outputs": [
    {
     "name": "stdout",
     "output_type": "stream",
     "text": [
      "/Users/tylerbrown/code/author_2019-04-20_0.parquet\r\n",
      "/Users/tylerbrown/code/commit_file_2019-04-20_0.parquet\r\n",
      "/Users/tylerbrown/code/commit_file_2019-04-20_1.parquet\r\n",
      "/Users/tylerbrown/code/contrib_2019-04-20_0.parquet\r\n",
      "/Users/tylerbrown/code/info_2019-04-20_0.parquet\r\n",
      "/Users/tylerbrown/code/meta_2019-04-20_0.parquet\r\n"
     ]
    }
   ],
   "source": [
    "ls ~/code/*.parquet"
   ]
  },
  {
   "cell_type": "markdown",
   "metadata": {},
   "source": [
    "## Dependencies"
   ]
  },
  {
   "cell_type": "code",
   "execution_count": 2,
   "metadata": {},
   "outputs": [],
   "source": [
    "from collections import defaultdict\n",
    "\n",
    "import matplotlib.pyplot as plt\n",
    "import numpy as np\n",
    "import pandas as pd\n"
   ]
  },
  {
   "cell_type": "markdown",
   "metadata": {},
   "source": [
    "## Load Data\n",
    "\n",
    "Databases have been consolidated and switched to Parquet files with\n",
    "no more than 2e6 records in each."
   ]
  },
  {
   "cell_type": "code",
   "execution_count": 3,
   "metadata": {},
   "outputs": [
    {
     "name": "stderr",
     "output_type": "stream",
     "text": [
      "/Users/tylerbrown/miniconda3/envs/rose/lib/python3.6/site-packages/pyarrow/pandas_compat.py:708: FutureWarning: .labels was deprecated in version 0.24.0. Use .codes instead.\n",
      "  labels = getattr(columns, 'labels', None) or [\n",
      "/Users/tylerbrown/miniconda3/envs/rose/lib/python3.6/site-packages/pyarrow/pandas_compat.py:735: FutureWarning: the 'labels' keyword is deprecated, use 'codes' instead\n",
      "  return pd.MultiIndex(levels=new_levels, labels=labels, names=columns.names)\n",
      "/Users/tylerbrown/miniconda3/envs/rose/lib/python3.6/site-packages/pyarrow/pandas_compat.py:752: FutureWarning: .labels was deprecated in version 0.24.0. Use .codes instead.\n",
      "  labels, = index.labels\n"
     ]
    },
    {
     "data": {
      "text/plain": [
       "(2327964, 5)"
      ]
     },
     "execution_count": 3,
     "metadata": {},
     "output_type": "execute_result"
    }
   ],
   "source": [
    "commits = pd.read_parquet('/Users/tylerbrown/code/commit_file_2019-04-20_0.parquet', 'pyarrow').append(\n",
    "    pd.read_parquet('/Users/tylerbrown/code/commit_file_2019-04-20_1.parquet', 'pyarrow')\n",
    ")\n",
    "commits.shape"
   ]
  },
  {
   "cell_type": "code",
   "execution_count": 4,
   "metadata": {},
   "outputs": [
    {
     "data": {
      "text/plain": [
       "(928779, 3)"
      ]
     },
     "execution_count": 4,
     "metadata": {},
     "output_type": "execute_result"
    }
   ],
   "source": [
    "meta = pd.read_parquet('/Users/tylerbrown/code/meta_2019-04-20_0.parquet', 'pyarrow')\n",
    "meta.shape"
   ]
  },
  {
   "cell_type": "code",
   "execution_count": 5,
   "metadata": {},
   "outputs": [
    {
     "data": {
      "text/plain": [
       "(928779, 4)"
      ]
     },
     "execution_count": 5,
     "metadata": {},
     "output_type": "execute_result"
    }
   ],
   "source": [
    "author = pd.read_parquet('/Users/tylerbrown/code/author_2019-04-20_0.parquet')\n",
    "author.shape"
   ]
  },
  {
   "cell_type": "code",
   "execution_count": 6,
   "metadata": {},
   "outputs": [
    {
     "data": {
      "text/html": [
       "<div>\n",
       "<style scoped>\n",
       "    .dataframe tbody tr th:only-of-type {\n",
       "        vertical-align: middle;\n",
       "    }\n",
       "\n",
       "    .dataframe tbody tr th {\n",
       "        vertical-align: top;\n",
       "    }\n",
       "\n",
       "    .dataframe thead th {\n",
       "        text-align: right;\n",
       "    }\n",
       "</style>\n",
       "<table border=\"1\" class=\"dataframe\">\n",
       "  <thead>\n",
       "    <tr style=\"text-align: right;\">\n",
       "      <th></th>\n",
       "      <th>commit_hash</th>\n",
       "      <th>owner_name</th>\n",
       "      <th>project_name</th>\n",
       "    </tr>\n",
       "  </thead>\n",
       "  <tbody>\n",
       "    <tr>\n",
       "      <th>0</th>\n",
       "      <td>8c2ffd9174779014c3fe1f96d9dc3641d9175f00</td>\n",
       "      <td>torvalds</td>\n",
       "      <td>linux</td>\n",
       "    </tr>\n",
       "    <tr>\n",
       "      <th>1</th>\n",
       "      <td>17403fa277eda1328a7026dfca7e40249f27dc6b</td>\n",
       "      <td>torvalds</td>\n",
       "      <td>linux</td>\n",
       "    </tr>\n",
       "    <tr>\n",
       "      <th>2</th>\n",
       "      <td>231c807a60715312e2a93a001cc9be9b888bc350</td>\n",
       "      <td>torvalds</td>\n",
       "      <td>linux</td>\n",
       "    </tr>\n",
       "    <tr>\n",
       "      <th>3</th>\n",
       "      <td>49ef015632ab3fcc19b2cb37b199d6d7ebcfa5f8</td>\n",
       "      <td>torvalds</td>\n",
       "      <td>linux</td>\n",
       "    </tr>\n",
       "    <tr>\n",
       "      <th>4</th>\n",
       "      <td>19caf581ba441659f1a71e9a5baed032fdcfceef</td>\n",
       "      <td>torvalds</td>\n",
       "      <td>linux</td>\n",
       "    </tr>\n",
       "  </tbody>\n",
       "</table>\n",
       "</div>"
      ],
      "text/plain": [
       "                                commit_hash owner_name project_name\n",
       "0  8c2ffd9174779014c3fe1f96d9dc3641d9175f00   torvalds        linux\n",
       "1  17403fa277eda1328a7026dfca7e40249f27dc6b   torvalds        linux\n",
       "2  231c807a60715312e2a93a001cc9be9b888bc350   torvalds        linux\n",
       "3  49ef015632ab3fcc19b2cb37b199d6d7ebcfa5f8   torvalds        linux\n",
       "4  19caf581ba441659f1a71e9a5baed032fdcfceef   torvalds        linux"
      ]
     },
     "execution_count": 6,
     "metadata": {},
     "output_type": "execute_result"
    }
   ],
   "source": [
    "meta.head()"
   ]
  },
  {
   "cell_type": "markdown",
   "metadata": {},
   "source": [
    "# Hypotheses\n",
    "\n",
    "We need to generate some hypotheses related to RepoHealth. We can\n",
    "then test those hypotheses with some fairly straight forward statistical\n",
    "modeling. \n",
    "\n",
    "$F = ma$, repo health $\\Rightarrow a = \\frac{F}{m}$ where acceleration $a$ is\n",
    "my definition for repo health. This is the shark hypotheses, software has to keep\n",
    "moving or it dies. We can measure the level of acceleration by measuring the amplitude.\n",
    "We have to normalize acceleration by mass to compare across repos.\n",
    "\n",
    "$H1_a:$ Amplitude $\\uparrow$, repo health (acceleration) $\\uparrow$\n",
    "\n",
    "Since 'repo health' isn't something we can directly measure, we have\n",
    "to use a proxy measure or instrument variable. I use acceleration as a \n",
    "proxy for repo health. Substantively, we shouldn't see any projects that \n",
    "we know are 'healthy' violate $H1_a$. "
   ]
  },
  {
   "cell_type": "markdown",
   "metadata": {},
   "source": [
    "# Data Preprocessing\n",
    "\n",
    "Need to change the representation of our data to find linear relationships. Linear\n",
    "relationships are how we tell someone they should do more or less of something using Data Science. We have to\n",
    "do a bunch of stuff here like normalize timeframes, normalize acceleration, normalize amplitude. Then we have to redo it on Spark."
   ]
  },
  {
   "cell_type": "code",
   "execution_count": 7,
   "metadata": {},
   "outputs": [
    {
     "data": {
      "text/plain": [
       "(2327964, 10)"
      ]
     },
     "execution_count": 7,
     "metadata": {},
     "output_type": "execute_result"
    }
   ],
   "source": [
    "# Create working table\n",
    "\n",
    "df = pd.merge(pd.merge(meta, commits), author)\n",
    "df.shape"
   ]
  },
  {
   "cell_type": "code",
   "execution_count": 8,
   "metadata": {},
   "outputs": [
    {
     "name": "stdout",
     "output_type": "stream",
     "text": [
      "Weird things didn't happen: True\n"
     ]
    }
   ],
   "source": [
    "print(\"Weird things didn't happen: {}\".format(df.shape[0] == commits.shape[0]))"
   ]
  },
  {
   "cell_type": "code",
   "execution_count": 9,
   "metadata": {},
   "outputs": [
    {
     "data": {
      "text/html": [
       "<div>\n",
       "<style scoped>\n",
       "    .dataframe tbody tr th:only-of-type {\n",
       "        vertical-align: middle;\n",
       "    }\n",
       "\n",
       "    .dataframe tbody tr th {\n",
       "        vertical-align: top;\n",
       "    }\n",
       "\n",
       "    .dataframe thead th {\n",
       "        text-align: right;\n",
       "    }\n",
       "</style>\n",
       "<table border=\"1\" class=\"dataframe\">\n",
       "  <thead>\n",
       "    <tr style=\"text-align: right;\">\n",
       "      <th></th>\n",
       "      <th>commit_hash</th>\n",
       "      <th>owner_name</th>\n",
       "      <th>project_name</th>\n",
       "      <th>file_id</th>\n",
       "      <th>modified_file</th>\n",
       "      <th>lines_added</th>\n",
       "      <th>lines_subtracted</th>\n",
       "      <th>name</th>\n",
       "      <th>email</th>\n",
       "      <th>authored</th>\n",
       "    </tr>\n",
       "  </thead>\n",
       "  <tbody>\n",
       "    <tr>\n",
       "      <th>0</th>\n",
       "      <td>8c2ffd9174779014c3fe1f96d9dc3641d9175f00</td>\n",
       "      <td>torvalds</td>\n",
       "      <td>linux</td>\n",
       "      <td>0</td>\n",
       "      <td>Makefile</td>\n",
       "      <td>1</td>\n",
       "      <td>1</td>\n",
       "      <td>Linus Torvalds</td>\n",
       "      <td>torvalds@linux-foundation.org</td>\n",
       "      <td>2019-03-24 14:02:26.000000</td>\n",
       "    </tr>\n",
       "    <tr>\n",
       "      <th>1</th>\n",
       "      <td>2a6a8e2d9004b5303fcb494588ba3a3b87a256c3</td>\n",
       "      <td>torvalds</td>\n",
       "      <td>linux</td>\n",
       "      <td>1</td>\n",
       "      <td>drivers/clocksource/clps711x-timer.c</td>\n",
       "      <td>13</td>\n",
       "      <td>32</td>\n",
       "      <td>Alexander Shiyan</td>\n",
       "      <td>shc_work@mail.ru</td>\n",
       "      <td>2018-12-20 14:16:26.000000</td>\n",
       "    </tr>\n",
       "    <tr>\n",
       "      <th>2</th>\n",
       "      <td>18915b5873f07e5030e6fb108a050fa7c71c59fb</td>\n",
       "      <td>torvalds</td>\n",
       "      <td>linux</td>\n",
       "      <td>2</td>\n",
       "      <td>fs/ext4/ioctl.c</td>\n",
       "      <td>7</td>\n",
       "      <td>0</td>\n",
       "      <td>Darrick J. Wong</td>\n",
       "      <td>darrick.wong@oracle.com</td>\n",
       "      <td>2019-03-23 12:10:29.000000</td>\n",
       "    </tr>\n",
       "    <tr>\n",
       "      <th>3</th>\n",
       "      <td>5e86bdda41534e17621d5a071b294943cae4376e</td>\n",
       "      <td>torvalds</td>\n",
       "      <td>linux</td>\n",
       "      <td>3</td>\n",
       "      <td>fs/ext4/indirect.c</td>\n",
       "      <td>22</td>\n",
       "      <td>25</td>\n",
       "      <td>zhangyi (F)</td>\n",
       "      <td>yi.zhang@huawei.com</td>\n",
       "      <td>2019-03-23 11:56:01.000000</td>\n",
       "    </tr>\n",
       "    <tr>\n",
       "      <th>4</th>\n",
       "      <td>674a2b27234d1b7afcb0a9162e81b2e53aeef217</td>\n",
       "      <td>torvalds</td>\n",
       "      <td>linux</td>\n",
       "      <td>4</td>\n",
       "      <td>fs/ext4/indirect.c</td>\n",
       "      <td>8</td>\n",
       "      <td>4</td>\n",
       "      <td>zhangyi (F)</td>\n",
       "      <td>yi.zhang@huawei.com</td>\n",
       "      <td>2019-03-23 11:43:05.000000</td>\n",
       "    </tr>\n",
       "  </tbody>\n",
       "</table>\n",
       "</div>"
      ],
      "text/plain": [
       "                                commit_hash owner_name project_name  file_id  \\\n",
       "0  8c2ffd9174779014c3fe1f96d9dc3641d9175f00   torvalds        linux        0   \n",
       "1  2a6a8e2d9004b5303fcb494588ba3a3b87a256c3   torvalds        linux        1   \n",
       "2  18915b5873f07e5030e6fb108a050fa7c71c59fb   torvalds        linux        2   \n",
       "3  5e86bdda41534e17621d5a071b294943cae4376e   torvalds        linux        3   \n",
       "4  674a2b27234d1b7afcb0a9162e81b2e53aeef217   torvalds        linux        4   \n",
       "\n",
       "                          modified_file  lines_added  lines_subtracted  \\\n",
       "0                              Makefile            1                 1   \n",
       "1  drivers/clocksource/clps711x-timer.c           13                32   \n",
       "2                       fs/ext4/ioctl.c            7                 0   \n",
       "3                    fs/ext4/indirect.c           22                25   \n",
       "4                    fs/ext4/indirect.c            8                 4   \n",
       "\n",
       "               name                          email                    authored  \n",
       "0    Linus Torvalds  torvalds@linux-foundation.org  2019-03-24 14:02:26.000000  \n",
       "1  Alexander Shiyan               shc_work@mail.ru  2018-12-20 14:16:26.000000  \n",
       "2   Darrick J. Wong        darrick.wong@oracle.com  2019-03-23 12:10:29.000000  \n",
       "3       zhangyi (F)            yi.zhang@huawei.com  2019-03-23 11:56:01.000000  \n",
       "4       zhangyi (F)            yi.zhang@huawei.com  2019-03-23 11:43:05.000000  "
      ]
     },
     "execution_count": 9,
     "metadata": {},
     "output_type": "execute_result"
    }
   ],
   "source": [
    "df.head()"
   ]
  },
  {
   "cell_type": "code",
   "execution_count": 10,
   "metadata": {},
   "outputs": [],
   "source": [
    "df.authored = pd.to_datetime(df.authored)"
   ]
  },
  {
   "cell_type": "code",
   "execution_count": 11,
   "metadata": {},
   "outputs": [],
   "source": [
    "per = df.authored.dt.to_period(\"D\")"
   ]
  },
  {
   "cell_type": "code",
   "execution_count": 12,
   "metadata": {},
   "outputs": [],
   "source": [
    "dfgrp = df[['owner_name', 'project_name', 'lines_added', 'lines_subtracted']].groupby(\n",
    "    [per, 'owner_name', 'project_name']).sum()"
   ]
  },
  {
   "cell_type": "code",
   "execution_count": 13,
   "metadata": {},
   "outputs": [
    {
     "data": {
      "text/plain": [
       "(2327964, 10)"
      ]
     },
     "execution_count": 13,
     "metadata": {},
     "output_type": "execute_result"
    }
   ],
   "source": [
    "df.shape"
   ]
  },
  {
   "cell_type": "code",
   "execution_count": 14,
   "metadata": {},
   "outputs": [
    {
     "data": {
      "text/plain": [
       "(16018, 2)"
      ]
     },
     "execution_count": 14,
     "metadata": {},
     "output_type": "execute_result"
    }
   ],
   "source": [
    "dfgrp.shape"
   ]
  },
  {
   "cell_type": "code",
   "execution_count": 15,
   "metadata": {},
   "outputs": [],
   "source": [
    "dfgrp = dfgrp.reset_index()"
   ]
  },
  {
   "cell_type": "code",
   "execution_count": 16,
   "metadata": {},
   "outputs": [
    {
     "data": {
      "text/html": [
       "<div>\n",
       "<style scoped>\n",
       "    .dataframe tbody tr th:only-of-type {\n",
       "        vertical-align: middle;\n",
       "    }\n",
       "\n",
       "    .dataframe tbody tr th {\n",
       "        vertical-align: top;\n",
       "    }\n",
       "\n",
       "    .dataframe thead th {\n",
       "        text-align: right;\n",
       "    }\n",
       "</style>\n",
       "<table border=\"1\" class=\"dataframe\">\n",
       "  <thead>\n",
       "    <tr style=\"text-align: right;\">\n",
       "      <th></th>\n",
       "      <th>authored</th>\n",
       "      <th>owner_name</th>\n",
       "      <th>project_name</th>\n",
       "      <th>lines_added</th>\n",
       "      <th>lines_subtracted</th>\n",
       "    </tr>\n",
       "  </thead>\n",
       "  <tbody>\n",
       "    <tr>\n",
       "      <th>0</th>\n",
       "      <td>1970-01-01</td>\n",
       "      <td>torvalds</td>\n",
       "      <td>linux</td>\n",
       "      <td>2</td>\n",
       "      <td>1</td>\n",
       "    </tr>\n",
       "    <tr>\n",
       "      <th>1</th>\n",
       "      <td>2001-09-11</td>\n",
       "      <td>apache</td>\n",
       "      <td>lucene-solr</td>\n",
       "      <td>1910</td>\n",
       "      <td>0</td>\n",
       "    </tr>\n",
       "    <tr>\n",
       "      <th>2</th>\n",
       "      <td>2001-09-17</td>\n",
       "      <td>torvalds</td>\n",
       "      <td>linux</td>\n",
       "      <td>145</td>\n",
       "      <td>48</td>\n",
       "    </tr>\n",
       "    <tr>\n",
       "      <th>3</th>\n",
       "      <td>2001-09-18</td>\n",
       "      <td>apache</td>\n",
       "      <td>lucene-solr</td>\n",
       "      <td>17247</td>\n",
       "      <td>202</td>\n",
       "    </tr>\n",
       "    <tr>\n",
       "      <th>4</th>\n",
       "      <td>2001-09-19</td>\n",
       "      <td>apache</td>\n",
       "      <td>lucene-solr</td>\n",
       "      <td>2</td>\n",
       "      <td>4</td>\n",
       "    </tr>\n",
       "  </tbody>\n",
       "</table>\n",
       "</div>"
      ],
      "text/plain": [
       "     authored owner_name project_name  lines_added  lines_subtracted\n",
       "0  1970-01-01   torvalds        linux            2                 1\n",
       "1  2001-09-11     apache  lucene-solr         1910                 0\n",
       "2  2001-09-17   torvalds        linux          145                48\n",
       "3  2001-09-18     apache  lucene-solr        17247               202\n",
       "4  2001-09-19     apache  lucene-solr            2                 4"
      ]
     },
     "execution_count": 16,
     "metadata": {},
     "output_type": "execute_result"
    }
   ],
   "source": [
    "dfgrp.head()"
   ]
  },
  {
   "cell_type": "markdown",
   "metadata": {},
   "source": [
    "### Uniform date range\n",
    "\n",
    "Projects are going to start and stop at different times but\n",
    "we want to make sure commits either exist or do not exist on\n",
    "each day. How do we make predictions for projects with different \n",
    "time ranges? We train on projects that we know are good, then\n",
    "try to predict on all projects."
   ]
  },
  {
   "cell_type": "code",
   "execution_count": 17,
   "metadata": {},
   "outputs": [],
   "source": [
    "def date_join(autht, datet):\n",
    "    \"\"\" Couldn't find a good date join for Pandas. \"\"\"\n",
    "    rows = []\n",
    "    r = {\n",
    "        'date_key': np.NaN,\n",
    "        'owner_name': np.NaN,\n",
    "        'project_name': np.NaN,\n",
    "        'lines_added': np.NaN,\n",
    "        'lines_deleted': np.NaN,\n",
    "    }\n",
    "\n",
    "    for date_key in datet.keys():\n",
    "        \n",
    "        if date_key in autht:\n",
    "            \n",
    "            for i in autht[date_key]:\n",
    "                \n",
    "                rd = r.copy()\n",
    "                rd['date_key'] = date_key\n",
    "                rd['owner_name'] = i[1]\n",
    "                rd['project_name'] = i[2]\n",
    "                rd['lines_added'] = i[3]\n",
    "                rd['lines_deleted'] = i[4]\n",
    "                \n",
    "                rows.append(rd)\n",
    "                \n",
    "        else:\n",
    "            rd = r.copy()\n",
    "            rd['date_key'] = date_key\n",
    "            \n",
    "            rows.append(rd)\n",
    "\n",
    "    return rows"
   ]
  },
  {
   "cell_type": "code",
   "execution_count": 18,
   "metadata": {},
   "outputs": [],
   "source": [
    "dates = pd.DataFrame(pd.date_range('2010-01', '2019-01', freq='D'))\n",
    "dates.columns = ['date']\n",
    "datet = dates.date.dt.to_period('D')"
   ]
  },
  {
   "cell_type": "code",
   "execution_count": 19,
   "metadata": {},
   "outputs": [
    {
     "data": {
      "text/plain": [
       "authored            period[D]\n",
       "owner_name             object\n",
       "project_name           object\n",
       "lines_added             int64\n",
       "lines_subtracted        int64\n",
       "dtype: object"
      ]
     },
     "execution_count": 19,
     "metadata": {},
     "output_type": "execute_result"
    }
   ],
   "source": [
    "dfgrp.dtypes"
   ]
  },
  {
   "cell_type": "code",
   "execution_count": 20,
   "metadata": {},
   "outputs": [],
   "source": [
    "datd = {i: True for i in datet.values}"
   ]
  },
  {
   "cell_type": "code",
   "execution_count": 21,
   "metadata": {},
   "outputs": [],
   "source": [
    "def datejoin_byproject(dfgrp, datd):\n",
    "\n",
    "    dfgrp['project_key'] = dfgrp.owner_name + \"-\" + dfgrp.project_name\n",
    "    \n",
    "    newdf = []\n",
    "    for project_key in dfgrp.project_key.unique():\n",
    "        \n",
    "        items = defaultdict(list)\n",
    "        subdf = dfgrp[dfgrp.project_key == project_key]\n",
    "        \n",
    "        for i in subdf.values:\n",
    "            \n",
    "            items[i[0]].append(i)\n",
    "            \n",
    "        rows = date_join(items, datd)\n",
    "        newdf.extend(rows)\n",
    "    return newdf"
   ]
  },
  {
   "cell_type": "code",
   "execution_count": 22,
   "metadata": {},
   "outputs": [],
   "source": [
    "ok = datejoin_byproject(dfgrp, datd)\n"
   ]
  },
  {
   "cell_type": "code",
   "execution_count": 23,
   "metadata": {},
   "outputs": [],
   "source": [
    "dfdt = pd.DataFrame(ok)"
   ]
  },
  {
   "cell_type": "code",
   "execution_count": 24,
   "metadata": {},
   "outputs": [
    {
     "data": {
      "text/html": [
       "<div>\n",
       "<style scoped>\n",
       "    .dataframe tbody tr th:only-of-type {\n",
       "        vertical-align: middle;\n",
       "    }\n",
       "\n",
       "    .dataframe tbody tr th {\n",
       "        vertical-align: top;\n",
       "    }\n",
       "\n",
       "    .dataframe thead th {\n",
       "        text-align: right;\n",
       "    }\n",
       "</style>\n",
       "<table border=\"1\" class=\"dataframe\">\n",
       "  <thead>\n",
       "    <tr style=\"text-align: right;\">\n",
       "      <th></th>\n",
       "      <th>date_key</th>\n",
       "      <th>lines_added</th>\n",
       "      <th>lines_deleted</th>\n",
       "      <th>owner_name</th>\n",
       "      <th>project_name</th>\n",
       "    </tr>\n",
       "  </thead>\n",
       "  <tbody>\n",
       "    <tr>\n",
       "      <th>0</th>\n",
       "      <td>2010-01-01</td>\n",
       "      <td>619.0</td>\n",
       "      <td>346.0</td>\n",
       "      <td>torvalds</td>\n",
       "      <td>linux</td>\n",
       "    </tr>\n",
       "    <tr>\n",
       "      <th>1</th>\n",
       "      <td>2010-01-02</td>\n",
       "      <td>1951.0</td>\n",
       "      <td>1979.0</td>\n",
       "      <td>torvalds</td>\n",
       "      <td>linux</td>\n",
       "    </tr>\n",
       "    <tr>\n",
       "      <th>2</th>\n",
       "      <td>2010-01-03</td>\n",
       "      <td>216.0</td>\n",
       "      <td>178.0</td>\n",
       "      <td>torvalds</td>\n",
       "      <td>linux</td>\n",
       "    </tr>\n",
       "    <tr>\n",
       "      <th>3</th>\n",
       "      <td>2010-01-04</td>\n",
       "      <td>31524.0</td>\n",
       "      <td>5784.0</td>\n",
       "      <td>torvalds</td>\n",
       "      <td>linux</td>\n",
       "    </tr>\n",
       "    <tr>\n",
       "      <th>4</th>\n",
       "      <td>2010-01-05</td>\n",
       "      <td>6269.0</td>\n",
       "      <td>3807.0</td>\n",
       "      <td>torvalds</td>\n",
       "      <td>linux</td>\n",
       "    </tr>\n",
       "  </tbody>\n",
       "</table>\n",
       "</div>"
      ],
      "text/plain": [
       "     date_key  lines_added  lines_deleted owner_name project_name\n",
       "0  2010-01-01        619.0          346.0   torvalds        linux\n",
       "1  2010-01-02       1951.0         1979.0   torvalds        linux\n",
       "2  2010-01-03        216.0          178.0   torvalds        linux\n",
       "3  2010-01-04      31524.0         5784.0   torvalds        linux\n",
       "4  2010-01-05       6269.0         3807.0   torvalds        linux"
      ]
     },
     "execution_count": 24,
     "metadata": {},
     "output_type": "execute_result"
    }
   ],
   "source": [
    "dfdt.head()"
   ]
  },
  {
   "cell_type": "markdown",
   "metadata": {},
   "source": [
    "# Predicting velocity\n",
    "\n",
    "Predicting velocity at time $t_{i+1}$ with time $t$."
   ]
  },
  {
   "cell_type": "code",
   "execution_count": 25,
   "metadata": {},
   "outputs": [
    {
     "data": {
      "text/html": [
       "<div>\n",
       "<style scoped>\n",
       "    .dataframe tbody tr th:only-of-type {\n",
       "        vertical-align: middle;\n",
       "    }\n",
       "\n",
       "    .dataframe tbody tr th {\n",
       "        vertical-align: top;\n",
       "    }\n",
       "\n",
       "    .dataframe thead th {\n",
       "        text-align: right;\n",
       "    }\n",
       "</style>\n",
       "<table border=\"1\" class=\"dataframe\">\n",
       "  <thead>\n",
       "    <tr style=\"text-align: right;\">\n",
       "      <th></th>\n",
       "      <th>date_key</th>\n",
       "      <th>lines_added</th>\n",
       "      <th>lines_deleted</th>\n",
       "      <th>owner_name</th>\n",
       "      <th>project_name</th>\n",
       "      <th>velocity</th>\n",
       "    </tr>\n",
       "  </thead>\n",
       "  <tbody>\n",
       "    <tr>\n",
       "      <th>0</th>\n",
       "      <td>2010-01-01</td>\n",
       "      <td>619.0</td>\n",
       "      <td>346.0</td>\n",
       "      <td>torvalds</td>\n",
       "      <td>linux</td>\n",
       "      <td>273.0</td>\n",
       "    </tr>\n",
       "    <tr>\n",
       "      <th>1</th>\n",
       "      <td>2010-01-02</td>\n",
       "      <td>1951.0</td>\n",
       "      <td>1979.0</td>\n",
       "      <td>torvalds</td>\n",
       "      <td>linux</td>\n",
       "      <td>-28.0</td>\n",
       "    </tr>\n",
       "    <tr>\n",
       "      <th>2</th>\n",
       "      <td>2010-01-03</td>\n",
       "      <td>216.0</td>\n",
       "      <td>178.0</td>\n",
       "      <td>torvalds</td>\n",
       "      <td>linux</td>\n",
       "      <td>38.0</td>\n",
       "    </tr>\n",
       "    <tr>\n",
       "      <th>3</th>\n",
       "      <td>2010-01-04</td>\n",
       "      <td>31524.0</td>\n",
       "      <td>5784.0</td>\n",
       "      <td>torvalds</td>\n",
       "      <td>linux</td>\n",
       "      <td>25740.0</td>\n",
       "    </tr>\n",
       "    <tr>\n",
       "      <th>4</th>\n",
       "      <td>2010-01-05</td>\n",
       "      <td>6269.0</td>\n",
       "      <td>3807.0</td>\n",
       "      <td>torvalds</td>\n",
       "      <td>linux</td>\n",
       "      <td>2462.0</td>\n",
       "    </tr>\n",
       "  </tbody>\n",
       "</table>\n",
       "</div>"
      ],
      "text/plain": [
       "     date_key  lines_added  lines_deleted owner_name project_name  velocity\n",
       "0  2010-01-01        619.0          346.0   torvalds        linux     273.0\n",
       "1  2010-01-02       1951.0         1979.0   torvalds        linux     -28.0\n",
       "2  2010-01-03        216.0          178.0   torvalds        linux      38.0\n",
       "3  2010-01-04      31524.0         5784.0   torvalds        linux   25740.0\n",
       "4  2010-01-05       6269.0         3807.0   torvalds        linux    2462.0"
      ]
     },
     "execution_count": 25,
     "metadata": {},
     "output_type": "execute_result"
    }
   ],
   "source": [
    "dfdt['velocity'] = dfdt.lines_added - dfdt.lines_deleted\n",
    "dfdt.head()"
   ]
  },
  {
   "cell_type": "code",
   "execution_count": 26,
   "metadata": {},
   "outputs": [],
   "source": [
    "X_train = dfdt[dfdt.date_key == '2017-01'].dropna()"
   ]
  },
  {
   "cell_type": "code",
   "execution_count": 27,
   "metadata": {},
   "outputs": [],
   "source": [
    "X_test = dfdt[dfdt.date_key == '2017-02'].dropna()"
   ]
  },
  {
   "cell_type": "code",
   "execution_count": 28,
   "metadata": {},
   "outputs": [
    {
     "data": {
      "text/plain": [
       "1941.5937396891245"
      ]
     },
     "execution_count": 28,
     "metadata": {},
     "output_type": "execute_result"
    }
   ],
   "source": [
    "np.sqrt(np.mean((X_test.velocity.values - X_train.velocity.values)**2))"
   ]
  },
  {
   "cell_type": "code",
   "execution_count": 29,
   "metadata": {},
   "outputs": [],
   "source": [
    "X_train = dfdt[dfdt.date_key == '2018-01'].dropna()\n",
    "X_test = dfdt[dfdt.date_key == '2018-02'].dropna()"
   ]
  },
  {
   "cell_type": "code",
   "execution_count": 30,
   "metadata": {},
   "outputs": [
    {
     "data": {
      "text/plain": [
       "1632.1760015390498"
      ]
     },
     "execution_count": 30,
     "metadata": {},
     "output_type": "execute_result"
    }
   ],
   "source": [
    "np.sqrt(np.mean((X_test.velocity.values - X_train.velocity.values)**2))"
   ]
  },
  {
   "cell_type": "code",
   "execution_count": 31,
   "metadata": {},
   "outputs": [],
   "source": [
    "X_train = dfdt[dfdt.date_key == '2018-12'].dropna()\n",
    "X_test = dfdt[dfdt.date_key == '2019-01'].dropna()"
   ]
  },
  {
   "cell_type": "code",
   "execution_count": 32,
   "metadata": {},
   "outputs": [
    {
     "data": {
      "text/plain": [
       "311.26154597058724"
      ]
     },
     "execution_count": 32,
     "metadata": {},
     "output_type": "execute_result"
    }
   ],
   "source": [
    "np.sqrt(np.mean((X_test.velocity.values - X_train.velocity.values)**2))"
   ]
  },
  {
   "cell_type": "markdown",
   "metadata": {},
   "source": [
    "# Predicting Acceleration\n",
    "\n",
    "Predicting acceleration at time $t_{i+1}$ with time $t$"
   ]
  },
  {
   "cell_type": "code",
   "execution_count": 33,
   "metadata": {},
   "outputs": [],
   "source": [
    "\n",
    "v1 = (dfdt[dfdt.date_key == '2016-01-04'].dropna()).velocity.values\n",
    "v2 = (dfdt[dfdt.date_key == '2016-01-05'].dropna()).velocity.values\n",
    "\n",
    "vi = np.sqrt(v1**2 + v2**2)"
   ]
  },
  {
   "cell_type": "code",
   "execution_count": 34,
   "metadata": {},
   "outputs": [],
   "source": [
    "v3 = (dfdt[dfdt.date_key == '2016-01-06'].dropna()).velocity.values\n",
    "v4 = (dfdt[dfdt.date_key == '2016-01-07'].dropna()).velocity.values\n",
    "\n",
    "vii = np.sqrt(v3**2 + v4**2)"
   ]
  },
  {
   "cell_type": "code",
   "execution_count": 35,
   "metadata": {},
   "outputs": [
    {
     "data": {
      "text/plain": [
       "1176.8949350038952"
      ]
     },
     "execution_count": 35,
     "metadata": {},
     "output_type": "execute_result"
    }
   ],
   "source": [
    "np.sqrt(np.mean((vii - vi)**2))"
   ]
  },
  {
   "cell_type": "markdown",
   "metadata": {},
   "source": [
    "# Describing Acceleration\n",
    "\n",
    "Just show how acceleration is decreasing for bad projects. Then \n",
    "try to do long term predictions on acceleration."
   ]
  },
  {
   "cell_type": "markdown",
   "metadata": {},
   "source": [
    "## Defining unhealthy behavior \n",
    "\n",
    "We've taken a close look at Linux, let's now check to see if $H1_{a}$ applies to `Lucy` and `Wink`."
   ]
  },
  {
   "cell_type": "code",
   "execution_count": 47,
   "metadata": {},
   "outputs": [],
   "source": [
    "hmm = dfdt[(dfdt.owner_name == 'apache') & (dfdt.project_name == 'attic-lucy')][['date_key', 'velocity']]"
   ]
  },
  {
   "cell_type": "code",
   "execution_count": 54,
   "metadata": {},
   "outputs": [
    {
     "data": {
      "image/png": "[encoded data removed]",
      "text/plain": [
       "<Figure size 432x288 with 1 Axes>"
      ]
     },
     "metadata": {
      "needs_background": "light"
     },
     "output_type": "display_data"
    }
   ],
   "source": [
    "hmm.groupby('date_key').sum().plot()\n",
    "plt.ylim(-25000,25000)\n",
    "plt.show()"
   ]
  },
  {
   "cell_type": "code",
   "execution_count": 64,
   "metadata": {},
   "outputs": [],
   "source": [
    "per = df.authored.dt.to_period('Y')\n",
    "\n",
    "lucy = df[(df.owner_name == 'apache') & \n",
    "   (df.project_name == 'attic-lucy')][['owner_name', 'project_name', \n",
    "                                       'lines_added', 'lines_subtracted']].groupby([per, 'owner_name', \n",
    "                                                                                    'project_name']).sum()"
   ]
  },
  {
   "cell_type": "code",
   "execution_count": 68,
   "metadata": {},
   "outputs": [],
   "source": [
    "lucy['velocity'] = lucy.lines_added - lucy.lines_subtracted"
   ]
  },
  {
   "cell_type": "code",
   "execution_count": 75,
   "metadata": {},
   "outputs": [],
   "source": [
    "# Acceleration\n",
    "v = lucy.velocity.values\n",
    "\n",
    "#v1 = [v[i,1] - v[i-1,1] for i in range(1,v.shape[0])]\n",
    "#v1[0] = v[0,1]"
   ]
  },
  {
   "cell_type": "code",
   "execution_count": 98,
   "metadata": {},
   "outputs": [],
   "source": [
    "v1 = np.array([v[i] - v[i-1] if i > 0 else v[i] for i in range(v.shape[0])])"
   ]
  },
  {
   "cell_type": "code",
   "execution_count": 100,
   "metadata": {},
   "outputs": [],
   "source": [
    "lucy['acceleration'] = v1"
   ]
  },
  {
   "cell_type": "code",
   "execution_count": 109,
   "metadata": {},
   "outputs": [
    {
     "data": {
      "image/png": "[encoded data removed]",
      "text/plain": [
       "<Figure size 432x288 with 1 Axes>"
      ]
     },
     "metadata": {
      "needs_background": "light"
     },
     "output_type": "display_data"
    }
   ],
   "source": [
    "lucy.reset_index()[['authored', 'acceleration']].groupby('authored').sum().plot()\n",
    "plt.show()"
   ]
  },
  {
   "cell_type": "code",
   "execution_count": 113,
   "metadata": {},
   "outputs": [
    {
     "data": {
      "image/png": "[encoded data removed]",
      "text/plain": [
       "<Figure size 432x288 with 1 Axes>"
      ]
     },
     "metadata": {
      "needs_background": "light"
     },
     "output_type": "display_data"
    }
   ],
   "source": [
    "np.abs(lucy.acceleration).plot()\n",
    "plt.show()"
   ]
  },
  {
   "cell_type": "markdown",
   "metadata": {},
   "source": [
    "We can see that acceleration for Lucy converges to zero as the \n",
    "project is put in the Attic. Let's see if the same thing happens\n",
    "for Wink."
   ]
  },
  {
   "cell_type": "code",
   "execution_count": 115,
   "metadata": {},
   "outputs": [],
   "source": [
    "per = df.authored.dt.to_period('Y')\n",
    "\n",
    "wink = df[(df.owner_name == 'apache') & \n",
    "   (df.project_name == 'attic-wink')][['owner_name', 'project_name', \n",
    "                                       'lines_added', 'lines_subtracted']].groupby([per, 'owner_name', \n",
    "                                                                                    'project_name']).sum()\n",
    "wink['velocity'] = wink.lines_added - wink.lines_subtracted"
   ]
  },
  {
   "cell_type": "code",
   "execution_count": 116,
   "metadata": {},
   "outputs": [
    {
     "data": {
      "image/png": "[encoded data removed]",
      "text/plain": [
       "<Figure size 432x288 with 1 Axes>"
      ]
     },
     "metadata": {
      "needs_background": "light"
     },
     "output_type": "display_data"
    }
   ],
   "source": [
    "# Acceleration\n",
    "\n",
    "v = wink.velocity.values\n",
    "v1 = np.array([v[i] - v[i-1] if i > 0 else v[i] for i in range(v.shape[0])])\n",
    "wink['acceleration'] = v1\n",
    "\n",
    "wink.reset_index()[['authored', 'acceleration']].groupby('authored').sum().plot()\n",
    "plt.show()"
   ]
  },
  {
   "cell_type": "code",
   "execution_count": 117,
   "metadata": {},
   "outputs": [
    {
     "data": {
      "image/png": "[encoded data removed]",
      "text/plain": [
       "<Figure size 432x288 with 1 Axes>"
      ]
     },
     "metadata": {
      "needs_background": "light"
     },
     "output_type": "display_data"
    }
   ],
   "source": [
    "np.abs(wink.acceleration).plot()\n",
    "plt.show()"
   ]
  },
  {
   "cell_type": "markdown",
   "metadata": {},
   "source": [
    "Reviewing `Wink` and `Lucy` seem to make a pretty compelling case for\n",
    "amplitude diverging from zero as being reasonable proxy for repo health\n",
    "over time (see $H1_a$). The next step is to take this observation and convert it into\n",
    "a statistical algorithm to predict future acceleration."
   ]
  },
  {
   "cell_type": "markdown",
   "metadata": {},
   "source": [
    "## Predicting Acceleration\n",
    "\n",
    "Let's use some fany statistics and predict acceleration for each repo over time. We'll \n",
    "use year-to-year acceleration."
   ]
  },
  {
   "cell_type": "code",
   "execution_count": 118,
   "metadata": {},
   "outputs": [
    {
     "data": {
      "text/html": [
       "<div>\n",
       "<style scoped>\n",
       "    .dataframe tbody tr th:only-of-type {\n",
       "        vertical-align: middle;\n",
       "    }\n",
       "\n",
       "    .dataframe tbody tr th {\n",
       "        vertical-align: top;\n",
       "    }\n",
       "\n",
       "    .dataframe thead th {\n",
       "        text-align: right;\n",
       "    }\n",
       "</style>\n",
       "<table border=\"1\" class=\"dataframe\">\n",
       "  <thead>\n",
       "    <tr style=\"text-align: right;\">\n",
       "      <th></th>\n",
       "      <th>commit_hash</th>\n",
       "      <th>owner_name</th>\n",
       "      <th>project_name</th>\n",
       "      <th>file_id</th>\n",
       "      <th>modified_file</th>\n",
       "      <th>lines_added</th>\n",
       "      <th>lines_subtracted</th>\n",
       "      <th>name</th>\n",
       "      <th>email</th>\n",
       "      <th>authored</th>\n",
       "    </tr>\n",
       "  </thead>\n",
       "  <tbody>\n",
       "    <tr>\n",
       "      <th>0</th>\n",
       "      <td>8c2ffd9174779014c3fe1f96d9dc3641d9175f00</td>\n",
       "      <td>torvalds</td>\n",
       "      <td>linux</td>\n",
       "      <td>0</td>\n",
       "      <td>Makefile</td>\n",
       "      <td>1</td>\n",
       "      <td>1</td>\n",
       "      <td>Linus Torvalds</td>\n",
       "      <td>torvalds@linux-foundation.org</td>\n",
       "      <td>2019-03-24 14:02:26</td>\n",
       "    </tr>\n",
       "    <tr>\n",
       "      <th>1</th>\n",
       "      <td>2a6a8e2d9004b5303fcb494588ba3a3b87a256c3</td>\n",
       "      <td>torvalds</td>\n",
       "      <td>linux</td>\n",
       "      <td>1</td>\n",
       "      <td>drivers/clocksource/clps711x-timer.c</td>\n",
       "      <td>13</td>\n",
       "      <td>32</td>\n",
       "      <td>Alexander Shiyan</td>\n",
       "      <td>shc_work@mail.ru</td>\n",
       "      <td>2018-12-20 14:16:26</td>\n",
       "    </tr>\n",
       "    <tr>\n",
       "      <th>2</th>\n",
       "      <td>18915b5873f07e5030e6fb108a050fa7c71c59fb</td>\n",
       "      <td>torvalds</td>\n",
       "      <td>linux</td>\n",
       "      <td>2</td>\n",
       "      <td>fs/ext4/ioctl.c</td>\n",
       "      <td>7</td>\n",
       "      <td>0</td>\n",
       "      <td>Darrick J. Wong</td>\n",
       "      <td>darrick.wong@oracle.com</td>\n",
       "      <td>2019-03-23 12:10:29</td>\n",
       "    </tr>\n",
       "    <tr>\n",
       "      <th>3</th>\n",
       "      <td>5e86bdda41534e17621d5a071b294943cae4376e</td>\n",
       "      <td>torvalds</td>\n",
       "      <td>linux</td>\n",
       "      <td>3</td>\n",
       "      <td>fs/ext4/indirect.c</td>\n",
       "      <td>22</td>\n",
       "      <td>25</td>\n",
       "      <td>zhangyi (F)</td>\n",
       "      <td>yi.zhang@huawei.com</td>\n",
       "      <td>2019-03-23 11:56:01</td>\n",
       "    </tr>\n",
       "    <tr>\n",
       "      <th>4</th>\n",
       "      <td>674a2b27234d1b7afcb0a9162e81b2e53aeef217</td>\n",
       "      <td>torvalds</td>\n",
       "      <td>linux</td>\n",
       "      <td>4</td>\n",
       "      <td>fs/ext4/indirect.c</td>\n",
       "      <td>8</td>\n",
       "      <td>4</td>\n",
       "      <td>zhangyi (F)</td>\n",
       "      <td>yi.zhang@huawei.com</td>\n",
       "      <td>2019-03-23 11:43:05</td>\n",
       "    </tr>\n",
       "  </tbody>\n",
       "</table>\n",
       "</div>"
      ],
      "text/plain": [
       "                                commit_hash owner_name project_name  file_id  \\\n",
       "0  8c2ffd9174779014c3fe1f96d9dc3641d9175f00   torvalds        linux        0   \n",
       "1  2a6a8e2d9004b5303fcb494588ba3a3b87a256c3   torvalds        linux        1   \n",
       "2  18915b5873f07e5030e6fb108a050fa7c71c59fb   torvalds        linux        2   \n",
       "3  5e86bdda41534e17621d5a071b294943cae4376e   torvalds        linux        3   \n",
       "4  674a2b27234d1b7afcb0a9162e81b2e53aeef217   torvalds        linux        4   \n",
       "\n",
       "                          modified_file  lines_added  lines_subtracted  \\\n",
       "0                              Makefile            1                 1   \n",
       "1  drivers/clocksource/clps711x-timer.c           13                32   \n",
       "2                       fs/ext4/ioctl.c            7                 0   \n",
       "3                    fs/ext4/indirect.c           22                25   \n",
       "4                    fs/ext4/indirect.c            8                 4   \n",
       "\n",
       "               name                          email            authored  \n",
       "0    Linus Torvalds  torvalds@linux-foundation.org 2019-03-24 14:02:26  \n",
       "1  Alexander Shiyan               shc_work@mail.ru 2018-12-20 14:16:26  \n",
       "2   Darrick J. Wong        darrick.wong@oracle.com 2019-03-23 12:10:29  \n",
       "3       zhangyi (F)            yi.zhang@huawei.com 2019-03-23 11:56:01  \n",
       "4       zhangyi (F)            yi.zhang@huawei.com 2019-03-23 11:43:05  "
      ]
     },
     "execution_count": 118,
     "metadata": {},
     "output_type": "execute_result"
    }
   ],
   "source": [
    "df.head()"
   ]
  },
  {
   "cell_type": "code",
   "execution_count": 162,
   "metadata": {},
   "outputs": [],
   "source": [
    "# Compute acceleration\n",
    "\n",
    "def acceleration(v):\n",
    "    \"\"\" Convert velocity vector to acceleration \"\"\"\n",
    "    v1 = [v[i] - v[i-1] if i > 0 else v[i] for i in range(v.shape[0])]\n",
    "    return v1\n",
    "\n",
    "def acceleration_per_repo(df, period):\n",
    "   \n",
    "    cols = ['authored','owner_name', 'project_name', \n",
    "            'lines_added', 'lines_subtracted']\n",
    "    \n",
    "    per = df.authored.dt.to_period(period)\n",
    "    grp = [per,'owner_name', 'project_name']\n",
    "    \n",
    "    dfgrp = df[cols].groupby(grp).sum()\n",
    "    dfgrp['velocity'] = dfgrp.lines_added - dfgrp.lines_subtracted\n",
    "    dfgrp = dfgrp.reset_index()\n",
    "    \n",
    "    igrp = ['owner_name', 'project_name']\n",
    "    dfgrp['acceleration'] = 0.0\n",
    "    for i, row in dfgrp[igrp].groupby(igrp).count().reset_index().iterrows():\n",
    "        \n",
    "        subdf = dfgrp[(dfgrp.owner_name == row.owner_name) & (dfgrp.project_name == row.project_name)]\n",
    "        v = subdf.velocity.values\n",
    "        acc = acceleration(v)\n",
    "        dfgrp.loc[(dfgrp.owner_name == row.owner_name) & \n",
    "           (dfgrp.project_name == row.project_name), 'acceleration'] = acc\n",
    "        \n",
    "    return dfgrp\n",
    "    \n",
    "    "
   ]
  },
  {
   "cell_type": "code",
   "execution_count": 163,
   "metadata": {},
   "outputs": [],
   "source": [
    "# Compute amplitude\n",
    "\n",
    "dfyr = acceleration_per_repo(df, 'Y')"
   ]
  },
  {
   "cell_type": "code",
   "execution_count": 165,
   "metadata": {},
   "outputs": [
    {
     "data": {
      "text/plain": [
       "(78, 7)"
      ]
     },
     "execution_count": 165,
     "metadata": {},
     "output_type": "execute_result"
    }
   ],
   "source": [
    "# Check regression\n",
    "\n",
    "dfyr.shape"
   ]
  },
  {
   "cell_type": "code",
   "execution_count": 39,
   "metadata": {},
   "outputs": [],
   "source": [
    "# Add any variables which could threaten validity as controls \n",
    "# see if the relationship still holds\n",
    "\n"
   ]
  },
  {
   "cell_type": "code",
   "execution_count": null,
   "metadata": {},
   "outputs": [],
   "source": []
  },
  {
   "cell_type": "code",
   "execution_count": null,
   "metadata": {},
   "outputs": [],
   "source": []
  }
 ],
 "metadata": {
  "kernelspec": {
   "display_name": "Python 3",
   "language": "python",
   "name": "python3"
  },
  "language_info": {
   "codemirror_mode": {
    "name": "ipython",
    "version": 3
   },
   "file_extension": ".py",
   "mimetype": "text/x-python",
   "name": "python",
   "nbconvert_exporter": "python",
   "pygments_lexer": "ipython3",
   "version": "3.6.8"
  }
 },
 "nbformat": 4,
 "nbformat_minor": 2
}
