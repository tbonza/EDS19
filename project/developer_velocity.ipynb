{
 "cells": [
  {
   "cell_type": "markdown",
   "metadata": {},
   "source": [
    "# Summary\n",
    "\n",
    "Exploring developer velocity as a way of understanding project health on github."
   ]
  },
  {
   "cell_type": "code",
   "execution_count": 5,
   "metadata": {},
   "outputs": [],
   "source": [
    "from collections import defaultdict\n",
    "import os\n",
    "from urllib.parse import urljoin\n",
    "\n",
    "import matplotlib.pyplot as plt\n",
    "import numpy as np\n",
    "import pandas as pd\n",
    "from okra.playbooks import local_persistance\n",
    "from okra.models import (Meta, Author, Contrib, CommitFile, Info)\n",
    "from okra.models import DataAccessLayer"
   ]
  },
  {
   "cell_type": "code",
   "execution_count": 6,
   "metadata": {},
   "outputs": [
    {
     "name": "stderr",
     "output_type": "stream",
     "text": [
      "Issue with row 0, repo '/Users/tylerbrown/code/torvalds/linux'\n",
      "Issue with row 0, repo '/Users/tylerbrown/code/docker/docker-ce'\n",
      "Issue with row 0, repo '/Users/tylerbrown/code/apache/attic-lucy'\n",
      "Issue with row 0, repo '/Users/tylerbrown/code/apache/attic-wink'\n",
      "Issue with row 0, repo '/Users/tylerbrown/code/apache/spark'\n",
      "Issue with row 0, repo '/Users/tylerbrown/code/apache/lucene-solr'\n"
     ]
    }
   ],
   "source": [
    "DATA = \"/Users/tylerbrown/code/\"\n",
    "repos = [\n",
    "    \"torvalds/linux\",\n",
    "    \"docker/docker-ce\",\n",
    "    'apache/attic-lucy',\n",
    "    'apache/attic-wink',\n",
    "    'apache/spark',\n",
    "    'apache/lucene-solr'\n",
    "]\n",
    "\n",
    "for repo_name in repos:\n",
    "    local_persistance(repo_name, DATA)"
   ]
  },
  {
   "cell_type": "code",
   "execution_count": 61,
   "metadata": {},
   "outputs": [],
   "source": [
    "def date_transform(datedict):\n",
    "    these = {}\n",
    "    for key in datedict.keys():\n",
    "        item = datedict[key]\n",
    "        new_key = str(item.year) + '-' + str(item.dayofyear)\n",
    "        these[new_key] = item\n",
    "    return these\n",
    "\n",
    "def author_transform(autdict):\n",
    "    items = defaultdict(list)\n",
    "    for idx in range(len(autdict['commit_hash'])):\n",
    "        \n",
    "        new_key = str(autdict['date_authored'][idx].year) + '-' + str(autdict['date_authored'][idx].dayofyear)\n",
    "        new_item = (autdict['author_email'][idx], autdict['author_name'][idx], \n",
    "                    autdict['commit_hash'][idx], autdict['date_authored'][idx], \n",
    "                    autdict['lines_added'][idx], autdict['lines_deleted'][idx])\n",
    "        items[new_key].append(new_item)\n",
    "        \n",
    "    return items\n",
    "\n",
    "def date_join(autht, datet):\n",
    "    \n",
    "    rows = []\n",
    "    r = {\n",
    "        'date_key': np.NaN,\n",
    "        'author_email': np.NaN,\n",
    "        'author_name': np.NaN,\n",
    "        'commit_hash': np.NaN,\n",
    "        'date_authored': np.NaN,\n",
    "        'lines_added': np.NaN,\n",
    "        'lines_deleted': np.NaN,\n",
    "    }\n",
    "\n",
    "    for date_key in datet.keys():\n",
    "        \n",
    "        if date_key in autht:\n",
    "            \n",
    "            for i in autht[date_key]:\n",
    "                \n",
    "                rd = r.copy()\n",
    "                rd['date_key'] = date_key\n",
    "                rd['author_email'] = i[0]\n",
    "                rd['author_name'] = i[1]\n",
    "                rd['commit_hash'] = i[2]\n",
    "                rd['date_authored'] = i[3]\n",
    "                rd['lines_added'] = i[4]\n",
    "                rd['lines_deleted'] = i[5]\n",
    "                \n",
    "                rows.append(rd)\n",
    "    return rows"
   ]
  },
  {
   "cell_type": "code",
   "execution_count": 62,
   "metadata": {},
   "outputs": [
    {
     "data": {
      "text/plain": [
       "{'torvalds/linux': 'torvalds__REPODB__linux.db',\n",
       " 'docker/docker-ce': 'docker__REPODB__docker-ce.db',\n",
       " 'apache/attic-lucy': 'apache__REPODB__attic-lucy.db',\n",
       " 'apache/attic-wink': 'apache__REPODB__attic-wink.db',\n",
       " 'apache/spark': 'apache__REPODB__spark.db',\n",
       " 'apache/lucene-solr': 'apache__REPODB__lucene-solr.db'}"
      ]
     },
     "execution_count": 62,
     "metadata": {},
     "output_type": "execute_result"
    }
   ],
   "source": [
    "repodbs = {i : i.replace(\"/\", \"__REPODB__\") + \".db\" for i in repos}\n",
    "repodbs"
   ]
  },
  {
   "cell_type": "code",
   "execution_count": 43,
   "metadata": {},
   "outputs": [],
   "source": [
    "conn_string = \"sqlite:///\" + urljoin(DATA, repodbs['torvalds/linux'])"
   ]
  },
  {
   "cell_type": "code",
   "execution_count": 44,
   "metadata": {},
   "outputs": [],
   "source": [
    "dal = DataAccessLayer(conn_string)\n",
    "dal.connect()\n",
    "dal.session = dal.Session()"
   ]
  },
  {
   "cell_type": "code",
   "execution_count": 45,
   "metadata": {},
   "outputs": [
    {
     "name": "stdout",
     "output_type": "stream",
     "text": [
      "(1824726, 6)\n"
     ]
    }
   ],
   "source": [
    "# let's do this by author per file now\n",
    "\n",
    "q5 = dal.session.query(\n",
    "    Meta.commit_hash, Author.authored, Author.name, Author.email,\n",
    "    CommitFile.lines_added, CommitFile.lines_deleted\n",
    ").join(Author).join(CommitFile)\n",
    "\n",
    "items = []\n",
    "for item in q5.all():\n",
    "    r = {\n",
    "        \"commit_hash\": item.commit_hash,\n",
    "        \"date_authored\": item.authored,\n",
    "        \"author_name\": item.name,\n",
    "        \"author_email\": item.email,\n",
    "        \"lines_added\": item.lines_added,\n",
    "        \"lines_deleted\": item.lines_deleted,\n",
    "    }\n",
    "    items.append(r)\n",
    "autdf = pd.DataFrame(items)\n",
    "print(autdf.shape)"
   ]
  },
  {
   "cell_type": "code",
   "execution_count": 63,
   "metadata": {},
   "outputs": [],
   "source": [
    "per = autdf.date_authored.dt.to_period('D')"
   ]
  },
  {
   "cell_type": "code",
   "execution_count": 64,
   "metadata": {},
   "outputs": [],
   "source": [
    "autdf['date_authored'] = autdf.date_authored.apply(lambda x: pd.Timestamp(x))"
   ]
  },
  {
   "cell_type": "code",
   "execution_count": 164,
   "metadata": {},
   "outputs": [
    {
     "data": {
      "text/html": [
       "<div>\n",
       "<style scoped>\n",
       "    .dataframe tbody tr th:only-of-type {\n",
       "        vertical-align: middle;\n",
       "    }\n",
       "\n",
       "    .dataframe tbody tr th {\n",
       "        vertical-align: top;\n",
       "    }\n",
       "\n",
       "    .dataframe thead th {\n",
       "        text-align: right;\n",
       "    }\n",
       "</style>\n",
       "<table border=\"1\" class=\"dataframe\">\n",
       "  <thead>\n",
       "    <tr style=\"text-align: right;\">\n",
       "      <th></th>\n",
       "      <th>dates</th>\n",
       "    </tr>\n",
       "  </thead>\n",
       "  <tbody>\n",
       "    <tr>\n",
       "      <th>0</th>\n",
       "      <td>2005-01-01</td>\n",
       "    </tr>\n",
       "    <tr>\n",
       "      <th>1</th>\n",
       "      <td>2005-01-02</td>\n",
       "    </tr>\n",
       "    <tr>\n",
       "      <th>2</th>\n",
       "      <td>2005-01-03</td>\n",
       "    </tr>\n",
       "    <tr>\n",
       "      <th>3</th>\n",
       "      <td>2005-01-04</td>\n",
       "    </tr>\n",
       "    <tr>\n",
       "      <th>4</th>\n",
       "      <td>2005-01-05</td>\n",
       "    </tr>\n",
       "  </tbody>\n",
       "</table>\n",
       "</div>"
      ],
      "text/plain": [
       "       dates\n",
       "0 2005-01-01\n",
       "1 2005-01-02\n",
       "2 2005-01-03\n",
       "3 2005-01-04\n",
       "4 2005-01-05"
      ]
     },
     "execution_count": 164,
     "metadata": {},
     "output_type": "execute_result"
    }
   ],
   "source": [
    "dates = pd.DataFrame(pd.date_range('2005-01', '2019-01', freq='D'))\n",
    "dates.columns = ['dates']\n",
    "dates.head()"
   ]
  },
  {
   "cell_type": "code",
   "execution_count": 66,
   "metadata": {},
   "outputs": [],
   "source": [
    "datet = dates.to_dict()['dates']"
   ]
  },
  {
   "cell_type": "code",
   "execution_count": 67,
   "metadata": {},
   "outputs": [],
   "source": [
    "autht = autdf.to_dict()"
   ]
  },
  {
   "cell_type": "code",
   "execution_count": 68,
   "metadata": {},
   "outputs": [],
   "source": [
    "datedt = date_transform(datet)"
   ]
  },
  {
   "cell_type": "code",
   "execution_count": 69,
   "metadata": {},
   "outputs": [],
   "source": [
    "authdt = author_transform(autht)"
   ]
  },
  {
   "cell_type": "code",
   "execution_count": 77,
   "metadata": {},
   "outputs": [],
   "source": [
    "df = date_join(authdt, datedt)"
   ]
  },
  {
   "cell_type": "code",
   "execution_count": 82,
   "metadata": {},
   "outputs": [
    {
     "data": {
      "text/plain": [
       "(1800811, 7)"
      ]
     },
     "execution_count": 82,
     "metadata": {},
     "output_type": "execute_result"
    }
   ],
   "source": [
    "df = pd.DataFrame(df)\n",
    "df.shape"
   ]
  },
  {
   "cell_type": "code",
   "execution_count": 83,
   "metadata": {},
   "outputs": [
    {
     "data": {
      "text/html": [
       "<div>\n",
       "<style scoped>\n",
       "    .dataframe tbody tr th:only-of-type {\n",
       "        vertical-align: middle;\n",
       "    }\n",
       "\n",
       "    .dataframe tbody tr th {\n",
       "        vertical-align: top;\n",
       "    }\n",
       "\n",
       "    .dataframe thead th {\n",
       "        text-align: right;\n",
       "    }\n",
       "</style>\n",
       "<table border=\"1\" class=\"dataframe\">\n",
       "  <thead>\n",
       "    <tr style=\"text-align: right;\">\n",
       "      <th></th>\n",
       "      <th>author_email</th>\n",
       "      <th>author_name</th>\n",
       "      <th>commit_hash</th>\n",
       "      <th>date_authored</th>\n",
       "      <th>date_key</th>\n",
       "      <th>lines_added</th>\n",
       "      <th>lines_deleted</th>\n",
       "    </tr>\n",
       "  </thead>\n",
       "  <tbody>\n",
       "    <tr>\n",
       "      <th>0</th>\n",
       "      <td>jdub@us.ibm.com</td>\n",
       "      <td>Josh Boyer</td>\n",
       "      <td>14f8351a313f364afbc565f1ddcd43f8cfdccf52</td>\n",
       "      <td>2005-01-06 21:16:45</td>\n",
       "      <td>2005-6</td>\n",
       "      <td>18</td>\n",
       "      <td>5</td>\n",
       "    </tr>\n",
       "    <tr>\n",
       "      <th>1</th>\n",
       "      <td>aia21@cantab.net</td>\n",
       "      <td>Anton Altaparmakov</td>\n",
       "      <td>149f0c5200188a43f1fc11ca2fb14d8183013d10</td>\n",
       "      <td>2005-01-12 13:52:30</td>\n",
       "      <td>2005-12</td>\n",
       "      <td>21</td>\n",
       "      <td>10</td>\n",
       "    </tr>\n",
       "    <tr>\n",
       "      <th>2</th>\n",
       "      <td>aia21@cantab.net</td>\n",
       "      <td>Anton Altaparmakov</td>\n",
       "      <td>07a4e2da7dd3c9345f84b2552872f9d38c257451</td>\n",
       "      <td>2005-01-12 13:08:26</td>\n",
       "      <td>2005-12</td>\n",
       "      <td>2</td>\n",
       "      <td>0</td>\n",
       "    </tr>\n",
       "    <tr>\n",
       "      <th>3</th>\n",
       "      <td>aia21@cantab.net</td>\n",
       "      <td>Anton Altaparmakov</td>\n",
       "      <td>07a4e2da7dd3c9345f84b2552872f9d38c257451</td>\n",
       "      <td>2005-01-12 13:08:26</td>\n",
       "      <td>2005-12</td>\n",
       "      <td>41</td>\n",
       "      <td>15</td>\n",
       "    </tr>\n",
       "    <tr>\n",
       "      <th>4</th>\n",
       "      <td>aia21@cantab.net</td>\n",
       "      <td>Anton Altaparmakov</td>\n",
       "      <td>07a4e2da7dd3c9345f84b2552872f9d38c257451</td>\n",
       "      <td>2005-01-12 13:08:26</td>\n",
       "      <td>2005-12</td>\n",
       "      <td>113</td>\n",
       "      <td>44</td>\n",
       "    </tr>\n",
       "  </tbody>\n",
       "</table>\n",
       "</div>"
      ],
      "text/plain": [
       "       author_email         author_name  \\\n",
       "0   jdub@us.ibm.com          Josh Boyer   \n",
       "1  aia21@cantab.net  Anton Altaparmakov   \n",
       "2  aia21@cantab.net  Anton Altaparmakov   \n",
       "3  aia21@cantab.net  Anton Altaparmakov   \n",
       "4  aia21@cantab.net  Anton Altaparmakov   \n",
       "\n",
       "                                commit_hash       date_authored date_key  \\\n",
       "0  14f8351a313f364afbc565f1ddcd43f8cfdccf52 2005-01-06 21:16:45   2005-6   \n",
       "1  149f0c5200188a43f1fc11ca2fb14d8183013d10 2005-01-12 13:52:30  2005-12   \n",
       "2  07a4e2da7dd3c9345f84b2552872f9d38c257451 2005-01-12 13:08:26  2005-12   \n",
       "3  07a4e2da7dd3c9345f84b2552872f9d38c257451 2005-01-12 13:08:26  2005-12   \n",
       "4  07a4e2da7dd3c9345f84b2552872f9d38c257451 2005-01-12 13:08:26  2005-12   \n",
       "\n",
       "   lines_added  lines_deleted  \n",
       "0           18              5  \n",
       "1           21             10  \n",
       "2            2              0  \n",
       "3           41             15  \n",
       "4          113             44  "
      ]
     },
     "execution_count": 83,
     "metadata": {},
     "output_type": "execute_result"
    }
   ],
   "source": [
    "df.head()"
   ]
  },
  {
   "cell_type": "markdown",
   "metadata": {},
   "source": [
    "# Computing developer velocity\n",
    "\n",
    "$$\n",
    "v = \\frac{d}{t}\n",
    "$$"
   ]
  },
  {
   "cell_type": "code",
   "execution_count": 84,
   "metadata": {},
   "outputs": [],
   "source": [
    "df['total_lines'] = df.lines_added + df.lines_deleted"
   ]
  },
  {
   "cell_type": "code",
   "execution_count": 130,
   "metadata": {},
   "outputs": [
    {
     "data": {
      "text/html": [
       "<div>\n",
       "<style scoped>\n",
       "    .dataframe tbody tr th:only-of-type {\n",
       "        vertical-align: middle;\n",
       "    }\n",
       "\n",
       "    .dataframe tbody tr th {\n",
       "        vertical-align: top;\n",
       "    }\n",
       "\n",
       "    .dataframe thead th {\n",
       "        text-align: right;\n",
       "    }\n",
       "</style>\n",
       "<table border=\"1\" class=\"dataframe\">\n",
       "  <thead>\n",
       "    <tr style=\"text-align: right;\">\n",
       "      <th></th>\n",
       "      <th>author_email</th>\n",
       "      <th>author_name</th>\n",
       "      <th>commit_hash</th>\n",
       "      <th>date_authored</th>\n",
       "      <th>date_key</th>\n",
       "      <th>lines_added</th>\n",
       "      <th>lines_deleted</th>\n",
       "      <th>total_lines</th>\n",
       "    </tr>\n",
       "  </thead>\n",
       "  <tbody>\n",
       "    <tr>\n",
       "      <th>0</th>\n",
       "      <td>jdub@us.ibm.com</td>\n",
       "      <td>Josh Boyer</td>\n",
       "      <td>14f8351a313f364afbc565f1ddcd43f8cfdccf52</td>\n",
       "      <td>2005-01-06 21:16:45</td>\n",
       "      <td>2005-6</td>\n",
       "      <td>18</td>\n",
       "      <td>5</td>\n",
       "      <td>23</td>\n",
       "    </tr>\n",
       "    <tr>\n",
       "      <th>1</th>\n",
       "      <td>aia21@cantab.net</td>\n",
       "      <td>Anton Altaparmakov</td>\n",
       "      <td>149f0c5200188a43f1fc11ca2fb14d8183013d10</td>\n",
       "      <td>2005-01-12 13:52:30</td>\n",
       "      <td>2005-12</td>\n",
       "      <td>21</td>\n",
       "      <td>10</td>\n",
       "      <td>31</td>\n",
       "    </tr>\n",
       "    <tr>\n",
       "      <th>2</th>\n",
       "      <td>aia21@cantab.net</td>\n",
       "      <td>Anton Altaparmakov</td>\n",
       "      <td>07a4e2da7dd3c9345f84b2552872f9d38c257451</td>\n",
       "      <td>2005-01-12 13:08:26</td>\n",
       "      <td>2005-12</td>\n",
       "      <td>2</td>\n",
       "      <td>0</td>\n",
       "      <td>2</td>\n",
       "    </tr>\n",
       "    <tr>\n",
       "      <th>3</th>\n",
       "      <td>aia21@cantab.net</td>\n",
       "      <td>Anton Altaparmakov</td>\n",
       "      <td>07a4e2da7dd3c9345f84b2552872f9d38c257451</td>\n",
       "      <td>2005-01-12 13:08:26</td>\n",
       "      <td>2005-12</td>\n",
       "      <td>41</td>\n",
       "      <td>15</td>\n",
       "      <td>56</td>\n",
       "    </tr>\n",
       "    <tr>\n",
       "      <th>4</th>\n",
       "      <td>aia21@cantab.net</td>\n",
       "      <td>Anton Altaparmakov</td>\n",
       "      <td>07a4e2da7dd3c9345f84b2552872f9d38c257451</td>\n",
       "      <td>2005-01-12 13:08:26</td>\n",
       "      <td>2005-12</td>\n",
       "      <td>113</td>\n",
       "      <td>44</td>\n",
       "      <td>157</td>\n",
       "    </tr>\n",
       "  </tbody>\n",
       "</table>\n",
       "</div>"
      ],
      "text/plain": [
       "       author_email         author_name  \\\n",
       "0   jdub@us.ibm.com          Josh Boyer   \n",
       "1  aia21@cantab.net  Anton Altaparmakov   \n",
       "2  aia21@cantab.net  Anton Altaparmakov   \n",
       "3  aia21@cantab.net  Anton Altaparmakov   \n",
       "4  aia21@cantab.net  Anton Altaparmakov   \n",
       "\n",
       "                                commit_hash       date_authored date_key  \\\n",
       "0  14f8351a313f364afbc565f1ddcd43f8cfdccf52 2005-01-06 21:16:45   2005-6   \n",
       "1  149f0c5200188a43f1fc11ca2fb14d8183013d10 2005-01-12 13:52:30  2005-12   \n",
       "2  07a4e2da7dd3c9345f84b2552872f9d38c257451 2005-01-12 13:08:26  2005-12   \n",
       "3  07a4e2da7dd3c9345f84b2552872f9d38c257451 2005-01-12 13:08:26  2005-12   \n",
       "4  07a4e2da7dd3c9345f84b2552872f9d38c257451 2005-01-12 13:08:26  2005-12   \n",
       "\n",
       "   lines_added  lines_deleted  total_lines  \n",
       "0           18              5           23  \n",
       "1           21             10           31  \n",
       "2            2              0            2  \n",
       "3           41             15           56  \n",
       "4          113             44          157  "
      ]
     },
     "execution_count": 130,
     "metadata": {},
     "output_type": "execute_result"
    }
   ],
   "source": [
    "df.head()"
   ]
  },
  {
   "cell_type": "code",
   "execution_count": 135,
   "metadata": {},
   "outputs": [],
   "source": [
    "per = df.date_authored.dt.to_period('D')\n",
    "autdf = df[['author_name','date_authored','total_lines']].groupby([per, 'author_name']).sum()"
   ]
  },
  {
   "cell_type": "code",
   "execution_count": 138,
   "metadata": {},
   "outputs": [
    {
     "data": {
      "text/html": [
       "<div>\n",
       "<style scoped>\n",
       "    .dataframe tbody tr th:only-of-type {\n",
       "        vertical-align: middle;\n",
       "    }\n",
       "\n",
       "    .dataframe tbody tr th {\n",
       "        vertical-align: top;\n",
       "    }\n",
       "\n",
       "    .dataframe thead th {\n",
       "        text-align: right;\n",
       "    }\n",
       "</style>\n",
       "<table border=\"1\" class=\"dataframe\">\n",
       "  <thead>\n",
       "    <tr style=\"text-align: right;\">\n",
       "      <th></th>\n",
       "      <th>index</th>\n",
       "      <th>date_authored</th>\n",
       "      <th>author_name</th>\n",
       "      <th>total_lines</th>\n",
       "    </tr>\n",
       "  </thead>\n",
       "  <tbody>\n",
       "    <tr>\n",
       "      <th>0</th>\n",
       "      <td>0</td>\n",
       "      <td>2005-01-06</td>\n",
       "      <td>Josh Boyer</td>\n",
       "      <td>23</td>\n",
       "    </tr>\n",
       "    <tr>\n",
       "      <th>1</th>\n",
       "      <td>1</td>\n",
       "      <td>2005-01-12</td>\n",
       "      <td>Anton Altaparmakov</td>\n",
       "      <td>246</td>\n",
       "    </tr>\n",
       "    <tr>\n",
       "      <th>2</th>\n",
       "      <td>2</td>\n",
       "      <td>2005-01-13</td>\n",
       "      <td>Anton Altaparmakov</td>\n",
       "      <td>54</td>\n",
       "    </tr>\n",
       "    <tr>\n",
       "      <th>3</th>\n",
       "      <td>3</td>\n",
       "      <td>2005-01-14</td>\n",
       "      <td>Ralf Baechle</td>\n",
       "      <td>2</td>\n",
       "    </tr>\n",
       "    <tr>\n",
       "      <th>4</th>\n",
       "      <td>4</td>\n",
       "      <td>2005-01-17</td>\n",
       "      <td>David A. Marlin</td>\n",
       "      <td>153</td>\n",
       "    </tr>\n",
       "  </tbody>\n",
       "</table>\n",
       "</div>"
      ],
      "text/plain": [
       "   index date_authored         author_name  total_lines\n",
       "0      0    2005-01-06          Josh Boyer           23\n",
       "1      1    2005-01-12  Anton Altaparmakov          246\n",
       "2      2    2005-01-13  Anton Altaparmakov           54\n",
       "3      3    2005-01-14        Ralf Baechle            2\n",
       "4      4    2005-01-17     David A. Marlin          153"
      ]
     },
     "execution_count": 138,
     "metadata": {},
     "output_type": "execute_result"
    }
   ],
   "source": [
    "autdf = autdf.reset_index()\n",
    "autdf.head()"
   ]
  },
  {
   "cell_type": "code",
   "execution_count": 165,
   "metadata": {},
   "outputs": [],
   "source": [
    "perd = dates.dates.dt.to_period('D')\n",
    "dates = dates.groupby(perd).count()"
   ]
  },
  {
   "cell_type": "code",
   "execution_count": 166,
   "metadata": {},
   "outputs": [],
   "source": [
    "dates.columns = ['count']"
   ]
  },
  {
   "cell_type": "code",
   "execution_count": 167,
   "metadata": {},
   "outputs": [
    {
     "data": {
      "text/html": [
       "<div>\n",
       "<style scoped>\n",
       "    .dataframe tbody tr th:only-of-type {\n",
       "        vertical-align: middle;\n",
       "    }\n",
       "\n",
       "    .dataframe tbody tr th {\n",
       "        vertical-align: top;\n",
       "    }\n",
       "\n",
       "    .dataframe thead th {\n",
       "        text-align: right;\n",
       "    }\n",
       "</style>\n",
       "<table border=\"1\" class=\"dataframe\">\n",
       "  <thead>\n",
       "    <tr style=\"text-align: right;\">\n",
       "      <th></th>\n",
       "      <th>count</th>\n",
       "    </tr>\n",
       "    <tr>\n",
       "      <th>dates</th>\n",
       "      <th></th>\n",
       "    </tr>\n",
       "  </thead>\n",
       "  <tbody>\n",
       "    <tr>\n",
       "      <th>2005-01-01</th>\n",
       "      <td>1</td>\n",
       "    </tr>\n",
       "    <tr>\n",
       "      <th>2005-01-02</th>\n",
       "      <td>1</td>\n",
       "    </tr>\n",
       "    <tr>\n",
       "      <th>2005-01-03</th>\n",
       "      <td>1</td>\n",
       "    </tr>\n",
       "    <tr>\n",
       "      <th>2005-01-04</th>\n",
       "      <td>1</td>\n",
       "    </tr>\n",
       "    <tr>\n",
       "      <th>2005-01-05</th>\n",
       "      <td>1</td>\n",
       "    </tr>\n",
       "  </tbody>\n",
       "</table>\n",
       "</div>"
      ],
      "text/plain": [
       "            count\n",
       "dates            \n",
       "2005-01-01      1\n",
       "2005-01-02      1\n",
       "2005-01-03      1\n",
       "2005-01-04      1\n",
       "2005-01-05      1"
      ]
     },
     "execution_count": 167,
     "metadata": {},
     "output_type": "execute_result"
    }
   ],
   "source": [
    "dates.head()"
   ]
  },
  {
   "cell_type": "code",
   "execution_count": 170,
   "metadata": {},
   "outputs": [
    {
     "data": {
      "text/plain": [
       "(5114, 3)"
      ]
     },
     "execution_count": 170,
     "metadata": {},
     "output_type": "execute_result"
    }
   ],
   "source": [
    "dates = dates.reset_index()\n",
    "dates.shape"
   ]
  },
  {
   "cell_type": "markdown",
   "metadata": {},
   "source": [
    "## Checking developer velocity for Linus\n",
    "\n",
    "We need to check velocity one developer at a time. Let's\n",
    "try to get a baseline with Linus."
   ]
  },
  {
   "cell_type": "code",
   "execution_count": 177,
   "metadata": {},
   "outputs": [],
   "source": [
    "linusdf = autdf[autdf.author_name == 'Linus Torvalds']"
   ]
  },
  {
   "cell_type": "code",
   "execution_count": 183,
   "metadata": {},
   "outputs": [],
   "source": [
    "linusdt = pd.merge(dates, linusdf, how='left', left_on='dates', right_on='date_authored')"
   ]
  },
  {
   "cell_type": "code",
   "execution_count": 186,
   "metadata": {},
   "outputs": [
    {
     "data": {
      "text/plain": [
       "True"
      ]
     },
     "execution_count": 186,
     "metadata": {},
     "output_type": "execute_result"
    }
   ],
   "source": [
    "linusdt.shape[0] == dates.shape[0]"
   ]
  },
  {
   "cell_type": "code",
   "execution_count": 200,
   "metadata": {},
   "outputs": [],
   "source": [
    "linus_vel = linusdt[['dates','total_lines']]"
   ]
  },
  {
   "cell_type": "code",
   "execution_count": 205,
   "metadata": {},
   "outputs": [],
   "source": [
    "linus_vel = linus_vel.set_index(linusdt.dates)"
   ]
  },
  {
   "cell_type": "code",
   "execution_count": 214,
   "metadata": {},
   "outputs": [
    {
     "data": {
      "image/png": "[encoded data removed]",
      "text/plain": [
       "<Figure size 432x288 with 1 Axes>"
      ]
     },
     "metadata": {
      "needs_background": "light"
     },
     "output_type": "display_data"
    }
   ],
   "source": [
    "linus_vel.plot()\n",
    "plt.ylim(0,2500)\n",
    "plt.show()"
   ]
  },
  {
   "cell_type": "markdown",
   "metadata": {},
   "source": [
    "We can see a pattern of velocity with significant peaks. Let's \n",
    "calculate yearly acceleration and/or speed."
   ]
  },
  {
   "cell_type": "code",
   "execution_count": null,
   "metadata": {},
   "outputs": [],
   "source": []
  },
  {
   "cell_type": "code",
   "execution_count": null,
   "metadata": {},
   "outputs": [],
   "source": []
  },
  {
   "cell_type": "code",
   "execution_count": null,
   "metadata": {},
   "outputs": [],
   "source": []
  }
 ],
 "metadata": {
  "kernelspec": {
   "display_name": "Python 3",
   "language": "python",
   "name": "python3"
  },
  "language_info": {
   "codemirror_mode": {
    "name": "ipython",
    "version": 3
   },
   "file_extension": ".py",
   "mimetype": "text/x-python",
   "name": "python",
   "nbconvert_exporter": "python",
   "pygments_lexer": "ipython3",
   "version": "3.7.2"
  }
 },
 "nbformat": 4,
 "nbformat_minor": 2
}
