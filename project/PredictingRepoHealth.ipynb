{
 "cells": [
  {
   "cell_type": "markdown",
   "metadata": {},
   "source": [
    "# Summary\n",
    "\n",
    "The `RepoHealth` notebook reviews descriptive statistics and finds patterns which seem to be\n",
    "shared by healthy and unhealthy repositories. This `PredictingRepoHealth` notebook focuses\n",
    "solely on predicting time series. \n",
    "\n",
    "$v(t) = \\alpha + \\beta_1 x_1 + \\epsilon$"
   ]
  },
  {
   "cell_type": "code",
   "execution_count": 1,
   "metadata": {},
   "outputs": [
    {
     "name": "stdout",
     "output_type": "stream",
     "text": [
      "/Users/tylerbrown/code/author_2019-04-20_0.parquet\r\n",
      "/Users/tylerbrown/code/commit_file_2019-04-20_0.parquet\r\n",
      "/Users/tylerbrown/code/commit_file_2019-04-20_1.parquet\r\n",
      "/Users/tylerbrown/code/contrib_2019-04-20_0.parquet\r\n",
      "/Users/tylerbrown/code/info_2019-04-20_0.parquet\r\n",
      "/Users/tylerbrown/code/meta_2019-04-20_0.parquet\r\n"
     ]
    }
   ],
   "source": [
    "ls ~/code/*.parquet"
   ]
  },
  {
   "cell_type": "markdown",
   "metadata": {},
   "source": [
    "## Dependencies\n",
    "\n"
   ]
  },
  {
   "cell_type": "code",
   "execution_count": 2,
   "metadata": {},
   "outputs": [],
   "source": [
    "from collections import defaultdict\n",
    "\n",
    "import matplotlib.pyplot as plt\n",
    "import numpy as np\n",
    "import pandas as pd"
   ]
  },
  {
   "cell_type": "markdown",
   "metadata": {},
   "source": [
    "## Load Data\n",
    "\n",
    "Databases have been consolidated and switched to Parquet files with\n",
    "no more than 2e6 records in each."
   ]
  },
  {
   "cell_type": "code",
   "execution_count": 3,
   "metadata": {},
   "outputs": [
    {
     "name": "stderr",
     "output_type": "stream",
     "text": [
      "/Users/tylerbrown/miniconda3/envs/rose/lib/python3.6/site-packages/pyarrow/pandas_compat.py:708: FutureWarning: .labels was deprecated in version 0.24.0. Use .codes instead.\n",
      "  labels = getattr(columns, 'labels', None) or [\n",
      "/Users/tylerbrown/miniconda3/envs/rose/lib/python3.6/site-packages/pyarrow/pandas_compat.py:735: FutureWarning: the 'labels' keyword is deprecated, use 'codes' instead\n",
      "  return pd.MultiIndex(levels=new_levels, labels=labels, names=columns.names)\n",
      "/Users/tylerbrown/miniconda3/envs/rose/lib/python3.6/site-packages/pyarrow/pandas_compat.py:752: FutureWarning: .labels was deprecated in version 0.24.0. Use .codes instead.\n",
      "  labels, = index.labels\n"
     ]
    },
    {
     "data": {
      "text/plain": [
       "(2327964, 5)"
      ]
     },
     "execution_count": 3,
     "metadata": {},
     "output_type": "execute_result"
    }
   ],
   "source": [
    "commits = pd.read_parquet('/Users/tylerbrown/code/commit_file_2019-04-20_0.parquet', 'pyarrow').append(\n",
    "    pd.read_parquet('/Users/tylerbrown/code/commit_file_2019-04-20_1.parquet', 'pyarrow')\n",
    ")\n",
    "commits.shape"
   ]
  },
  {
   "cell_type": "code",
   "execution_count": 4,
   "metadata": {},
   "outputs": [
    {
     "data": {
      "text/plain": [
       "(928779, 3)"
      ]
     },
     "execution_count": 4,
     "metadata": {},
     "output_type": "execute_result"
    }
   ],
   "source": [
    "meta = pd.read_parquet('/Users/tylerbrown/code/meta_2019-04-20_0.parquet', 'pyarrow')\n",
    "meta.shape"
   ]
  },
  {
   "cell_type": "code",
   "execution_count": 5,
   "metadata": {},
   "outputs": [
    {
     "data": {
      "text/plain": [
       "(928779, 4)"
      ]
     },
     "execution_count": 5,
     "metadata": {},
     "output_type": "execute_result"
    }
   ],
   "source": [
    "author = pd.read_parquet('/Users/tylerbrown/code/author_2019-04-20_0.parquet')\n",
    "author.shape"
   ]
  },
  {
   "cell_type": "markdown",
   "metadata": {},
   "source": [
    "## Helper functions\n",
    "\n",
    "Use these later in a Python script"
   ]
  },
  {
   "cell_type": "code",
   "execution_count": 6,
   "metadata": {},
   "outputs": [],
   "source": [
    "def acceleration(v):\n",
    "    \"\"\" Convert velocity vector to acceleration \"\"\"\n",
    "    v1 = [v[i] - v[i-1] if i > 0 else v[i] for i in range(v.shape[0])]\n",
    "    return v1\n",
    "\n",
    "def acceleration_per_repo(df, period):\n",
    "   \n",
    "    cols = ['authored','owner_name', 'project_name', \n",
    "            'lines_added', 'lines_subtracted']\n",
    "    \n",
    "    per = df.authored.dt.to_period(period)\n",
    "    grp = [per,'owner_name', 'project_name']\n",
    "    \n",
    "    dfgrp = df[cols].groupby(grp).sum()\n",
    "    dfgrp['velocity'] = dfgrp.lines_added - dfgrp.lines_subtracted\n",
    "    dfgrp = dfgrp.reset_index()\n",
    "    \n",
    "    igrp = ['owner_name', 'project_name']\n",
    "    dfgrp['acceleration'] = 0.0\n",
    "    for i, row in dfgrp[igrp].groupby(igrp).count().reset_index().iterrows():\n",
    "        \n",
    "        subdf = dfgrp[(dfgrp.owner_name == row.owner_name) & (dfgrp.project_name == row.project_name)]\n",
    "        v = subdf.velocity.values\n",
    "        acc = acceleration(v)\n",
    "        dfgrp.loc[(dfgrp.owner_name == row.owner_name) & \n",
    "           (dfgrp.project_name == row.project_name), 'acceleration'] = acc\n",
    "        \n",
    "    return dfgrp"
   ]
  },
  {
   "cell_type": "markdown",
   "metadata": {},
   "source": [
    "# Data Preprocessing\n",
    "\n",
    "We need to set up a time series."
   ]
  },
  {
   "cell_type": "code",
   "execution_count": 7,
   "metadata": {},
   "outputs": [
    {
     "data": {
      "text/plain": [
       "(2327964, 10)"
      ]
     },
     "execution_count": 7,
     "metadata": {},
     "output_type": "execute_result"
    }
   ],
   "source": [
    "# Create working table\n",
    "\n",
    "df = pd.merge(pd.merge(meta, commits), author)\n",
    "df.shape"
   ]
  },
  {
   "cell_type": "code",
   "execution_count": 8,
   "metadata": {},
   "outputs": [
    {
     "name": "stdout",
     "output_type": "stream",
     "text": [
      "Weird things didn't happen: True\n"
     ]
    }
   ],
   "source": [
    "print(\"Weird things didn't happen: {}\".format(df.shape[0] == commits.shape[0]))"
   ]
  },
  {
   "cell_type": "code",
   "execution_count": 9,
   "metadata": {},
   "outputs": [],
   "source": [
    "df['ts'] = pd.to_datetime(df.authored)"
   ]
  },
  {
   "cell_type": "markdown",
   "metadata": {},
   "source": [
    "## Feature Engineering\n",
    "\n",
    "We need to create some features to predict velocity."
   ]
  },
  {
   "cell_type": "code",
   "execution_count": 10,
   "metadata": {},
   "outputs": [
    {
     "data": {
      "text/plain": [
       "Index(['commit_hash', 'owner_name', 'project_name', 'file_id', 'modified_file',\n",
       "       'lines_added', 'lines_subtracted', 'name', 'email', 'authored', 'ts'],\n",
       "      dtype='object')"
      ]
     },
     "execution_count": 10,
     "metadata": {},
     "output_type": "execute_result"
    }
   ],
   "source": [
    "df.columns"
   ]
  },
  {
   "cell_type": "code",
   "execution_count": 21,
   "metadata": {},
   "outputs": [],
   "source": [
    "def num_authors(df, period: str):\n",
    "    \"\"\" Number of authors in a given time period. \"\"\"\n",
    "    per = df.ts.dt.to_period(period)\n",
    "    \n",
    "    cols = ['name','owner_name', 'project_name']\n",
    "    grp = [per, 'owner_name', 'project_name']\n",
    "    result = df[cols].groupby(grp).count()\n",
    "    return result"
   ]
  },
  {
   "cell_type": "code",
   "execution_count": 92,
   "metadata": {},
   "outputs": [],
   "source": [
    "def num_mentors(df, period:str, subperiod:str, k:int):\n",
    "    \"\"\" \n",
    "    Number of authors in a larger time period who have also\n",
    "    made commits in k number of smaller time periods. \n",
    "    \n",
    "    For example, number of authors in a year who have also \n",
    "    committed changes in each month of that year.\n",
    "    \"\"\"\n",
    "    subper = df.ts.dt.to_period(subperiod)\n",
    "    subcols = ['owner_name', 'project_name',\n",
    "               'name', 'email']\n",
    "    subgrp = [subper, 'owner_name', 'project_name', 'name', 'email']\n",
    "    ok = df[subcols].groupby(subgrp).count()\n",
    "    ok = ok.reset_index()\n",
    "    \n",
    "    if period == 'Y':\n",
    "        \n",
    "        ok['year'] = ok.ts.apply(lambda x: x.year)\n",
    "        cols = ['year', 'owner_name', 'project_name', 'name', 'email']\n",
    "        grp = ['year','owner_name','project_name', 'name']\n",
    "        ok = ok[cols].groupby(grp).count()\n",
    "        \n",
    "        ok = ok.reset_index()\n",
    "        ok = ok[['year', 'owner_name', 'project_name', 'email']]\n",
    "        ok.columns = ['year', 'owner_name', 'project_name', 'mentor_count']\n",
    "        ok = ok[ok.mentor_count >= k].groupby(['year', 'owner_name', 'project_name']).count()\n",
    "        result = ok.reset_index()\n",
    "        return result\n",
    "        \n",
    "    else:\n",
    "        raise Exception(\"Period '{}' not found\".format(period))\n",
    "    \n",
    "    return df\n"
   ]
  },
  {
   "cell_type": "code",
   "execution_count": 93,
   "metadata": {},
   "outputs": [],
   "source": [
    "#result = num_authors(df, 'M')\n",
    "#result.head()"
   ]
  },
  {
   "cell_type": "code",
   "execution_count": 98,
   "metadata": {},
   "outputs": [],
   "source": [
    "#hmm = num_mentors(df, 'Y', 'M', 6)"
   ]
  },
  {
   "cell_type": "code",
   "execution_count": null,
   "metadata": {},
   "outputs": [],
   "source": []
  },
  {
   "cell_type": "code",
   "execution_count": null,
   "metadata": {},
   "outputs": [],
   "source": []
  },
  {
   "cell_type": "code",
   "execution_count": null,
   "metadata": {},
   "outputs": [],
   "source": []
  },
  {
   "cell_type": "code",
   "execution_count": null,
   "metadata": {},
   "outputs": [],
   "source": []
  },
  {
   "cell_type": "code",
   "execution_count": null,
   "metadata": {},
   "outputs": [],
   "source": []
  }
 ],
 "metadata": {
  "kernelspec": {
   "display_name": "Python 3",
   "language": "python",
   "name": "python3"
  },
  "language_info": {
   "codemirror_mode": {
    "name": "ipython",
    "version": 3
   },
   "file_extension": ".py",
   "mimetype": "text/x-python",
   "name": "python",
   "nbconvert_exporter": "python",
   "pygments_lexer": "ipython3",
   "version": "3.6.8"
  }
 },
 "nbformat": 4,
 "nbformat_minor": 2
}
