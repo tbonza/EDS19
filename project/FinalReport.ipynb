{
 "cells": [
  {
   "cell_type": "markdown",
   "metadata": {},
   "source": [
    "# Summary\n",
    "\n",
    "Generating all the analysis I need for my final report.\n",
    "\n",
    "### Descriptives\n",
    "\n",
    "1. Show velocity converging to 0 for unhealthy repos vs. healthy repos\n",
    "1. Provide general overview of the data\n",
    "1. Speak to data processing\n",
    "1. Speak to data cleaning\n",
    "1. Speak to feature engineering\n",
    "\n",
    "### Predictives\n",
    "\n",
    "1. Correlation matrix with features (multicollinearity)\n",
    "1. Show forecasting algorithm (linear regression)\n",
    "1. Run and report several forecasts\n",
    "1. Check for autocorrelation, plot residuals"
   ]
  },
  {
   "cell_type": "markdown",
   "metadata": {},
   "source": [
    "# Dependencies"
   ]
  },
  {
   "cell_type": "code",
   "execution_count": 1,
   "metadata": {},
   "outputs": [
    {
     "name": "stderr",
     "output_type": "stream",
     "text": [
      "\n",
      "Attaching package: ‘dplyr’\n",
      "\n",
      "The following objects are masked from ‘package:stats’:\n",
      "\n",
      "    filter, lag\n",
      "\n",
      "The following objects are masked from ‘package:base’:\n",
      "\n",
      "    intersect, setdiff, setequal, union\n",
      "\n"
     ]
    }
   ],
   "source": [
    "library(dplyr)\n",
    "library(ggplot2)\n",
    "library(readr)\n",
    "library(stringr)"
   ]
  },
  {
   "cell_type": "markdown",
   "metadata": {},
   "source": [
    "# Load Data"
   ]
  },
  {
   "cell_type": "code",
   "execution_count": 2,
   "metadata": {},
   "outputs": [
    {
     "data": {
      "text/html": [
       "<ol class=list-inline>\n",
       "\t<li>'authors_prototype.csv'</li>\n",
       "\t<li>'commits_prototype.csv'</li>\n",
       "\t<li>'df_features_20190424.csv'</li>\n",
       "\t<li>'df_target_20190424.csv'</li>\n",
       "\t<li>'meta_prototype.csv'</li>\n",
       "</ol>\n"
      ],
      "text/latex": [
       "\\begin{enumerate*}\n",
       "\\item 'authors\\_prototype.csv'\n",
       "\\item 'commits\\_prototype.csv'\n",
       "\\item 'df\\_features\\_20190424.csv'\n",
       "\\item 'df\\_target\\_20190424.csv'\n",
       "\\item 'meta\\_prototype.csv'\n",
       "\\end{enumerate*}\n"
      ],
      "text/markdown": [
       "1. 'authors_prototype.csv'\n",
       "2. 'commits_prototype.csv'\n",
       "3. 'df_features_20190424.csv'\n",
       "4. 'df_target_20190424.csv'\n",
       "5. 'meta_prototype.csv'\n",
       "\n",
       "\n"
      ],
      "text/plain": [
       "[1] \"authors_prototype.csv\"    \"commits_prototype.csv\"   \n",
       "[3] \"df_features_20190424.csv\" \"df_target_20190424.csv\"  \n",
       "[5] \"meta_prototype.csv\"      "
      ]
     },
     "metadata": {},
     "output_type": "display_data"
    }
   ],
   "source": [
    "rdir <- \"~/code/rcompat/\"\n",
    "list.files(rdir)"
   ]
  },
  {
   "cell_type": "code",
   "execution_count": 3,
   "metadata": {},
   "outputs": [
    {
     "name": "stderr",
     "output_type": "stream",
     "text": [
      "Warning message:\n",
      "“Missing column names filled in: 'X1' [1]”Parsed with column specification:\n",
      "cols(\n",
      "  X1 = col_integer(),\n",
      "  commit_hash = col_character(),\n",
      "  name = col_character(),\n",
      "  email = col_character(),\n",
      "  authored = col_datetime(format = \"\")\n",
      ")\n"
     ]
    },
    {
     "data": {
      "text/html": [
       "<ol class=list-inline>\n",
       "\t<li>928779</li>\n",
       "\t<li>5</li>\n",
       "</ol>\n"
      ],
      "text/latex": [
       "\\begin{enumerate*}\n",
       "\\item 928779\n",
       "\\item 5\n",
       "\\end{enumerate*}\n"
      ],
      "text/markdown": [
       "1. 928779\n",
       "2. 5\n",
       "\n",
       "\n"
      ],
      "text/plain": [
       "[1] 928779      5"
      ]
     },
     "metadata": {},
     "output_type": "display_data"
    }
   ],
   "source": [
    "authors_prototype <- read_csv(paste0(rdir, 'authors_prototype.csv'))\n",
    "dim(authors_prototype)"
   ]
  },
  {
   "cell_type": "code",
   "execution_count": 4,
   "metadata": {},
   "outputs": [
    {
     "name": "stderr",
     "output_type": "stream",
     "text": [
      "Warning message:\n",
      "“Missing column names filled in: 'X1' [1]”Parsed with column specification:\n",
      "cols(\n",
      "  X1 = col_integer(),\n",
      "  file_id = col_integer(),\n",
      "  commit_hash = col_character(),\n",
      "  modified_file = col_character(),\n",
      "  lines_added = col_integer(),\n",
      "  lines_subtracted = col_integer()\n",
      ")\n"
     ]
    },
    {
     "data": {
      "text/html": [
       "<ol class=list-inline>\n",
       "\t<li>2327964</li>\n",
       "\t<li>6</li>\n",
       "</ol>\n"
      ],
      "text/latex": [
       "\\begin{enumerate*}\n",
       "\\item 2327964\n",
       "\\item 6\n",
       "\\end{enumerate*}\n"
      ],
      "text/markdown": [
       "1. 2327964\n",
       "2. 6\n",
       "\n",
       "\n"
      ],
      "text/plain": [
       "[1] 2327964       6"
      ]
     },
     "metadata": {},
     "output_type": "display_data"
    }
   ],
   "source": [
    "commits_prototype <- read_csv(paste0(rdir, 'commits_prototype.csv'))\n",
    "dim(commits_prototype)"
   ]
  },
  {
   "cell_type": "code",
   "execution_count": 5,
   "metadata": {},
   "outputs": [
    {
     "name": "stderr",
     "output_type": "stream",
     "text": [
      "Warning message:\n",
      "“Missing column names filled in: 'X1' [1]”Parsed with column specification:\n",
      "cols(\n",
      "  X1 = col_integer(),\n",
      "  commit_hash = col_character(),\n",
      "  owner_name = col_character(),\n",
      "  project_name = col_character()\n",
      ")\n"
     ]
    },
    {
     "data": {
      "text/html": [
       "<ol class=list-inline>\n",
       "\t<li>928779</li>\n",
       "\t<li>4</li>\n",
       "</ol>\n"
      ],
      "text/latex": [
       "\\begin{enumerate*}\n",
       "\\item 928779\n",
       "\\item 4\n",
       "\\end{enumerate*}\n"
      ],
      "text/markdown": [
       "1. 928779\n",
       "2. 4\n",
       "\n",
       "\n"
      ],
      "text/plain": [
       "[1] 928779      4"
      ]
     },
     "metadata": {},
     "output_type": "display_data"
    }
   ],
   "source": [
    "meta_prototype <- read_csv(paste0(rdir, 'meta_prototype.csv'))\n",
    "dim(meta_prototype)"
   ]
  },
  {
   "cell_type": "code",
   "execution_count": 6,
   "metadata": {},
   "outputs": [
    {
     "name": "stderr",
     "output_type": "stream",
     "text": [
      "Warning message:\n",
      "“Missing column names filled in: 'X1' [1]”Parsed with column specification:\n",
      "cols(\n",
      "  X1 = col_integer(),\n",
      "  ts = col_integer(),\n",
      "  owner_name = col_character(),\n",
      "  project_name = col_character(),\n",
      "  lines_added = col_integer(),\n",
      "  lines_deleted = col_integer(),\n",
      "  velocity = col_integer()\n",
      ")\n"
     ]
    },
    {
     "data": {
      "text/html": [
       "<ol class=list-inline>\n",
       "\t<li>14650</li>\n",
       "\t<li>7</li>\n",
       "</ol>\n"
      ],
      "text/latex": [
       "\\begin{enumerate*}\n",
       "\\item 14650\n",
       "\\item 7\n",
       "\\end{enumerate*}\n"
      ],
      "text/markdown": [
       "1. 14650\n",
       "2. 7\n",
       "\n",
       "\n"
      ],
      "text/plain": [
       "[1] 14650     7"
      ]
     },
     "metadata": {},
     "output_type": "display_data"
    }
   ],
   "source": [
    "df_target <- read_csv(paste0(rdir, 'df_target_20190424.csv'))\n",
    "dim(df_target)"
   ]
  },
  {
   "cell_type": "code",
   "execution_count": 7,
   "metadata": {},
   "outputs": [
    {
     "name": "stderr",
     "output_type": "stream",
     "text": [
      "Warning message:\n",
      "“Missing column names filled in: 'X1' [1]”Parsed with column specification:\n",
      "cols(\n",
      "  X1 = col_integer(),\n",
      "  index = col_integer(),\n",
      "  ts = col_integer(),\n",
      "  owner_name = col_character(),\n",
      "  project_name = col_character(),\n",
      "  num_authors = col_integer(),\n",
      "  org_name = col_integer(),\n",
      "  mentor_count = col_double()\n",
      ")\n"
     ]
    },
    {
     "data": {
      "text/html": [
       "<ol class=list-inline>\n",
       "\t<li>14650</li>\n",
       "\t<li>8</li>\n",
       "</ol>\n"
      ],
      "text/latex": [
       "\\begin{enumerate*}\n",
       "\\item 14650\n",
       "\\item 8\n",
       "\\end{enumerate*}\n"
      ],
      "text/markdown": [
       "1. 14650\n",
       "2. 8\n",
       "\n",
       "\n"
      ],
      "text/plain": [
       "[1] 14650     8"
      ]
     },
     "metadata": {},
     "output_type": "display_data"
    }
   ],
   "source": [
    "df_features <- read_csv(paste0(rdir, 'df_features_20190424.csv'))\n",
    "dim(df_features)"
   ]
  },
  {
   "cell_type": "markdown",
   "metadata": {},
   "source": [
    "# Data Preprocessing\n",
    "\n",
    "We need to create a working table for the prototype data."
   ]
  },
  {
   "cell_type": "code",
   "execution_count": 8,
   "metadata": {},
   "outputs": [
    {
     "data": {
      "text/html": [
       "<ol class=list-inline>\n",
       "\t<li>928779</li>\n",
       "\t<li>6</li>\n",
       "</ol>\n"
      ],
      "text/latex": [
       "\\begin{enumerate*}\n",
       "\\item 928779\n",
       "\\item 6\n",
       "\\end{enumerate*}\n"
      ],
      "text/markdown": [
       "1. 928779\n",
       "2. 6\n",
       "\n",
       "\n"
      ],
      "text/plain": [
       "[1] 928779      6"
      ]
     },
     "metadata": {},
     "output_type": "display_data"
    }
   ],
   "source": [
    "# one to one join\n",
    "\n",
    "df <- meta_prototype %>% select(-X1) %>%\n",
    "    inner_join(authors_prototype %>% select(-X1), by=c('commit_hash' = 'commit_hash'))\n",
    "\n",
    "\n",
    "dim(df)"
   ]
  },
  {
   "cell_type": "code",
   "execution_count": 9,
   "metadata": {},
   "outputs": [
    {
     "data": {
      "text/html": [
       "TRUE"
      ],
      "text/latex": [
       "TRUE"
      ],
      "text/markdown": [
       "TRUE"
      ],
      "text/plain": [
       "[1] TRUE"
      ]
     },
     "metadata": {},
     "output_type": "display_data"
    }
   ],
   "source": [
    "# one to many join where meta_info without commits info is removed with right_join\n",
    "\n",
    "df <- df %>%  \n",
    "        right_join(commits_prototype %>% select(-X1), \n",
    "                   by=c('commit_hash' = 'commit_hash'))\n",
    "\n",
    "dim(df)[1] == dim(commits_prototype)[1] # check dimensions"
   ]
  },
  {
   "cell_type": "markdown",
   "metadata": {},
   "source": [
    "# Descriptives\n",
    "\n",
    "Generate descriptive stats and figures for report and presentation."
   ]
  },
  {
   "cell_type": "markdown",
   "metadata": {},
   "source": [
    "## Provide general overview of the data"
   ]
  },
  {
   "cell_type": "code",
   "execution_count": 10,
   "metadata": {},
   "outputs": [],
   "source": [
    "projects <- df_features %>% select(owner_name, project_name) %>% unique()"
   ]
  },
  {
   "cell_type": "code",
   "execution_count": 11,
   "metadata": {},
   "outputs": [
    {
     "data": {
      "text/html": [
       "<table>\n",
       "<thead><tr><th scope=col>n</th></tr></thead>\n",
       "<tbody>\n",
       "\t<tr><td>2869</td></tr>\n",
       "</tbody>\n",
       "</table>\n"
      ],
      "text/latex": [
       "\\begin{tabular}{r|l}\n",
       " n\\\\\n",
       "\\hline\n",
       "\t 2869\\\\\n",
       "\\end{tabular}\n"
      ],
      "text/markdown": [
       "\n",
       "n | \n",
       "|---|\n",
       "| 2869 | \n",
       "\n",
       "\n"
      ],
      "text/plain": [
       "  n   \n",
       "1 2869"
      ]
     },
     "metadata": {},
     "output_type": "display_data"
    }
   ],
   "source": [
    "# 2019-04-24 14:11:45,170 INFO Completed 2869 successes, 58 failures\n",
    "\n",
    "projects %>% count()"
   ]
  },
  {
   "cell_type": "code",
   "execution_count": 12,
   "metadata": {},
   "outputs": [
    {
     "name": "stderr",
     "output_type": "stream",
     "text": [
      "Saving 7 x 7 in image\n"
     ]
    },
    {
     "data": {
      "image/png": "[encoded data removed]",
      "text/plain": [
       "plot without title"
      ]
     },
     "metadata": {},
     "output_type": "display_data"
    }
   ],
   "source": [
    "# Projects by organization\n",
    "\n",
    "orgs <- projects %>% group_by(owner_name) %>% count() %>% \n",
    "            ungroup() %>%\n",
    "            mutate(owner_name = str_to_title(owner_name))\n",
    "f1 <- ggplot(orgs, aes(owner_name, n)) + geom_col() + \n",
    "        geom_label(aes(label=n)) +\n",
    "        labs(title='Total Number of Projects per Organization in Sample',\n",
    "             y='Number of Projects',\n",
    "             x='Organizations in Sample')\n",
    "ggsave('imgs/f1.png')\n",
    "f1"
   ]
  },
  {
   "cell_type": "markdown",
   "metadata": {},
   "source": [
    "### Show velocity by organization $\\downarrow$"
   ]
  },
  {
   "cell_type": "code",
   "execution_count": 17,
   "metadata": {},
   "outputs": [
    {
     "data": {
      "text/html": [
       "<ol class=list-inline>\n",
       "\t<li>1515</li>\n",
       "\t<li>8</li>\n",
       "</ol>\n"
      ],
      "text/latex": [
       "\\begin{enumerate*}\n",
       "\\item 1515\n",
       "\\item 8\n",
       "\\end{enumerate*}\n"
      ],
      "text/markdown": [
       "1. 1515\n",
       "2. 8\n",
       "\n",
       "\n"
      ],
      "text/plain": [
       "[1] 1515    8"
      ]
     },
     "metadata": {},
     "output_type": "display_data"
    }
   ],
   "source": [
    "minimal_projs <- df_target %>% filter(ts == 2018) %>% mutate(minimal =  velocity > -100 & velocity <= 100)\n",
    "dim(minimal_projs)"
   ]
  },
  {
   "cell_type": "code",
   "execution_count": 18,
   "metadata": {},
   "outputs": [
    {
     "data": {
      "text/html": [
       "<ol class=list-inline>\n",
       "\t<li>2869</li>\n",
       "\t<li>2</li>\n",
       "</ol>\n"
      ],
      "text/latex": [
       "\\begin{enumerate*}\n",
       "\\item 2869\n",
       "\\item 2\n",
       "\\end{enumerate*}\n"
      ],
      "text/markdown": [
       "1. 2869\n",
       "2. 2\n",
       "\n",
       "\n"
      ],
      "text/plain": [
       "[1] 2869    2"
      ]
     },
     "metadata": {},
     "output_type": "display_data"
    }
   ],
   "source": [
    "all_projs <- df_target %>% select(owner_name, project_name) %>% unique()\n",
    "dim(all_projs)"
   ]
  },
  {
   "cell_type": "code",
   "execution_count": 19,
   "metadata": {},
   "outputs": [
    {
     "data": {
      "text/html": [
       "TRUE"
      ],
      "text/latex": [
       "TRUE"
      ],
      "text/markdown": [
       "TRUE"
      ],
      "text/plain": [
       "[1] TRUE"
      ]
     },
     "metadata": {},
     "output_type": "display_data"
    }
   ],
   "source": [
    "full_list <- minimal_projs %>% \n",
    "                select(-X1) %>% \n",
    "                full_join(all_projs, \n",
    "                          by=c(\"owner_name\" = \"owner_name\", \"project_name\" = \"project_name\"))\n",
    "\n",
    "dim(full_list)[1] == dim(all_projs)[1]"
   ]
  },
  {
   "cell_type": "code",
   "execution_count": 20,
   "metadata": {},
   "outputs": [
    {
     "data": {
      "text/plain": [
       "   Mode   FALSE    TRUE    NA's \n",
       "logical    1095     420    1354 "
      ]
     },
     "metadata": {},
     "output_type": "display_data"
    }
   ],
   "source": [
    "summary(full_list$minimal)"
   ]
  },
  {
   "cell_type": "code",
   "execution_count": 22,
   "metadata": {},
   "outputs": [
    {
     "data": {
      "text/plain": [
       "   Mode   FALSE    TRUE \n",
       "logical    1095    1774 "
      ]
     },
     "metadata": {},
     "output_type": "display_data"
    }
   ],
   "source": [
    "# Get all projects in 2018 irrespective of commits present\n",
    "\n",
    "full_imp_list <- full_list %>%\n",
    "                mutate(\n",
    "                    ts = ifelse(is.na(ts), 2018, ts),\n",
    "                    minimal = ifelse(is.na(minimal), TRUE, minimal),\n",
    "                    lines_added = ifelse(is.na(lines_added), 0, lines_added),\n",
    "                    lines_deleted = ifelse(is.na(lines_deleted), 0, lines_deleted),\n",
    "                    velocity = ifelse(is.na(velocity), 0, velocity)\n",
    "                )\n",
    "summary(full_imp_list$minimal)"
   ]
  },
  {
   "cell_type": "code",
   "execution_count": 23,
   "metadata": {},
   "outputs": [
    {
     "data": {
      "text/html": [
       "<table>\n",
       "<thead><tr><th scope=col>owner_name</th><th scope=col>n</th><th scope=col>dead</th><th scope=col>fdead</th></tr></thead>\n",
       "<tbody>\n",
       "\t<tr><td>Apache     </td><td>788        </td><td>423        </td><td>(43.7,57.2]</td></tr>\n",
       "\t<tr><td>Edx        </td><td>157        </td><td>109        </td><td>(57.2,70.8]</td></tr>\n",
       "\t<tr><td>Facebook   </td><td>235        </td><td>146        </td><td>(57.2,70.8]</td></tr>\n",
       "\t<tr><td>Google     </td><td>790        </td><td>559        </td><td>(57.2,70.8]</td></tr>\n",
       "\t<tr><td>Microsoft  </td><td>893        </td><td>536        </td><td>(57.2,70.8]</td></tr>\n",
       "\t<tr><td>Tensorflow </td><td>  6        </td><td>  1        </td><td>(16.6,30.2]</td></tr>\n",
       "</tbody>\n",
       "</table>\n"
      ],
      "text/latex": [
       "\\begin{tabular}{r|llll}\n",
       " owner\\_name & n & dead & fdead\\\\\n",
       "\\hline\n",
       "\t Apache        & 788           & 423           & (43.7,57.2{]}\\\\\n",
       "\t Edx           & 157           & 109           & (57.2,70.8{]}\\\\\n",
       "\t Facebook      & 235           & 146           & (57.2,70.8{]}\\\\\n",
       "\t Google        & 790           & 559           & (57.2,70.8{]}\\\\\n",
       "\t Microsoft     & 893           & 536           & (57.2,70.8{]}\\\\\n",
       "\t Tensorflow    &   6           &   1           & (16.6,30.2{]}\\\\\n",
       "\\end{tabular}\n"
      ],
      "text/markdown": [
       "\n",
       "owner_name | n | dead | fdead | \n",
       "|---|---|---|---|---|---|\n",
       "| Apache      | 788         | 423         | (43.7,57.2] | \n",
       "| Edx         | 157         | 109         | (57.2,70.8] | \n",
       "| Facebook    | 235         | 146         | (57.2,70.8] | \n",
       "| Google      | 790         | 559         | (57.2,70.8] | \n",
       "| Microsoft   | 893         | 536         | (57.2,70.8] | \n",
       "| Tensorflow  |   6         |   1         | (16.6,30.2] | \n",
       "\n",
       "\n"
      ],
      "text/plain": [
       "  owner_name n   dead fdead      \n",
       "1 Apache     788 423  (43.7,57.2]\n",
       "2 Edx        157 109  (57.2,70.8]\n",
       "3 Facebook   235 146  (57.2,70.8]\n",
       "4 Google     790 559  (57.2,70.8]\n",
       "5 Microsoft  893 536  (57.2,70.8]\n",
       "6 Tensorflow   6   1  (16.6,30.2]"
      ]
     },
     "metadata": {},
     "output_type": "display_data"
    }
   ],
   "source": [
    "orgmove <- full_imp_list %>% \n",
    "            group_by(owner_name) %>% \n",
    "            summarize(n = n(), dead = sum(minimal)) %>%\n",
    "            ungroup() %>%\n",
    "            mutate(fdead = cut(dead/n * 100, breaks=4),\n",
    "                  owner_name = str_to_title(owner_name))\n",
    "\n",
    "head(orgmove)"
   ]
  },
  {
   "cell_type": "code",
   "execution_count": 26,
   "metadata": {},
   "outputs": [
    {
     "name": "stderr",
     "output_type": "stream",
     "text": [
      "Saving 7 x 7 in image\n"
     ]
    },
    {
     "data": {
      "image/png": "[encoded data removed]",
      "text/plain": [
       "plot without title"
      ]
     },
     "metadata": {},
     "output_type": "display_data"
    }
   ],
   "source": [
    "f2 <- ggplot(orgmove, aes(owner_name, n, fill=fdead)) + geom_col() + \n",
    "        geom_label(aes(label=n), fill='white') +\n",
    "        labs(title='Number of Healthy Projects per Organization in 2018 Sample',\n",
    "             y='Number of Projects',\n",
    "             x='Organizations in Sample',\n",
    "             fill='% Velocity within +/- 100')\n",
    "ggsave('imgs/f2.png')\n",
    "f2"
   ]
  },
  {
   "cell_type": "markdown",
   "metadata": {},
   "source": [
    "Figure 2 seems like a nice idea but too much information for the audience initially.\n",
    "Let's show something similar at the end once we've established some metrics. This\n",
    "should actually go at the end."
   ]
  },
  {
   "cell_type": "markdown",
   "metadata": {},
   "source": [
    "## Show velocity converging to 0 for unhealthy repos vs. healthy repos\n",
    "\n",
    "I established baseline behavior by reviewing well known and Apache open \n",
    "source projects to see if I could find any patterns."
   ]
  },
  {
   "cell_type": "code",
   "execution_count": null,
   "metadata": {},
   "outputs": [],
   "source": []
  },
  {
   "cell_type": "code",
   "execution_count": null,
   "metadata": {},
   "outputs": [],
   "source": []
  },
  {
   "cell_type": "code",
   "execution_count": null,
   "metadata": {},
   "outputs": [],
   "source": []
  },
  {
   "cell_type": "code",
   "execution_count": null,
   "metadata": {},
   "outputs": [],
   "source": []
  }
 ],
 "metadata": {
  "kernelspec": {
   "display_name": "R",
   "language": "R",
   "name": "ir"
  },
  "language_info": {
   "codemirror_mode": "r",
   "file_extension": ".r",
   "mimetype": "text/x-r-source",
   "name": "R",
   "pygments_lexer": "r",
   "version": "3.5.3"
  }
 },
 "nbformat": 4,
 "nbformat_minor": 2
}
