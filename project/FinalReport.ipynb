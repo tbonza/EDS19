{
 "cells": [
  {
   "cell_type": "markdown",
   "metadata": {},
   "source": [
    "# Summary\n",
    "\n",
    "Generating all the analysis I need for my final report.\n",
    "\n",
    "### Descriptives\n",
    "\n",
    "1. Show velocity converging to 0 for unhealthy repos vs. healthy repos\n",
    "1. Provide general overview of the data\n",
    "1. Speak to data processing\n",
    "1. Speak to data cleaning\n",
    "1. Speak to feature engineering\n",
    "\n",
    "### Predictives\n",
    "\n",
    "1. Correlation matrix with features (multicollinearity)\n",
    "1. Show forecasting algorithm (linear regression)\n",
    "1. Run and report several forecasts\n",
    "1. Check for autocorrelation, plot residuals"
   ]
  },
  {
   "cell_type": "markdown",
   "metadata": {},
   "source": [
    "# Dependencies"
   ]
  },
  {
   "cell_type": "code",
   "execution_count": 5,
   "metadata": {},
   "outputs": [],
   "source": [
    "library(dplyr)\n",
    "library(readr)"
   ]
  },
  {
   "cell_type": "markdown",
   "metadata": {},
   "source": [
    "# Load Data"
   ]
  },
  {
   "cell_type": "code",
   "execution_count": 6,
   "metadata": {},
   "outputs": [
    {
     "data": {
      "text/html": [
       "<ol class=list-inline>\n",
       "\t<li>'authors_prototype.csv'</li>\n",
       "\t<li>'commits_prototype.csv'</li>\n",
       "\t<li>'df_features_20190424.csv'</li>\n",
       "\t<li>'df_target_20190424.csv'</li>\n",
       "\t<li>'meta_prototype.csv'</li>\n",
       "</ol>\n"
      ],
      "text/latex": [
       "\\begin{enumerate*}\n",
       "\\item 'authors\\_prototype.csv'\n",
       "\\item 'commits\\_prototype.csv'\n",
       "\\item 'df\\_features\\_20190424.csv'\n",
       "\\item 'df\\_target\\_20190424.csv'\n",
       "\\item 'meta\\_prototype.csv'\n",
       "\\end{enumerate*}\n"
      ],
      "text/markdown": [
       "1. 'authors_prototype.csv'\n",
       "2. 'commits_prototype.csv'\n",
       "3. 'df_features_20190424.csv'\n",
       "4. 'df_target_20190424.csv'\n",
       "5. 'meta_prototype.csv'\n",
       "\n",
       "\n"
      ],
      "text/plain": [
       "[1] \"authors_prototype.csv\"    \"commits_prototype.csv\"   \n",
       "[3] \"df_features_20190424.csv\" \"df_target_20190424.csv\"  \n",
       "[5] \"meta_prototype.csv\"      "
      ]
     },
     "metadata": {},
     "output_type": "display_data"
    }
   ],
   "source": [
    "rdir <- \"~/code/rcompat/\"\n",
    "list.files(rdir)"
   ]
  },
  {
   "cell_type": "code",
   "execution_count": 17,
   "metadata": {},
   "outputs": [
    {
     "name": "stderr",
     "output_type": "stream",
     "text": [
      "Warning message:\n",
      "“Missing column names filled in: 'X1' [1]”Parsed with column specification:\n",
      "cols(\n",
      "  X1 = col_integer(),\n",
      "  commit_hash = col_character(),\n",
      "  name = col_character(),\n",
      "  email = col_character(),\n",
      "  authored = col_datetime(format = \"\")\n",
      ")\n"
     ]
    },
    {
     "data": {
      "text/html": [
       "<ol class=list-inline>\n",
       "\t<li>928779</li>\n",
       "\t<li>5</li>\n",
       "</ol>\n"
      ],
      "text/latex": [
       "\\begin{enumerate*}\n",
       "\\item 928779\n",
       "\\item 5\n",
       "\\end{enumerate*}\n"
      ],
      "text/markdown": [
       "1. 928779\n",
       "2. 5\n",
       "\n",
       "\n"
      ],
      "text/plain": [
       "[1] 928779      5"
      ]
     },
     "metadata": {},
     "output_type": "display_data"
    }
   ],
   "source": [
    "authors_prototype <- read_csv(paste0(rdir, 'authors_prototype.csv'))\n",
    "dim(authors_prototype)"
   ]
  },
  {
   "cell_type": "code",
   "execution_count": 16,
   "metadata": {},
   "outputs": [
    {
     "name": "stderr",
     "output_type": "stream",
     "text": [
      "Warning message:\n",
      "“Missing column names filled in: 'X1' [1]”Parsed with column specification:\n",
      "cols(\n",
      "  X1 = col_integer(),\n",
      "  file_id = col_integer(),\n",
      "  commit_hash = col_character(),\n",
      "  modified_file = col_character(),\n",
      "  lines_added = col_integer(),\n",
      "  lines_subtracted = col_integer()\n",
      ")\n"
     ]
    },
    {
     "data": {
      "text/html": [
       "<ol class=list-inline>\n",
       "\t<li>2327964</li>\n",
       "\t<li>6</li>\n",
       "</ol>\n"
      ],
      "text/latex": [
       "\\begin{enumerate*}\n",
       "\\item 2327964\n",
       "\\item 6\n",
       "\\end{enumerate*}\n"
      ],
      "text/markdown": [
       "1. 2327964\n",
       "2. 6\n",
       "\n",
       "\n"
      ],
      "text/plain": [
       "[1] 2327964       6"
      ]
     },
     "metadata": {},
     "output_type": "display_data"
    }
   ],
   "source": [
    "commits_prototype <- read_csv(paste0(rdir, 'commits_prototype.csv'))\n",
    "dim(commits_prototype)"
   ]
  },
  {
   "cell_type": "code",
   "execution_count": 15,
   "metadata": {},
   "outputs": [
    {
     "name": "stderr",
     "output_type": "stream",
     "text": [
      "Warning message:\n",
      "“Missing column names filled in: 'X1' [1]”Parsed with column specification:\n",
      "cols(\n",
      "  X1 = col_integer(),\n",
      "  commit_hash = col_character(),\n",
      "  owner_name = col_character(),\n",
      "  project_name = col_character()\n",
      ")\n"
     ]
    },
    {
     "data": {
      "text/html": [
       "<ol class=list-inline>\n",
       "\t<li>928779</li>\n",
       "\t<li>4</li>\n",
       "</ol>\n"
      ],
      "text/latex": [
       "\\begin{enumerate*}\n",
       "\\item 928779\n",
       "\\item 4\n",
       "\\end{enumerate*}\n"
      ],
      "text/markdown": [
       "1. 928779\n",
       "2. 4\n",
       "\n",
       "\n"
      ],
      "text/plain": [
       "[1] 928779      4"
      ]
     },
     "metadata": {},
     "output_type": "display_data"
    }
   ],
   "source": [
    "meta_prototype <- read_csv(paste0(rdir, 'meta_prototype.csv'))\n",
    "dim(meta_prototype)"
   ]
  },
  {
   "cell_type": "code",
   "execution_count": 14,
   "metadata": {},
   "outputs": [
    {
     "name": "stderr",
     "output_type": "stream",
     "text": [
      "Warning message:\n",
      "“Missing column names filled in: 'X1' [1]”Parsed with column specification:\n",
      "cols(\n",
      "  X1 = col_integer(),\n",
      "  ts = col_integer(),\n",
      "  owner_name = col_character(),\n",
      "  project_name = col_character(),\n",
      "  lines_added = col_integer(),\n",
      "  lines_deleted = col_integer(),\n",
      "  velocity = col_integer()\n",
      ")\n"
     ]
    },
    {
     "data": {
      "text/html": [
       "<ol class=list-inline>\n",
       "\t<li>78</li>\n",
       "\t<li>7</li>\n",
       "</ol>\n"
      ],
      "text/latex": [
       "\\begin{enumerate*}\n",
       "\\item 78\n",
       "\\item 7\n",
       "\\end{enumerate*}\n"
      ],
      "text/markdown": [
       "1. 78\n",
       "2. 7\n",
       "\n",
       "\n"
      ],
      "text/plain": [
       "[1] 78  7"
      ]
     },
     "metadata": {},
     "output_type": "display_data"
    }
   ],
   "source": [
    "df_target <- read_csv(paste0(rdir, 'df_target_20190424.csv'))\n",
    "dim(df_target)"
   ]
  },
  {
   "cell_type": "code",
   "execution_count": 13,
   "metadata": {},
   "outputs": [
    {
     "name": "stderr",
     "output_type": "stream",
     "text": [
      "Warning message:\n",
      "“Missing column names filled in: 'X1' [1]”Parsed with column specification:\n",
      "cols(\n",
      "  X1 = col_integer(),\n",
      "  index = col_integer(),\n",
      "  ts = col_integer(),\n",
      "  owner_name = col_character(),\n",
      "  project_name = col_character(),\n",
      "  num_authors = col_integer(),\n",
      "  org_name = col_integer(),\n",
      "  mentor_count = col_double()\n",
      ")\n"
     ]
    },
    {
     "data": {
      "text/html": [
       "<ol class=list-inline>\n",
       "\t<li>78</li>\n",
       "\t<li>8</li>\n",
       "</ol>\n"
      ],
      "text/latex": [
       "\\begin{enumerate*}\n",
       "\\item 78\n",
       "\\item 8\n",
       "\\end{enumerate*}\n"
      ],
      "text/markdown": [
       "1. 78\n",
       "2. 8\n",
       "\n",
       "\n"
      ],
      "text/plain": [
       "[1] 78  8"
      ]
     },
     "metadata": {},
     "output_type": "display_data"
    }
   ],
   "source": [
    "df_features <- read_csv(paste0(rdir, 'df_features_20190424.csv'))\n",
    "dim(df_features)"
   ]
  },
  {
   "cell_type": "markdown",
   "metadata": {},
   "source": [
    "# Descriptives\n",
    "\n",
    "Generate descriptive stats and figures for report and presentation."
   ]
  },
  {
   "cell_type": "code",
   "execution_count": null,
   "metadata": {},
   "outputs": [],
   "source": []
  },
  {
   "cell_type": "code",
   "execution_count": null,
   "metadata": {},
   "outputs": [],
   "source": []
  },
  {
   "cell_type": "code",
   "execution_count": null,
   "metadata": {},
   "outputs": [],
   "source": []
  },
  {
   "cell_type": "code",
   "execution_count": null,
   "metadata": {},
   "outputs": [],
   "source": []
  }
 ],
 "metadata": {
  "kernelspec": {
   "display_name": "R",
   "language": "R",
   "name": "ir"
  },
  "language_info": {
   "codemirror_mode": "r",
   "file_extension": ".r",
   "mimetype": "text/x-r-source",
   "name": "R",
   "pygments_lexer": "r",
   "version": "3.5.3"
  }
 },
 "nbformat": 4,
 "nbformat_minor": 2
}
