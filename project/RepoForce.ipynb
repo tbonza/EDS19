{
 "cells": [
  {
   "cell_type": "markdown",
   "metadata": {},
   "source": [
    "# Summary\n",
    "\n",
    "$F = ma$\n",
    "\n",
    "Compute $m$, $a$, then determine the amount of\n",
    "force $F$ in a healthy repo at a given time. The ideal\n",
    "theory here is that acceleration will start decreasing as\n",
    "a project is about to die."
   ]
  },
  {
   "cell_type": "code",
   "execution_count": 1,
   "metadata": {},
   "outputs": [],
   "source": [
    "from collections import defaultdict\n",
    "import os\n",
    "from urllib.parse import urljoin\n",
    "\n",
    "import matplotlib.pyplot as plt\n",
    "import numpy as np\n",
    "import pandas as pd\n",
    "from okra.playbooks import local_persistance\n",
    "from okra.models import (Meta, Author, Contrib, CommitFile, Info)\n",
    "from okra.models import DataAccessLayer"
   ]
  },
  {
   "cell_type": "code",
   "execution_count": 2,
   "metadata": {},
   "outputs": [
    {
     "name": "stderr",
     "output_type": "stream",
     "text": [
      "Issue with row 0, repo '/Users/tylerbrown/code/torvalds/linux'\n",
      "Issue with row 0, repo '/Users/tylerbrown/code/docker/docker-ce'\n",
      "Issue with row 0, repo '/Users/tylerbrown/code/apache/attic-lucy'\n",
      "Issue with row 0, repo '/Users/tylerbrown/code/apache/attic-wink'\n",
      "Issue with row 0, repo '/Users/tylerbrown/code/apache/spark'\n",
      "Issue with row 0, repo '/Users/tylerbrown/code/apache/lucene-solr'\n"
     ]
    }
   ],
   "source": [
    "DATA = \"/Users/tylerbrown/code/\"\n",
    "repos = [\n",
    "    \"torvalds/linux\",\n",
    "    \"docker/docker-ce\",\n",
    "    'apache/attic-lucy',\n",
    "    'apache/attic-wink',\n",
    "    'apache/spark',\n",
    "    'apache/lucene-solr'\n",
    "]\n",
    "\n",
    "for repo_name in repos:\n",
    "    local_persistance(repo_name, DATA)"
   ]
  },
  {
   "cell_type": "code",
   "execution_count": 3,
   "metadata": {},
   "outputs": [],
   "source": [
    "def date_transform(datedict):\n",
    "    these = {}\n",
    "    for key in datedict.keys():\n",
    "        item = datedict[key]\n",
    "        new_key = str(item.year) + '-' + str(item.dayofyear)\n",
    "        these[new_key] = item\n",
    "    return these\n",
    "\n",
    "def author_transform(autdict):\n",
    "    items = defaultdict(list)\n",
    "    for idx in range(len(autdict['commit_hash'])):\n",
    "        \n",
    "        new_key = str(autdict['date_authored'][idx].year) + '-' + str(autdict['date_authored'][idx].dayofyear)\n",
    "        new_item = (autdict['author_email'][idx], autdict['author_name'][idx], \n",
    "                    autdict['commit_hash'][idx], autdict['date_authored'][idx], \n",
    "                    autdict['lines_added'][idx], autdict['lines_deleted'][idx])\n",
    "        items[new_key].append(new_item)\n",
    "        \n",
    "    return items\n",
    "\n",
    "def date_join(autht, datet):\n",
    "    \n",
    "    rows = []\n",
    "    r = {\n",
    "        'date_key': np.NaN,\n",
    "        'author_email': np.NaN,\n",
    "        'author_name': np.NaN,\n",
    "        'commit_hash': np.NaN,\n",
    "        'date_authored': np.NaN,\n",
    "        'lines_added': np.NaN,\n",
    "        'lines_deleted': np.NaN,\n",
    "    }\n",
    "\n",
    "    for date_key in datet.keys():\n",
    "        \n",
    "        if date_key in autht:\n",
    "            \n",
    "            for i in autht[date_key]:\n",
    "                \n",
    "                rd = r.copy()\n",
    "                rd['date_key'] = date_key\n",
    "                rd['author_email'] = i[0]\n",
    "                rd['author_name'] = i[1]\n",
    "                rd['commit_hash'] = i[2]\n",
    "                rd['date_authored'] = i[3]\n",
    "                rd['lines_added'] = i[4]\n",
    "                rd['lines_deleted'] = i[5]\n",
    "                \n",
    "                rows.append(rd)\n",
    "    return rows"
   ]
  },
  {
   "cell_type": "code",
   "execution_count": 4,
   "metadata": {},
   "outputs": [
    {
     "data": {
      "text/plain": [
       "{'torvalds/linux': 'torvalds__REPODB__linux.db',\n",
       " 'docker/docker-ce': 'docker__REPODB__docker-ce.db',\n",
       " 'apache/attic-lucy': 'apache__REPODB__attic-lucy.db',\n",
       " 'apache/attic-wink': 'apache__REPODB__attic-wink.db',\n",
       " 'apache/spark': 'apache__REPODB__spark.db',\n",
       " 'apache/lucene-solr': 'apache__REPODB__lucene-solr.db'}"
      ]
     },
     "execution_count": 4,
     "metadata": {},
     "output_type": "execute_result"
    }
   ],
   "source": [
    "repodbs = {i : i.replace(\"/\", \"__REPODB__\") + \".db\" for i in repos}\n",
    "repodbs"
   ]
  },
  {
   "cell_type": "code",
   "execution_count": 5,
   "metadata": {},
   "outputs": [],
   "source": [
    "conn_string = \"sqlite:///\" + urljoin(DATA, repodbs['torvalds/linux'])"
   ]
  },
  {
   "cell_type": "code",
   "execution_count": 6,
   "metadata": {},
   "outputs": [],
   "source": [
    "dal = DataAccessLayer(conn_string)\n",
    "dal.connect()\n",
    "dal.session = dal.Session()"
   ]
  },
  {
   "cell_type": "code",
   "execution_count": 7,
   "metadata": {},
   "outputs": [
    {
     "name": "stdout",
     "output_type": "stream",
     "text": [
      "(1824726, 6)\n"
     ]
    }
   ],
   "source": [
    "# let's do this by author per file now\n",
    "\n",
    "q5 = dal.session.query(\n",
    "    Meta.commit_hash, Author.authored, Author.name, Author.email,\n",
    "    CommitFile.lines_added, CommitFile.lines_deleted\n",
    ").join(Author).join(CommitFile)\n",
    "\n",
    "items = []\n",
    "for item in q5.all():\n",
    "    r = {\n",
    "        \"commit_hash\": item.commit_hash,\n",
    "        \"date_authored\": item.authored,\n",
    "        \"author_name\": item.name,\n",
    "        \"author_email\": item.email,\n",
    "        \"lines_added\": item.lines_added,\n",
    "        \"lines_deleted\": item.lines_deleted,\n",
    "    }\n",
    "    items.append(r)\n",
    "autdf = pd.DataFrame(items)\n",
    "print(autdf.shape)"
   ]
  },
  {
   "cell_type": "markdown",
   "metadata": {},
   "source": [
    "## Mass\n",
    "\n",
    "Compute the repo mass over time"
   ]
  },
  {
   "cell_type": "code",
   "execution_count": 26,
   "metadata": {},
   "outputs": [],
   "source": [
    "def current_mass(i, df):\n",
    "    if i > 0:\n",
    "        x = df.lines_added.iloc[i] - df.lines_deleted.iloc[i] + df.current_mass.iloc[i-1]\n",
    "        return x\n",
    "    else:\n",
    "        return 0\n",
    "\n",
    "def compute_mass(df):\n",
    "    mass = []\n",
    "    for i in range(df.shape[0]):\n",
    "        mass.append(current_mass(i, df))\n",
    "    return np.array(mass)\n",
    "    "
   ]
  },
  {
   "cell_type": "code",
   "execution_count": 54,
   "metadata": {},
   "outputs": [],
   "source": [
    "autdf['current_mass'] = 0"
   ]
  },
  {
   "cell_type": "code",
   "execution_count": 55,
   "metadata": {},
   "outputs": [],
   "source": [
    "autdf = autdf.sort_values(by='date_authored')"
   ]
  },
  {
   "cell_type": "code",
   "execution_count": 56,
   "metadata": {},
   "outputs": [],
   "source": [
    "m = autdf[['lines_added', 'lines_deleted', 'current_mass']].values"
   ]
  },
  {
   "cell_type": "code",
   "execution_count": 57,
   "metadata": {},
   "outputs": [],
   "source": [
    "md = (m[:,0] - m[:,1])\n",
    "for i in range(m[:,2].shape[0]):\n",
    "    \n",
    "    if i > 0:\n",
    "        m[i,2] = md[i] + m[i-1,2]\n",
    "    else:\n",
    "        m[i,2] = md[i] + 0\n",
    "    "
   ]
  },
  {
   "cell_type": "code",
   "execution_count": 58,
   "metadata": {},
   "outputs": [],
   "source": [
    "autdf.current_mass = m[:,2]"
   ]
  },
  {
   "cell_type": "code",
   "execution_count": 67,
   "metadata": {},
   "outputs": [],
   "source": [
    "autdf['authordt'] = pd.to_datetime(autdf.date_authored)"
   ]
  },
  {
   "cell_type": "code",
   "execution_count": 81,
   "metadata": {},
   "outputs": [],
   "source": [
    "per = autdf.authordt.dt.to_period(\"M\")"
   ]
  },
  {
   "cell_type": "code",
   "execution_count": 97,
   "metadata": {},
   "outputs": [],
   "source": [
    "massdt = autdf[['current_mass', 'authordt']][(autdf.authordt > '2005-01') & (autdf.authordt <= '2019-01')].groupby(per).sum()"
   ]
  },
  {
   "cell_type": "code",
   "execution_count": 98,
   "metadata": {},
   "outputs": [
    {
     "data": {
      "text/plain": [
       "<matplotlib.axes._subplots.AxesSubplot at 0x147cc3400>"
      ]
     },
     "execution_count": 98,
     "metadata": {},
     "output_type": "execute_result"
    },
    {
     "data": {
      "image/png": "[encoded data removed]",
      "text/plain": [
       "<Figure size 432x288 with 1 Axes>"
      ]
     },
     "metadata": {
      "needs_background": "light"
     },
     "output_type": "display_data"
    }
   ],
   "source": [
    "massdt.plot()"
   ]
  },
  {
   "cell_type": "markdown",
   "metadata": {},
   "source": [
    "## Compute acceleration\n",
    "\n",
    "Compute acceleration over time. Velocity\n",
    "\n",
    "$v = \\frac{d}{t}$\n",
    "\n",
    "Acceleration\n",
    "\n",
    "$a = v \\frac{dx}{dt} = v(x)_{t} - v(x)_{t-1}$\n",
    "\n",
    "In terms of Git\n",
    "\n",
    "$(lines\\_added - lines\\_deleted)_{t} - (lines\\_added - lines\\_deleted)_{t-1} \\forall \\text{ }developers$"
   ]
  },
  {
   "cell_type": "code",
   "execution_count": null,
   "metadata": {},
   "outputs": [],
   "source": []
  },
  {
   "cell_type": "code",
   "execution_count": null,
   "metadata": {},
   "outputs": [],
   "source": []
  },
  {
   "cell_type": "code",
   "execution_count": null,
   "metadata": {},
   "outputs": [],
   "source": []
  },
  {
   "cell_type": "code",
   "execution_count": null,
   "metadata": {},
   "outputs": [],
   "source": []
  }
 ],
 "metadata": {
  "kernelspec": {
   "display_name": "Python 3",
   "language": "python",
   "name": "python3"
  },
  "language_info": {
   "codemirror_mode": {
    "name": "ipython",
    "version": 3
   },
   "file_extension": ".py",
   "mimetype": "text/x-python",
   "name": "python",
   "nbconvert_exporter": "python",
   "pygments_lexer": "ipython3",
   "version": "3.7.2"
  }
 },
 "nbformat": 4,
 "nbformat_minor": 2
}
